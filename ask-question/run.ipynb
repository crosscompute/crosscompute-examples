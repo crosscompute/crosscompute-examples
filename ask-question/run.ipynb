{
 "cells": [
  {
   "cell_type": "code",
   "execution_count": null,
   "id": "87031ba0-dee1-4084-9635-48c4d996c918",
   "metadata": {},
   "outputs": [],
   "source": [
    "from os import getenv, makedirs\n",
    "input_folder = getenv('CROSSCOMPUTE_INPUT_FOLDER', 'tests/standard/input')\n",
    "output_folder = getenv('CROSSCOMPUTE_OUTPUT_FOLDER', 'tests/standard/output')\n",
    "try:\n",
    "    makedirs(output_folder)\n",
    "except OSError:\n",
    "    pass"
   ]
  },
  {
   "cell_type": "code",
   "execution_count": null,
   "id": "d64521e3-2e83-4db7-9a22-a58d7eaaa0e8",
   "metadata": {},
   "outputs": [],
   "source": [
    "from os.path import join\n",
    "question_path = join(input_folder, 'question.txt')\n",
    "question_text = open(question_path, 'rt').read().strip()\n",
    "question_text"
   ]
  },
  {
   "cell_type": "code",
   "execution_count": null,
   "id": "7040de79-33e8-4094-b937-3355775d1280",
   "metadata": {},
   "outputs": [],
   "source": [
    "import re\n",
    "normalized_question_text = re.sub(r'\\W', ' ', question_text).lower()\n",
    "normalized_question_terms = normalized_question_text.split()\n",
    "normalized_question_terms"
   ]
  },
  {
   "cell_type": "code",
   "execution_count": null,
   "id": "e160b35d-5d55-43a4-a577-82bdf002e0a7",
   "metadata": {},
   "outputs": [],
   "source": [
    "if 'who' in normalized_question_terms:\n",
    "    response_text = '*you*'\n",
    "elif 'what' in normalized_question_terms:\n",
    "    response_text = '*that*'\n",
    "elif 'where' in normalized_question_terms:\n",
    "    response_text = '*anywhere*'\n",
    "else:\n",
    "    response_text = '?'"
   ]
  },
  {
   "cell_type": "code",
   "execution_count": null,
   "id": "29682d24-77ba-4735-b65d-e967bef066e0",
   "metadata": {},
   "outputs": [],
   "source": [
    "with open(join(output_folder, 'response.md'), 'wt') as response_file:\n",
    "    response_file.write(response_text)"
   ]
  }
 ],
 "metadata": {
  "kernelspec": {
   "display_name": "Python 3 (ipykernel)",
   "language": "python",
   "name": "python3"
  },
  "language_info": {
   "codemirror_mode": {
    "name": "ipython",
    "version": 3
   },
   "file_extension": ".py",
   "mimetype": "text/x-python",
   "name": "python",
   "nbconvert_exporter": "python",
   "pygments_lexer": "ipython3",
   "version": "3.9.7"
  }
 },
 "nbformat": 4,
 "nbformat_minor": 5
}
