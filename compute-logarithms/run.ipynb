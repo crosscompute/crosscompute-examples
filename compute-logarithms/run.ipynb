{
 "cells": [
  {
   "cell_type": "code",
   "execution_count": null,
   "metadata": {},
   "outputs": [],
   "source": [
    "from os import getenv\n",
    "\n",
    "input_folder = getenv('CROSSCOMPUTE_INPUT_FOLDER', 'tests/base-10/input')\n",
    "output_folder = getenv('CROSSCOMPUTE_OUTPUT_FOLDER', 'tests/base-10/output')"
   ]
  },
  {
   "cell_type": "code",
   "execution_count": null,
   "metadata": {},
   "outputs": [],
   "source": [
    "import json\n",
    "from os.path import join\n",
    "\n",
    "variables_dictionary = json.load(open(join(input_folder, 'variables.dictionary'), 'rt'))\n",
    "variables_dictionary"
   ]
  },
  {
   "cell_type": "code",
   "execution_count": null,
   "metadata": {},
   "outputs": [],
   "source": [
    "base = variables_dictionary['base']\n",
    "start = variables_dictionary['start']\n",
    "stop = variables_dictionary['stop']\n",
    "step = variables_dictionary['step']"
   ]
  },
  {
   "cell_type": "code",
   "execution_count": null,
   "metadata": {},
   "outputs": [],
   "source": [
    "import math\n",
    "\n",
    "packs = []\n",
    "if base == 'e':\n",
    "    base = math.e\n",
    "for x in range(start, stop + step, step):\n",
    "    y = math.log(x, base)\n",
    "    packs.append([x, y])\n",
    "packs"
   ]
  },
  {
   "cell_type": "code",
   "execution_count": null,
   "metadata": {},
   "outputs": [],
   "source": [
    "json.dump({\n",
    "    'columns': ['x', 'y'],\n",
    "    'data': packs,\n",
    "}, open(join(output_folder, 'values.json'), 'wt'))"
   ]
  }
 ],
 "metadata": {
  "kernelspec": {
   "display_name": "Python 3 (ipykernel)",
   "language": "python",
   "name": "python3"
  },
  "language_info": {
   "codemirror_mode": {
    "name": "ipython",
    "version": 3
   },
   "file_extension": ".py",
   "mimetype": "text/x-python",
   "name": "python",
   "nbconvert_exporter": "python",
   "pygments_lexer": "ipython3",
   "version": "3.10.1"
  }
 },
 "nbformat": 4,
 "nbformat_minor": 4
}
