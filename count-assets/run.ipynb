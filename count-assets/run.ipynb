{
 "cells": [
  {
   "cell_type": "code",
   "execution_count": null,
   "metadata": {},
   "outputs": [],
   "source": [
    "# Get settings\n",
    "from os import environ\n",
    "from tempfile import mkdtemp\n",
    "\n",
    "input_folder = environ.get(\n",
    "    'CROSSCOMPUTE_INPUT_FOLDER', 'tests/standard/input')\n",
    "output_folder = environ.get(\n",
    "    'CROSSCOMPUTE_OUTPUT_FOLDER', mkdtemp())"
   ]
  },
  {
   "cell_type": "code",
   "execution_count": null,
   "metadata": {},
   "outputs": [],
   "source": [
    "# Load input\n",
    "import json\n",
    "from os.path import join\n",
    "assets_path = join(input_folder, 'assets.json')\n",
    "assets_dictionary = json.load(open(assets_path, 'rt'))\n",
    "assets_dictionary.keys()"
   ]
  },
  {
   "cell_type": "code",
   "execution_count": null,
   "metadata": {},
   "outputs": [],
   "source": [
    "# Make output\n",
    "assets = assets_dictionary['assets']\n",
    "asset_count = len(assets['assetById'])\n",
    "asset_count"
   ]
  },
  {
   "cell_type": "code",
   "execution_count": null,
   "metadata": {},
   "outputs": [],
   "source": [
    "# Save output\n",
    "properties_path = join(output_folder, 'properties.json')\n",
    "properties_dictionary = {\n",
    "    'asset_count': asset_count,\n",
    "}\n",
    "json.dump(properties_dictionary, open(properties_path, 'wt'))"
   ]
  }
 ],
 "metadata": {
  "kernelspec": {
   "display_name": "Python 3",
   "language": "python",
   "name": "python3"
  },
  "language_info": {
   "codemirror_mode": {
    "name": "ipython",
    "version": 3
   },
   "file_extension": ".py",
   "mimetype": "text/x-python",
   "name": "python",
   "nbconvert_exporter": "python",
   "pygments_lexer": "ipython3",
   "version": "3.8.6"
  }
 },
 "nbformat": 4,
 "nbformat_minor": 4
}
