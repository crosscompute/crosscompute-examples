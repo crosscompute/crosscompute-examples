{
 "cells": [
  {
   "cell_type": "code",
   "execution_count": null,
   "id": "e9720562-5c3f-4c39-a6d3-1ac11b1f54b2",
   "metadata": {},
   "outputs": [],
   "source": [
    "from os import getenv\n",
    "from pathlib import Path\n",
    "   \n",
    "input_folder = Path(getenv(\n",
    "    'CROSSCOMPUTE_INPUT_FOLDER', 'batches/standard/input'))\n",
    "output_folder = Path(getenv(\n",
    "    'CROSSCOMPUTE_OUTPUT_FOLDER', 'batches/standard/output'))\n",
    "output_folder.mkdir(parents=True, exist_ok=True)"
   ]
  },
  {
   "cell_type": "code",
   "execution_count": null,
   "id": "1d861902-c3f6-423a-b58a-f6b4ed3ef2e8",
   "metadata": {},
   "outputs": [],
   "source": [
    "document_text = (input_folder / 'document.txt').read_text().strip()\n",
    "document_text"
   ]
  },
  {
   "cell_type": "code",
   "execution_count": null,
   "id": "98946958-b541-490a-a750-a86e029b7621",
   "metadata": {},
   "outputs": [],
   "source": [
    "words = document_text.split()\n",
    "words"
   ]
  },
  {
   "cell_type": "code",
   "execution_count": null,
   "id": "cc9991d9-d511-47e5-8db5-4ae5f5f133e4",
   "metadata": {},
   "outputs": [],
   "source": [
    "from collections import Counter\n",
    "\n",
    "count_by_word = Counter(words)\n",
    "count_by_word"
   ]
  },
  {
   "cell_type": "code",
   "execution_count": null,
   "id": "84ab748c-760c-4234-973b-4f72bd1be4fc",
   "metadata": {},
   "outputs": [],
   "source": [
    "word_count = len(words)\n",
    "word_count"
   ]
  },
  {
   "cell_type": "code",
   "execution_count": null,
   "id": "a6c73d4a-8320-4d15-83ca-39d2658f1420",
   "metadata": {},
   "outputs": [],
   "source": [
    "import json\n",
    "\n",
    "with (output_folder / 'variables.dictionary').open('wt') as f:\n",
    "    json.dump({'word_count': word_count}, f)"
   ]
  },
  {
   "cell_type": "code",
   "execution_count": null,
   "id": "eab86932-c9db-44d7-a597-478b786a816a",
   "metadata": {},
   "outputs": [],
   "source": [
    "from pandas import DataFrame\n",
    "\n",
    "word_count_table = DataFrame(count_by_word.items(), columns=['word', 'count'])\n",
    "word_count_table.to_json(output_folder / 'word_counts.json', orient='split', index=False)"
   ]
  }
 ],
 "metadata": {
  "kernelspec": {
   "display_name": "Python 3 (ipykernel)",
   "language": "python",
   "name": "python3"
  },
  "language_info": {
   "codemirror_mode": {
    "name": "ipython",
    "version": 3
   },
   "file_extension": ".py",
   "mimetype": "text/x-python",
   "name": "python",
   "nbconvert_exporter": "python",
   "pygments_lexer": "ipython3",
   "version": "3.11.2"
  }
 },
 "nbformat": 4,
 "nbformat_minor": 5
}
