{
 "cells": [
  {
   "cell_type": "code",
   "execution_count": null,
   "id": "b2817c2a-5c38-4ebc-b72a-8f6edd16377a",
   "metadata": {},
   "outputs": [],
   "source": [
    "from os import getenv\n",
    "from pathlib import Path\n",
    "\n",
    "input_folder = Path(getenv(\n",
    "    'CROSSCOMPUTE_INPUT_FOLDER', 'tests/standard/input'))\n",
    "output_folder = Path(getenv(\n",
    "    'CROSSCOMPUTE_OUTPUT_FOLDER', 'tests/standard/output'))\n",
    "log_folder = Path(getenv(\n",
    "    'CROSSCOMPUTE_LOG_FOLDER', 'tests/standard/log'))\n",
    "\n",
    "output_folder.mkdir(parents=True, exist_ok=True)\n",
    "log_folder.mkdir(parents=True, exist_ok=True)"
   ]
  },
  {
   "cell_type": "code",
   "execution_count": null,
   "id": "fd368001-e99d-4ba5-871b-b7170b4016e3",
   "metadata": {},
   "outputs": [],
   "source": [
    "GOOGLE_KEY = getenv('GOOGLE_KEY')"
   ]
  },
  {
   "cell_type": "code",
   "execution_count": null,
   "id": "d192d416-d81c-425b-8356-ced03add23c1",
   "metadata": {},
   "outputs": [],
   "source": [
    "import json\n",
    "\n",
    "with (input_folder / 'variables.dictionary').open('rt') as f:\n",
    "    d = json.load(f)\n",
    "districts_uri = d['districts_uri']\n",
    "destination_address = d['destination_address']\n",
    "travel_mode = d['travel_mode']\n",
    "travel_name = {\n",
    "    'driving': 'car',\n",
    "    'transit': 'public transit',\n",
    "}[travel_mode]"
   ]
  },
  {
   "cell_type": "code",
   "execution_count": null,
   "id": "2eb74e35-59e1-4911-b223-91a9a4811d6f",
   "metadata": {},
   "outputs": [],
   "source": [
    "from hashlib import blake2b\n",
    "\n",
    "def get_hash(text):\n",
    "    h = blake2b()\n",
    "    h.update(text.encode())\n",
    "    return h.hexdigest()"
   ]
  },
  {
   "cell_type": "code",
   "execution_count": null,
   "id": "236e5cb6-5438-4c61-b718-a4ef2c99bae2",
   "metadata": {},
   "outputs": [],
   "source": [
    "from shapely.geometry import mapping, shape\n",
    "\n",
    "SIMPLIFICATION_TOLERANCE = 0.001\n",
    "\n",
    "def simplify_feature(feature):\n",
    "    raw_geometry = shape(feature['geometry'])\n",
    "    simplified_geometry = raw_geometry.simplify(SIMPLIFICATION_TOLERANCE)\n",
    "    feature['geometry'] = mapping(simplified_geometry)\n",
    "    return feature"
   ]
  },
  {
   "cell_type": "code",
   "execution_count": null,
   "id": "16e9deeb-5687-41a4-90c7-4b6710b1a359",
   "metadata": {},
   "outputs": [],
   "source": [
    "import json\n",
    "from urllib.request import urlretrieve as download_url\n",
    "\n",
    "datasets_folder = Path('datasets')\n",
    "districts_path = (\n",
    "    datasets_folder / 'districts' / get_hash(districts_uri)\n",
    ").with_suffix('.json')\n",
    "if not districts_path.exists():\n",
    "    districts_path.parent.mkdir(parents=True, exist_ok=True)\n",
    "    raw_path = districts_path.with_suffix('.raw')\n",
    "    download_url(districts_uri, raw_path)\n",
    "    with raw_path.open('rt') as f:\n",
    "        d = json.load(f)\n",
    "        d['features'] = features = [simplify_feature(_) for _ in d['features']]\n",
    "    with districts_path.open('wt') as f:\n",
    "        json.dump(d, f)\n",
    "else:\n",
    "    with districts_path.open('rt') as f:\n",
    "        d = json.load(f)\n",
    "        features = d['features']\n",
    "districts_collection = d\n",
    "len(features)"
   ]
  },
  {
   "cell_type": "code",
   "execution_count": null,
   "id": "570c4f34-ef69-433b-b345-1166ac0883ea",
   "metadata": {},
   "outputs": [],
   "source": [
    "# ll $districts_path.parent -h"
   ]
  },
  {
   "cell_type": "code",
   "execution_count": null,
   "id": "ac7f1e12-c45d-41cc-8e63-b444221f01e2",
   "metadata": {},
   "outputs": [],
   "source": [
    "# rm $districts_path"
   ]
  },
  {
   "cell_type": "code",
   "execution_count": null,
   "id": "2687add2-9eb1-475f-a947-389399af3ce5",
   "metadata": {},
   "outputs": [],
   "source": [
    "import requests\n",
    "\n",
    "def get_travel_packs(origin_strings, destination_strings):\n",
    "    endpoint_uri = 'https://maps.googleapis.com/maps/api/distancematrix/json'\n",
    "    origins_string = '|'.join(origin_strings)\n",
    "    destinations_string = '|'.join(destination_strings)\n",
    "    uri = f'{endpoint_uri}?origins={origins_string}&destinations={destinations_string}&key={GOOGLE_KEY}'\n",
    "    response = requests.get(uri)\n",
    "    d = response.json()\n",
    "    origin_addresses = d['origin_addresses']\n",
    "    travel_packs = []\n",
    "    for origin_address, row in zip(origin_addresses, d['rows']):\n",
    "        travel_packs.append((origin_address, row['elements'][0]['duration']['value']))\n",
    "    return travel_packs"
   ]
  },
  {
   "cell_type": "code",
   "execution_count": null,
   "id": "095848a5-e123-4447-b01a-b12162ddf2a9",
   "metadata": {},
   "outputs": [],
   "source": [
    "def get_coordinate_string(coordinates):\n",
    "    return ','.join(str(_) for _ in reversed(coordinates))\n",
    "\n",
    "get_coordinate_string((0, 1))"
   ]
  },
  {
   "cell_type": "code",
   "execution_count": null,
   "id": "6859e84b-14d6-4b24-af28-bc629fa9c07d",
   "metadata": {},
   "outputs": [],
   "source": [
    "def get_random_point(geometry, count):\n",
    "    pass\n",
    "\n",
    "def get_sample_points(geometry, sample_size):\n",
    "    # TODO: Use sample size\n",
    "    return [geometry.centroid.coords[0]]"
   ]
  },
  {
   "cell_type": "code",
   "execution_count": null,
   "id": "62188a73-93c9-4aac-a8b0-fdb38c3b6904",
   "metadata": {},
   "outputs": [],
   "source": [
    "def split(l, s):\n",
    "    for i in range(0, len(l), s):\n",
    "        yield l[i:i + s]"
   ]
  },
  {
   "cell_type": "code",
   "execution_count": null,
   "id": "a47bb6ea-9598-447e-a800-f5da1e05dd2f",
   "metadata": {},
   "outputs": [],
   "source": [
    "import math\n",
    "\n",
    "GOOGLE_DISTANCE_MATRIX_MAXIMUM_COUNT = 25\n",
    "SAMPLE_SIZE = 1\n",
    "\n",
    "destination_addresses = [destination_address]\n",
    "origin_packs = []\n",
    "for some_features in split(features, GOOGLE_DISTANCE_MATRIX_MAXIMUM_COUNT):\n",
    "    origins = []\n",
    "    for feature in some_features:\n",
    "        x = feature['geometry']\n",
    "        g = shape(x)\n",
    "        origins.extend(get_sample_points(g, SAMPLE_SIZE))\n",
    "    origin_strings = [get_coordinate_string(_) for _ in origins]\n",
    "    destination_strings = destination_addresses\n",
    "    travel_packs = get_travel_packs(origin_strings, destination_strings)\n",
    "    for some_travel_packs, feature in zip(split(travel_packs, SAMPLE_COUNT), some_features):\n",
    "        ts = []\n",
    "        for origin_address, time_in_seconds in some_travel_packs:\n",
    "            origin_packs.append((origin_address, time_in_seconds))\n",
    "            ts.append(time_in_seconds)\n",
    "        time_in_seconds = sum(ts) / len(ts)\n",
    "        time_in_minutes = math.ceil(time_in_seconds / 60)\n",
    "        feature['properties'] = {\n",
    "            't': time_in_minutes,\n",
    "        }"
   ]
  },
  {
   "cell_type": "code",
   "execution_count": null,
   "id": "671108b6-7d3b-47d3-a0a2-b32ee8935586",
   "metadata": {},
   "outputs": [],
   "source": [
    "with (output_folder / 'map.geojson').open('wt') as f:\n",
    "    json.dump(districts_collection, f)"
   ]
  },
  {
   "cell_type": "code",
   "execution_count": null,
   "id": "17011645-fb61-4e3f-b63c-073354807dfb",
   "metadata": {},
   "outputs": [],
   "source": [
    "ts = [_['properties']['t'] for _ in features]\n",
    "len(ts)"
   ]
  },
  {
   "cell_type": "code",
   "execution_count": null,
   "id": "919ddf48-924a-4eee-8d51-8e530cf7bcb6",
   "metadata": {},
   "outputs": [],
   "source": [
    "import matplotlib.pyplot as plt\n",
    "plt.hist(ts, bins=10)\n",
    "plt.title(f'Time to {destination_address} by {travel_name.title()}')\n",
    "plt.xlabel(f'minutes')\n",
    "plt.savefig(output_folder / 'histogram.png')"
   ]
  }
 ],
 "metadata": {
  "kernelspec": {
   "display_name": "Python 3 (ipykernel)",
   "language": "python",
   "name": "python3"
  },
  "language_info": {
   "codemirror_mode": {
    "name": "ipython",
    "version": 3
   },
   "file_extension": ".py",
   "mimetype": "text/x-python",
   "name": "python",
   "nbconvert_exporter": "python",
   "pygments_lexer": "ipython3",
   "version": "3.10.5"
  }
 },
 "nbformat": 4,
 "nbformat_minor": 5
}
