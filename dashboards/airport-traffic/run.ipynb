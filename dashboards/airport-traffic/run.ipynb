{
 "cells": [
  {
   "cell_type": "code",
   "execution_count": null,
   "id": "b2817c2a-5c38-4ebc-b72a-8f6edd16377a",
   "metadata": {},
   "outputs": [],
   "source": [
    "from os import getenv\n",
    "from pathlib import Path\n",
    "\n",
    "input_folder = Path(getenv(\n",
    "    'CROSSCOMPUTE_INPUT_FOLDER', 'tests/standard/input'))\n",
    "output_folder = Path(getenv(\n",
    "    'CROSSCOMPUTE_OUTPUT_FOLDER', 'tests/standard/output'))\n",
    "\n",
    "output_folder.mkdir(parents=True, exist_ok=True)"
   ]
  },
  {
   "cell_type": "code",
   "execution_count": null,
   "id": "fd368001-e99d-4ba5-871b-b7170b4016e3",
   "metadata": {},
   "outputs": [],
   "source": [
    "GOOGLE_KEY = getenv('GOOGLE_KEY')"
   ]
  },
  {
   "cell_type": "code",
   "execution_count": null,
   "id": "d192d416-d81c-425b-8356-ced03add23c1",
   "metadata": {},
   "outputs": [],
   "source": [
    "import json\n",
    "\n",
    "with (input_folder / 'variables.dictionary').open('rt') as f:\n",
    "    d = json.load(f)\n",
    "districts_uri = d['districts_uri']\n",
    "destination_address = d['destination_address']\n",
    "travel_mode = d['travel_mode']\n",
    "travel_name = {\n",
    "    'driving': 'car',\n",
    "    'transit': 'public transit',\n",
    "}[travel_mode]"
   ]
  },
  {
   "cell_type": "code",
   "execution_count": null,
   "id": "2eb74e35-59e1-4911-b223-91a9a4811d6f",
   "metadata": {},
   "outputs": [],
   "source": [
    "from hashlib import blake2b\n",
    "\n",
    "def get_hash(text):\n",
    "    h = blake2b()\n",
    "    h.update(text.encode())\n",
    "    return h.hexdigest()"
   ]
  },
  {
   "cell_type": "code",
   "execution_count": null,
   "id": "236e5cb6-5438-4c61-b718-a4ef2c99bae2",
   "metadata": {},
   "outputs": [],
   "source": [
    "from shapely.geometry import mapping, shape\n",
    "\n",
    "def simplify_feature(feature, tolerance):\n",
    "    raw_geometry = shape(feature['geometry'])\n",
    "    simplified_geometry = raw_geometry.simplify(tolerance)\n",
    "    feature['geometry'] = mapping(simplified_geometry)\n",
    "    return feature"
   ]
  },
  {
   "cell_type": "code",
   "execution_count": null,
   "id": "16e9deeb-5687-41a4-90c7-4b6710b1a359",
   "metadata": {},
   "outputs": [],
   "source": [
    "import json\n",
    "from urllib.request import urlretrieve as download_uri\n",
    "\n",
    "SIMPLIFICATION_TOLERANCE = 0.001\n",
    "\n",
    "datasets_folder = Path('datasets')\n",
    "districts_path = (\n",
    "    datasets_folder / 'districts' / get_hash(districts_uri)\n",
    ").with_suffix('.json')\n",
    "if not districts_path.exists():\n",
    "    districts_path.parent.mkdir(parents=True, exist_ok=True)\n",
    "    raw_path = districts_path.with_suffix('.raw')\n",
    "    download_uri(districts_uri, raw_path)\n",
    "    with raw_path.open('rt') as f:\n",
    "        d = json.load(f)\n",
    "        d['features'] = features = [simplify_feature(\n",
    "            _, SIMPLIFICATION_TOLERANCE) for _ in d['features']]\n",
    "    with districts_path.open('wt') as f:\n",
    "        json.dump(d, f)\n",
    "else:\n",
    "    with districts_path.open('rt') as f:\n",
    "        d = json.load(f)\n",
    "        features = d['features']\n",
    "districts_geojson = d\n",
    "len(features)"
   ]
  },
  {
   "cell_type": "code",
   "execution_count": null,
   "id": "570c4f34-ef69-433b-b345-1166ac0883ea",
   "metadata": {},
   "outputs": [],
   "source": [
    "# ll $districts_path.parent -h"
   ]
  },
  {
   "cell_type": "code",
   "execution_count": null,
   "id": "ac7f1e12-c45d-41cc-8e63-b444221f01e2",
   "metadata": {},
   "outputs": [],
   "source": [
    "# rm $districts_path"
   ]
  },
  {
   "cell_type": "code",
   "execution_count": null,
   "id": "2687add2-9eb1-475f-a947-389399af3ce5",
   "metadata": {},
   "outputs": [],
   "source": [
    "import requests\n",
    "import sys\n",
    "\n",
    "def get_travel_packs(origin_strings, destination_strings):\n",
    "    endpoint_uri = 'https://maps.googleapis.com/maps/api/distancematrix/json'\n",
    "    origins_string = '|'.join(origin_strings)\n",
    "    destinations_string = '|'.join(destination_strings)\n",
    "    uri = f'{endpoint_uri}?origins={origins_string}&destinations={destinations_string}&key={GOOGLE_KEY}'\n",
    "    response = requests.get(uri)\n",
    "    d = response.json()\n",
    "    if d['status'] != 'OK':\n",
    "        print(d, file=sys.stderr)\n",
    "    origin_addresses = d['origin_addresses']\n",
    "    travel_packs = []\n",
    "    for origin_address, row in zip(origin_addresses, d['rows']):\n",
    "        travel_packs.append((\n",
    "            origin_address,\n",
    "            row['elements'][0]['duration']['value']))\n",
    "    return travel_packs"
   ]
  },
  {
   "cell_type": "code",
   "execution_count": null,
   "id": "095848a5-e123-4447-b01a-b12162ddf2a9",
   "metadata": {},
   "outputs": [],
   "source": [
    "from shapely.geometry import Point\n",
    "\n",
    "def get_coordinate_string(point):\n",
    "    return ','.join(str(_) for _ in reversed(point.coords[0]))\n",
    "\n",
    "get_coordinate_string(Point(0, 1))"
   ]
  },
  {
   "cell_type": "code",
   "execution_count": null,
   "id": "62188a73-93c9-4aac-a8b0-fdb38c3b6904",
   "metadata": {},
   "outputs": [],
   "source": [
    "def split(l, s):\n",
    "    l = list(l)\n",
    "    for i in range(0, len(l), s):\n",
    "        yield l[i:i + s]"
   ]
  },
  {
   "cell_type": "code",
   "execution_count": null,
   "id": "3beffba4-7bde-4c55-8426-66ec762732d2",
   "metadata": {},
   "outputs": [],
   "source": [
    "origin_points = []\n",
    "origin_indices = []\n",
    "for index, feature in enumerate(features):\n",
    "    geometry = shape(feature['geometry'])\n",
    "    sample_points = [geometry.representative_point()]\n",
    "    origin_points.extend(sample_points)\n",
    "    origin_indices.extend([index] * len(sample_points))"
   ]
  },
  {
   "cell_type": "code",
   "execution_count": null,
   "id": "8cd85c9c-48bd-4b1a-b398-296a39d505d5",
   "metadata": {},
   "outputs": [],
   "source": [
    "import math\n",
    "\n",
    "GOOGLE_DISTANCE_MATRIX_MAXIMUM_COUNT = 25\n",
    "time_packs = []\n",
    "destination_strings = [destination_address]\n",
    "\n",
    "for some_origin_packs in split(zip(\n",
    "    origin_points,\n",
    "    origin_indices,\n",
    "), GOOGLE_DISTANCE_MATRIX_MAXIMUM_COUNT):\n",
    "    some_origin_points, some_origin_indices = zip(*some_origin_packs)\n",
    "    some_origin_strings = [get_coordinate_string(_) for _ in some_origin_points]\n",
    "    travel_packs = get_travel_packs(some_origin_strings, destination_strings)\n",
    "    print(f'{len(some_origin_points} origins, {len(travel_packs)} times')\n",
    "    for index, (origin_address, time_in_seconds) in zip(some_origin_indices, travel_packs):\n",
    "        time_packs.append((origin_address, time_in_seconds))\n",
    "        feature = features[index]\n",
    "        feature['properties'] = {'t': math.ceil(time_in_seconds / 60)}"
   ]
  },
  {
   "cell_type": "code",
   "execution_count": null,
   "id": "671108b6-7d3b-47d3-a0a2-b32ee8935586",
   "metadata": {},
   "outputs": [],
   "source": [
    "with (output_folder / 'map.geojson').open('wt') as f:\n",
    "    json.dump(districts_geojson, f)"
   ]
  },
  {
   "cell_type": "code",
   "execution_count": null,
   "id": "6289af9e-83df-4390-82eb-4a025213a405",
   "metadata": {},
   "outputs": [],
   "source": [
    "ts = [_['properties']['t'] for _ in features]\n",
    "len(ts)"
   ]
  },
  {
   "cell_type": "code",
   "execution_count": null,
   "id": "919ddf48-924a-4eee-8d51-8e530cf7bcb6",
   "metadata": {},
   "outputs": [],
   "source": [
    "import matplotlib.pyplot as plt\n",
    "from matplotlib.colors import LinearSegmentedColormap\n",
    "\n",
    "REFERENCE_TIME_IN_MINUTES = 60\n",
    "\n",
    "px = 1 / plt.rcParams['figure.dpi']\n",
    "plt.figure(figsize=(800 * px, 200 * px))\n",
    "n, bins, patches = plt.hist(ts, bins=10)\n",
    "bin_centers = 0.5 * (bins[:-1] + bins[1:])\n",
    "color_indices = bin_centers / REFERENCE_TIME_IN_MINUTES\n",
    "color_map = LinearSegmentedColormap.from_list('', ['blue', 'red'])\n",
    "for i, p in zip(color_indices, patches):\n",
    "    plt.setp(p, 'facecolor', color_map(i))\n",
    "plt.title(f'Time to {destination_address} by {travel_name.title()}')\n",
    "plt.xlabel(f'minutes')\n",
    "plt.tight_layout()\n",
    "plt.savefig(output_folder / 'histogram.png')"
   ]
  },
  {
   "cell_type": "code",
   "execution_count": null,
   "id": "bc48ad93-017e-4267-b4aa-14409e18b9d1",
   "metadata": {},
   "outputs": [],
   "source": [
    "import csv\n",
    "from datetime import datetime\n",
    "\n",
    "timestamp = datetime.now().strftime('%Y%m%d-%H%M%S')\n",
    "times_name = f'{timestamp}-{get_hash(destination_address)}'\n",
    "times_path = (datasets_folder / 'times' / times_name).with_suffix('.csv')\n",
    "times_path.parent.mkdir(parents=True, exist_ok=True)\n",
    "with times_path.open('wt') as f:\n",
    "    csv_writer = csv.writer(f)\n",
    "    csv_writer.writerow(['origin_address', 'time_in_seconds'])\n",
    "    csv_writer.writerows(time_packs)"
   ]
  }
 ],
 "metadata": {
  "kernelspec": {
   "display_name": "Python 3 (ipykernel)",
   "language": "python",
   "name": "python3"
  },
  "language_info": {
   "codemirror_mode": {
    "name": "ipython",
    "version": 3
   },
   "file_extension": ".py",
   "mimetype": "text/x-python",
   "name": "python",
   "nbconvert_exporter": "python",
   "pygments_lexer": "ipython3",
   "version": "3.10.7"
  }
 },
 "nbformat": 4,
 "nbformat_minor": 5
}
