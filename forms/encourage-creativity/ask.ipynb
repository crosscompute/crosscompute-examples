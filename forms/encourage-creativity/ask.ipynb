{
 "cells": [
  {
   "cell_type": "markdown",
   "metadata": {},
   "source": [
    "Would you like to be more creative in your day-to-day life?\n",
    "\n",
    "- Yes\n",
    "- No\n",
    "\n",
    "{wants_change}"
   ]
  },
  {
   "cell_type": "code",
   "execution_count": null,
   "metadata": {},
   "outputs": [],
   "source": [
    "def show_next(wants_change):\n",
    "    if wants_change == 'Yes':\n",
    "        return True, {'wants_change': 'Great!'}\n",
    "    return False, {'wants_change': 'Awww'}"
   ]
  },
  {
   "cell_type": "markdown",
   "metadata": {},
   "source": [
    "Which of the following activities would like to do less often?\n",
    "\n",
    "- Watching television, videos, movies\n",
    "- Scrolling social media\n",
    "- Playing video games\n",
    "\n",
    "{current_habit}"
   ]
  },
  {
   "cell_type": "markdown",
   "metadata": {},
   "source": [
    "What specific habit would you like to start today that will make your life more creative?\n",
    "\n",
    "{desired_habit}"
   ]
  },
  {
   "cell_type": "markdown",
   "metadata": {},
   "source": [
    "When would you like to receive a reminder on your new creativity habit?\n",
    "\n",
    "{reminder_when}"
   ]
  }
 ],
 "metadata": {
  "kernelspec": {
   "display_name": "Python 3",
   "language": "python",
   "name": "python3"
  },
  "language_info": {
   "codemirror_mode": {
    "name": "ipython",
    "version": 3
   },
   "file_extension": ".py",
   "mimetype": "text/x-python",
   "name": "python",
   "nbconvert_exporter": "python",
   "pygments_lexer": "ipython3",
   "version": "3.8.10"
  }
 },
 "nbformat": 4,
 "nbformat_minor": 4
}
