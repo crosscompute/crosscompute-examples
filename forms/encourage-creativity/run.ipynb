{
 "cells": [
  {
   "cell_type": "code",
   "execution_count": null,
   "metadata": {},
   "outputs": [],
   "source": [
    "# TODO: Add comments\n",
    "\n",
    "from os import environ\n",
    "input_folder = environ.get('CROSSCOMPUTE_INPUT_FOLDER', 'tests/change/input')\n",
    "output_folder = environ.get('CROSSCOMPUTE_OUTPUT_FOLDER', 'tests/change/output')"
   ]
  },
  {
   "cell_type": "code",
   "execution_count": null,
   "metadata": {},
   "outputs": [],
   "source": [
    "import json\n",
    "from os.path import join\n",
    "d = json.load(open(join(input_folder, 'variables.json'), 'rt'))\n",
    "d"
   ]
  },
  {
   "cell_type": "code",
   "execution_count": null,
   "metadata": {},
   "outputs": [],
   "source": [
    "if d['wants_change'] == 'No':\n",
    "    summary_text = 'You do not want to add more creativity to your life *at this time*.'\n",
    "else:\n",
    "    summary_text = (\n",
    "        'Instead of\\n{current_habit}\\n'\n",
    "        'you will\\n{desired_habit}\\nand '\n",
    "        'we will ask you how you like your new creativity habit on\\n{reminder_when}'\n",
    "    ).format(**d)\n",
    "print(summary_text)"
   ]
  },
  {
   "cell_type": "code",
   "execution_count": null,
   "metadata": {},
   "outputs": [],
   "source": [
    "from os.path import join\n",
    "summary_path = join(output_folder, 'summary.md')\n",
    "with open(summary_path, 'wt') as summary_file:\n",
    "    summary_file.write(summary_text)"
   ]
  }
 ],
 "metadata": {
  "kernelspec": {
   "display_name": "Python 3",
   "language": "python",
   "name": "python3"
  },
  "language_info": {
   "codemirror_mode": {
    "name": "ipython",
    "version": 3
   },
   "file_extension": ".py",
   "mimetype": "text/x-python",
   "name": "python",
   "nbconvert_exporter": "python",
   "pygments_lexer": "ipython3",
   "version": "3.8.10"
  }
 },
 "nbformat": 4,
 "nbformat_minor": 4
}
