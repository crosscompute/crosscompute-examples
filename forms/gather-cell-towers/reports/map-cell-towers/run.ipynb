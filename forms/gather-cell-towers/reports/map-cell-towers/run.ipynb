{
 "cells": [
  {
   "cell_type": "code",
   "execution_count": null,
   "id": "87752cff-ac26-4921-815a-dd88699d1206",
   "metadata": {},
   "outputs": [],
   "source": [
    "from os import getenv\n",
    "from pathlib import Path\n",
    "output_folder = Path(getenv(\n",
    "    'CROSSCOMPUTE_OUTPUT_FOLDER', 'batches/standard/output'))\n",
    "output_folder.mkdir(parents=True, exist_ok=True)"
   ]
  },
  {
   "cell_type": "code",
   "execution_count": null,
   "id": "efc8ba71-c137-4679-8bda-2e276b83f23d",
   "metadata": {},
   "outputs": [],
   "source": [
    "datasets_folder = Path('datasets')\n",
    "runs_folder = datasets_folder / 'runs'"
   ]
  },
  {
   "cell_type": "code",
   "execution_count": null,
   "id": "48c74bf1-15ed-40b1-980a-35b6fd3d1cd6",
   "metadata": {},
   "outputs": [],
   "source": [
    "import pandas as pd\n",
    "import sys\n",
    "cell_towers_path = datasets_folder / 'cell-towers.csv'\n",
    "try:\n",
    "    cell_towers_table = pd.read_csv(cell_towers_path)\n",
    "except OSError:\n",
    "    sys.stderr.write(f'could not open {cell_towers_path}')"
   ]
  },
  {
   "cell_type": "code",
   "execution_count": null,
   "id": "f299366e-39d2-4d6f-a438-eb08aeef307f",
   "metadata": {},
   "outputs": [],
   "source": [
    "import json\n",
    "entries = []\n",
    "for run_folder in runs_folder.glob('*'):\n",
    "    path = run_folder / 'input' / 'variables.dictionary'\n",
    "    with path.open('rt') as f:\n",
    "        entries.append(json.load(f))\n",
    "len(entries)"
   ]
  },
  {
   "cell_type": "code",
   "execution_count": null,
   "id": "7fc3cd37-97a0-4da6-bc9d-c32e05b40cbc",
   "metadata": {},
   "outputs": [],
   "source": [
    "features = []\n",
    "features.extend({\n",
    "    'type': 'Feature',\n",
    "    'geometry': {'type': 'Point', 'coordinates': _},\n",
    "    'properties': {},\n",
    "} for _ in cell_towers_table[['X', 'Y']].values.tolist())\n",
    "features.extend({\n",
    "    'type': 'Feature',\n",
    "    'geometry': {'type': 'Point', 'coordinates': _['location']['center']},\n",
    "    'properties': {'is_contributed': 1},\n",
    "} for _ in entries)"
   ]
  },
  {
   "cell_type": "code",
   "execution_count": null,
   "id": "39f3f4cc-a92f-45e1-a7ec-08a84dab5455",
   "metadata": {},
   "outputs": [],
   "source": [
    "with (output_folder / 'locations.geojson').open('wt') as f:\n",
    "    json.dump({'type': 'FeatureCollection', 'features': features}, f)"
   ]
  }
 ],
 "metadata": {
  "kernelspec": {
   "display_name": "Python 3 (ipykernel)",
   "language": "python",
   "name": "python3"
  },
  "language_info": {
   "codemirror_mode": {
    "name": "ipython",
    "version": 3
   },
   "file_extension": ".py",
   "mimetype": "text/x-python",
   "name": "python",
   "nbconvert_exporter": "python",
   "pygments_lexer": "ipython3",
   "version": "3.10.5"
  }
 },
 "nbformat": 4,
 "nbformat_minor": 5
}
