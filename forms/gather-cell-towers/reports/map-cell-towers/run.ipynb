{
 "cells": [
  {
   "cell_type": "code",
   "execution_count": 17,
   "id": "87752cff-ac26-4921-815a-dd88699d1206",
   "metadata": {},
   "outputs": [],
   "source": [
    "from os import getenv\n",
    "from pathlib import Path\n",
    "output_folder = Path(getenv(\n",
    "    'CROSSCOMPUTE_OUTPUT_FOLDER', 'batches/standard/output'))\n",
    "output_folder.mkdir(parents=True, exist_ok=True)"
   ]
  },
  {
   "cell_type": "code",
   "execution_count": 18,
   "id": "efc8ba71-c137-4679-8bda-2e276b83f23d",
   "metadata": {},
   "outputs": [
    {
     "data": {
      "text/plain": [
       "PosixPath('datasets')"
      ]
     },
     "execution_count": 18,
     "metadata": {},
     "output_type": "execute_result"
    }
   ],
   "source": [
    "datasets_folder = Path('datasets')\n",
    "datasets_folder"
   ]
  },
  {
   "cell_type": "code",
   "execution_count": 19,
   "id": "f299366e-39d2-4d6f-a438-eb08aeef307f",
   "metadata": {},
   "outputs": [
    {
     "data": {
      "text/plain": [
       "1"
      ]
     },
     "execution_count": 19,
     "metadata": {},
     "output_type": "execute_result"
    }
   ],
   "source": [
    "import json\n",
    "entries = []\n",
    "for run_folder in datasets_folder.glob('*'):\n",
    "    path = run_folder / 'input' / 'variables.dictionary'\n",
    "    with path.open('rt') as f:\n",
    "        entries.append(json.load(f))\n",
    "len(entries)"
   ]
  },
  {
   "cell_type": "code",
   "execution_count": 20,
   "id": "39f3f4cc-a92f-45e1-a7ec-08a84dab5455",
   "metadata": {},
   "outputs": [],
   "source": [
    "with (output_folder / 'locations.geojson').open('wt') as f:\n",
    "    json.dump({\n",
    "        'type': 'FeatureCollection',\n",
    "        'features': [{\n",
    "            'type': 'Feature',\n",
    "            'geometry': {\n",
    "                'type': 'Point',\n",
    "                'coordinates': _['location']['center'],\n",
    "            },\n",
    "            'properties': {},\n",
    "        } for _ in entries],\n",
    "    }, f)"
   ]
  }
 ],
 "metadata": {
  "kernelspec": {
   "display_name": "Python 3 (ipykernel)",
   "language": "python",
   "name": "python3"
  },
  "language_info": {
   "codemirror_mode": {
    "name": "ipython",
    "version": 3
   },
   "file_extension": ".py",
   "mimetype": "text/x-python",
   "name": "python",
   "nbconvert_exporter": "python",
   "pygments_lexer": "ipython3",
   "version": "3.10.5"
  }
 },
 "nbformat": 4,
 "nbformat_minor": 5
}
