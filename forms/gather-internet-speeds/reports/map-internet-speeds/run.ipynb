{
 "cells": [
  {
   "cell_type": "code",
   "execution_count": 21,
   "id": "87752cff-ac26-4921-815a-dd88699d1206",
   "metadata": {},
   "outputs": [],
   "source": [
    "from os import getenv\n",
    "from pathlib import Path\n",
    "output_folder = Path(getenv(\n",
    "    'CROSSCOMPUTE_OUTPUT_FOLDER', 'batches/standard/output'))\n",
    "output_folder.mkdir(parents=True, exist_ok=True)"
   ]
  },
  {
   "cell_type": "code",
   "execution_count": 22,
   "id": "efc8ba71-c137-4679-8bda-2e276b83f23d",
   "metadata": {},
   "outputs": [
    {
     "data": {
      "text/plain": [
       "PosixPath('datasets')"
      ]
     },
     "execution_count": 22,
     "metadata": {},
     "output_type": "execute_result"
    }
   ],
   "source": [
    "datasets_folder = Path('datasets')\n",
    "datasets_folder"
   ]
  },
  {
   "cell_type": "code",
   "execution_count": 23,
   "id": "f299366e-39d2-4d6f-a438-eb08aeef307f",
   "metadata": {},
   "outputs": [
    {
     "data": {
      "text/plain": [
       "5"
      ]
     },
     "execution_count": 23,
     "metadata": {},
     "output_type": "execute_result"
    }
   ],
   "source": [
    "import json\n",
    "entries = []\n",
    "for run_folder in datasets_folder.glob('*'):\n",
    "    path = run_folder / 'input' / 'variables.dictionary'\n",
    "    with path.open('rt') as f:\n",
    "        entries.append(json.load(f))\n",
    "len(entries)"
   ]
  },
  {
   "cell_type": "code",
   "execution_count": 24,
   "id": "53cc14a3-1d95-44fa-9f19-cdb704958f47",
   "metadata": {},
   "outputs": [],
   "source": [
    "from collections import defaultdict\n",
    "download_speeds_by_center = defaultdict(list)\n",
    "upload_speeds_by_center = defaultdict(list)\n",
    "for entry in entries:\n",
    "    center = tuple(entry['service-location']['center'])\n",
    "    download_speed = entry['download-speed']\n",
    "    download_speeds_by_center[center].append(download_speed)\n",
    "    upload_speed = entry['upload-speed']\n",
    "    upload_speeds_by_center[center].append(upload_speed)"
   ]
  },
  {
   "cell_type": "code",
   "execution_count": 25,
   "id": "39f3f4cc-a92f-45e1-a7ec-08a84dab5455",
   "metadata": {},
   "outputs": [],
   "source": [
    "import numpy as np\n",
    "\n",
    "def save_average_speeds(name, speeds_by_center):\n",
    "    rows = [[\n",
    "        center[0],\n",
    "        center[1],\n",
    "        np.mean(speeds),\n",
    "    ] for center, speeds in speeds_by_center.items()]\n",
    "    with (output_folder / f'speeds-{name}.json').open('wt') as f:\n",
    "        json.dump(rows, f)"
   ]
  },
  {
   "cell_type": "code",
   "execution_count": 26,
   "id": "a2e5f242-2eaa-4e54-9afa-8bb4303949da",
   "metadata": {},
   "outputs": [],
   "source": [
    "save_average_speeds('download', download_speeds_by_center)\n",
    "save_average_speeds('upload', upload_speeds_by_center)"
   ]
  }
 ],
 "metadata": {
  "kernelspec": {
   "display_name": "Python 3 (ipykernel)",
   "language": "python",
   "name": "python3"
  },
  "language_info": {
   "codemirror_mode": {
    "name": "ipython",
    "version": 3
   },
   "file_extension": ".py",
   "mimetype": "text/x-python",
   "name": "python",
   "nbconvert_exporter": "python",
   "pygments_lexer": "ipython3",
   "version": "3.10.5"
  }
 },
 "nbformat": 4,
 "nbformat_minor": 5
}
