{
 "cells": [
  {
   "cell_type": "code",
   "execution_count": null,
   "id": "ee283f84-6218-44e6-afcf-43b2f964f612",
   "metadata": {},
   "outputs": [],
   "source": [
    "from os import getenv\n",
    "from pathlib import Path\n",
    "input_folder = Path(getenv('CROSSCOMPUTE_INPUT_FOLDER', 'batches/standard/input'))\n",
    "output_folder = Path(getenv('CROSSCOMPUTE_OUTPUT_FOLDER', 'batches/standard/output'))"
   ]
  },
  {
   "cell_type": "code",
   "execution_count": null,
   "id": "8f7c76f5-5597-464d-afe8-269f2d668f81",
   "metadata": {},
   "outputs": [],
   "source": [
    "import json\n",
    "with (input_folder / 'variables.dictionary').open('rt') as f:\n",
    "    d = json.load(f)"
   ]
  },
  {
   "cell_type": "code",
   "execution_count": null,
   "id": "b454c51b-8195-4a5f-b854-fa2487556dac",
   "metadata": {},
   "outputs": [],
   "source": [
    "from datetime import datetime\n",
    "d['application_timestamp'] = datetime.now().strftime('%Y%m%d-%H%M')"
   ]
  },
  {
   "cell_type": "code",
   "execution_count": null,
   "id": "8563252c-96b9-460d-b112-a562c986e12e",
   "metadata": {},
   "outputs": [],
   "source": [
    "with (output_folder / 'variables.dictionary').open('wt') as f:\n",
    "    json.dump(d, f)"
   ]
  },
  {
   "cell_type": "code",
   "execution_count": null,
   "id": "b08f7df6-d089-4335-8e7a-60286a0d6196",
   "metadata": {},
   "outputs": [],
   "source": [
    "datasets_folder = Path('datasets')\n",
    "datasets_folder.mkdir(exist_ok=True)\n",
    "with (datasets_folder / 'entries.csv').open('at') as f:\n",
    "    f.write(','.join(d.values()) + '\\n')"
   ]
  }
 ],
 "metadata": {
  "kernelspec": {
   "display_name": "Python 3 (ipykernel)",
   "language": "python",
   "name": "python3"
  },
  "language_info": {
   "codemirror_mode": {
    "name": "ipython",
    "version": 3
   },
   "file_extension": ".py",
   "mimetype": "text/x-python",
   "name": "python",
   "nbconvert_exporter": "python",
   "pygments_lexer": "ipython3",
   "version": "3.10.7"
  }
 },
 "nbformat": 4,
 "nbformat_minor": 5
}
