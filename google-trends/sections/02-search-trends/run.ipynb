{
 "cells": [
  {
   "cell_type": "code",
   "execution_count": 28,
   "id": "therapeutic-plate",
   "metadata": {},
   "outputs": [],
   "source": [
    "from invisibleroads_macros_disk import make_folder\n",
    "from os import environ\n",
    "\n",
    "input_folder = environ.get(\n",
    "    'CROSSCOMPUTE_INPUT_FOLDER', 'tests/standard/input')\n",
    "output_folder = make_folder(environ.get(\n",
    "    'CROSSCOMPUTE_OUTPUT_FOLDER', 'tests/standard/output'))\n",
    "log_folder = make_folder(environ.get(\n",
    "    'CROSSCOMPUTE_LOG_FOLDER', 'tests/standard/log'))\n",
    "debug_folder = make_folder(environ.get(\n",
    "    'CROSSCOMPUTE_DEBUG_FOLDER', 'tests/standard/debug'))"
   ]
  },
  {
   "cell_type": "code",
   "execution_count": 29,
   "id": "cooperative-essence",
   "metadata": {},
   "outputs": [],
   "source": [
    "import json\n",
    "from os.path import join\n",
    "settings = json.load(open(join(input_folder, 'settings.json'), 'rt'))"
   ]
  },
  {
   "cell_type": "code",
   "execution_count": 30,
   "id": "naughty-broadcast",
   "metadata": {},
   "outputs": [
    {
     "data": {
      "text/plain": [
       "7"
      ]
     },
     "execution_count": 30,
     "metadata": {},
     "output_type": "execute_result"
    }
   ],
   "source": [
    "year_count = settings['year_count']\n",
    "year_count"
   ]
  },
  {
   "cell_type": "code",
   "execution_count": 31,
   "id": "working-destiny",
   "metadata": {},
   "outputs": [],
   "source": [
    "from pytrends.request import TrendReq\n",
    "r = TrendReq()"
   ]
  },
  {
   "cell_type": "markdown",
   "id": "otherwise-coating",
   "metadata": {},
   "source": [
    "# Searches Trending Now"
   ]
  },
  {
   "cell_type": "code",
   "execution_count": 32,
   "id": "peripheral-collins",
   "metadata": {},
   "outputs": [],
   "source": [
    "'''\n",
    "open(join(output_folder, 'now-description.md'), 'wt').write(\n",
    "    f'The following search terms are trending today in the {country_name}')\n",
    "''';"
   ]
  },
  {
   "cell_type": "code",
   "execution_count": 33,
   "id": "composed-vehicle",
   "metadata": {},
   "outputs": [
    {
     "data": {
      "text/plain": [
       "array(['Kelvin Sampson', 'Rami Malek', 'Volkswagen'], dtype=object)"
      ]
     },
     "execution_count": 33,
     "metadata": {},
     "output_type": "execute_result"
    }
   ],
   "source": [
    "t = r.trending_searches(pn='united_states')\n",
    "search_terms = t[0].values\n",
    "search_terms[:3]"
   ]
  },
  {
   "cell_type": "code",
   "execution_count": 34,
   "id": "literary-magazine",
   "metadata": {},
   "outputs": [
    {
     "data": {
      "text/plain": [
       "322"
      ]
     },
     "execution_count": 34,
     "metadata": {},
     "output_type": "execute_result"
    }
   ],
   "source": [
    "open(join(output_folder, 'now.md'), 'wt').write('\\n'.join(\n",
    "    f'- {_}' for _ in search_terms))"
   ]
  },
  {
   "cell_type": "code",
   "execution_count": 35,
   "id": "seventh-advertiser",
   "metadata": {},
   "outputs": [],
   "source": [
    "# x = r._get_data(url=TrendReq.TRENDING_SEARCHES_URL, method=TrendReq.GET_METHOD)\n",
    "# countries = list(x.keys())\n",
    "# countries"
   ]
  },
  {
   "cell_type": "markdown",
   "id": "dynamic-wallpaper",
   "metadata": {},
   "source": [
    "# Searches Trending Today"
   ]
  },
  {
   "cell_type": "code",
   "execution_count": 36,
   "id": "processed-certification",
   "metadata": {},
   "outputs": [],
   "source": [
    "'''\n",
    "open(join(output_folder, 'today-description.md'), 'wt').write(\n",
    "    f'The following search terms are trending today in the {country_name}')\n",
    "''';"
   ]
  },
  {
   "cell_type": "code",
   "execution_count": 37,
   "id": "regulated-artwork",
   "metadata": {},
   "outputs": [],
   "source": [
    "t = r.today_searches()\n",
    "search_terms = t.values"
   ]
  },
  {
   "cell_type": "code",
   "execution_count": 38,
   "id": "presidential-coast",
   "metadata": {},
   "outputs": [
    {
     "data": {
      "text/plain": [
       "121"
      ]
     },
     "execution_count": 38,
     "metadata": {},
     "output_type": "execute_result"
    }
   ],
   "source": [
    "open(join(output_folder, 'today.md'), 'wt').write('\\n'.join(\n",
    "    f'- {_}' for _ in search_terms))"
   ]
  },
  {
   "cell_type": "markdown",
   "id": "adaptive-startup",
   "metadata": {},
   "source": [
    "# Searches Trending Before"
   ]
  },
  {
   "cell_type": "code",
   "execution_count": 39,
   "id": "stunning-adaptation",
   "metadata": {},
   "outputs": [
    {
     "data": {
      "text/plain": [
       "51"
      ]
     },
     "execution_count": 39,
     "metadata": {},
     "output_type": "execute_result"
    }
   ],
   "source": [
    "open(join(output_folder, 'before-description.md'), 'wt').write(\n",
    "    f'Here are global search trends for the past {year_count} years.')"
   ]
  },
  {
   "cell_type": "code",
   "execution_count": 40,
   "id": "welcome-supervision",
   "metadata": {},
   "outputs": [],
   "source": [
    "from datetime import datetime\n",
    "current_year = datetime.now().year"
   ]
  },
  {
   "cell_type": "code",
   "execution_count": 41,
   "id": "level-scout",
   "metadata": {},
   "outputs": [],
   "source": [
    "import pandas as pd\n",
    "table = pd.DataFrame()\n",
    "for year in range(current_year - year_count, current_year):\n",
    "    t = r.top_charts(year, hl='en-US', tz=0, geo='GLOBAL')\n",
    "    table[year] = t.title[:3]"
   ]
  },
  {
   "cell_type": "code",
   "execution_count": 42,
   "id": "worth-banner",
   "metadata": {},
   "outputs": [
    {
     "data": {
      "text/html": [
       "<div>\n",
       "<style scoped>\n",
       "    .dataframe tbody tr th:only-of-type {\n",
       "        vertical-align: middle;\n",
       "    }\n",
       "\n",
       "    .dataframe tbody tr th {\n",
       "        vertical-align: top;\n",
       "    }\n",
       "\n",
       "    .dataframe thead th {\n",
       "        text-align: right;\n",
       "    }\n",
       "</style>\n",
       "<table border=\"1\" class=\"dataframe\">\n",
       "  <thead>\n",
       "    <tr style=\"text-align: right;\">\n",
       "      <th></th>\n",
       "      <th>0</th>\n",
       "      <th>1</th>\n",
       "      <th>2</th>\n",
       "    </tr>\n",
       "  </thead>\n",
       "  <tbody>\n",
       "    <tr>\n",
       "      <th>2014</th>\n",
       "      <td>Robin Williams</td>\n",
       "      <td>World Cup</td>\n",
       "      <td>Ebola</td>\n",
       "    </tr>\n",
       "    <tr>\n",
       "      <th>2015</th>\n",
       "      <td>Lamar Odom</td>\n",
       "      <td>Charlie Hebdo</td>\n",
       "      <td>Agar.io</td>\n",
       "    </tr>\n",
       "    <tr>\n",
       "      <th>2016</th>\n",
       "      <td>Pokémon Go</td>\n",
       "      <td>iPhone 7</td>\n",
       "      <td>Donald Trump</td>\n",
       "    </tr>\n",
       "    <tr>\n",
       "      <th>2017</th>\n",
       "      <td>Hurricane Irma</td>\n",
       "      <td>iPhone 8</td>\n",
       "      <td>iPhone X</td>\n",
       "    </tr>\n",
       "    <tr>\n",
       "      <th>2018</th>\n",
       "      <td>World Cup</td>\n",
       "      <td>Avicii</td>\n",
       "      <td>Mac Miller</td>\n",
       "    </tr>\n",
       "    <tr>\n",
       "      <th>2019</th>\n",
       "      <td>India vs South Africa</td>\n",
       "      <td>Cameron Boyce</td>\n",
       "      <td>Copa America</td>\n",
       "    </tr>\n",
       "    <tr>\n",
       "      <th>2020</th>\n",
       "      <td>Coronavirus</td>\n",
       "      <td>Election results</td>\n",
       "      <td>Kobe Bryant</td>\n",
       "    </tr>\n",
       "  </tbody>\n",
       "</table>\n",
       "</div>"
      ],
      "text/plain": [
       "                          0                 1             2\n",
       "2014         Robin Williams         World Cup         Ebola\n",
       "2015             Lamar Odom     Charlie Hebdo       Agar.io\n",
       "2016             Pokémon Go          iPhone 7  Donald Trump\n",
       "2017         Hurricane Irma          iPhone 8      iPhone X\n",
       "2018              World Cup            Avicii    Mac Miller\n",
       "2019  India vs South Africa     Cameron Boyce  Copa America\n",
       "2020            Coronavirus  Election results   Kobe Bryant"
      ]
     },
     "execution_count": 42,
     "metadata": {},
     "output_type": "execute_result"
    }
   ],
   "source": [
    "table = table.transpose()"
   ]
  },
  {
   "cell_type": "code",
   "execution_count": 43,
   "id": "strange-military",
   "metadata": {},
   "outputs": [],
   "source": [
    "table.to_csv(join(output_folder, 'before.csv'))"
   ]
  }
 ],
 "metadata": {
  "kernelspec": {
   "display_name": "Python 3",
   "language": "python",
   "name": "python3"
  },
  "language_info": {
   "codemirror_mode": {
    "name": "ipython",
    "version": 3
   },
   "file_extension": ".py",
   "mimetype": "text/x-python",
   "name": "python",
   "nbconvert_exporter": "python",
   "pygments_lexer": "ipython3",
   "version": "3.9.2"
  }
 },
 "nbformat": 4,
 "nbformat_minor": 5
}
