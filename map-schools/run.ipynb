{
 "cells": [
  {
   "cell_type": "code",
   "execution_count": null,
   "id": "d43791c6-db7b-464f-ba22-f3f2ad36a843",
   "metadata": {},
   "outputs": [],
   "source": [
    "from os import getenv\n",
    "from pathlib import Path\n",
    "\n",
    "input_folder = Path(getenv(\n",
    "    'CROSSCOMPUTE_INPUT_FOLDER', 'tests/standard/input'))\n",
    "output_folder = Path(getenv(\n",
    "    'CROSSCOMPUTE_OUTPUT_FOLDER', 'tests/standard/output'))\n",
    "output_folder.mkdir(parents=True, exist_ok=True)\n",
    "datasets_folder = Path('datasets')\n",
    "archives_folder = datasets_folder / 'archives'"
   ]
  },
  {
   "cell_type": "code",
   "execution_count": null,
   "id": "6300095b-7ffe-4e56-b29a-441295ac7eec",
   "metadata": {},
   "outputs": [],
   "source": [
    "import json\n",
    "\n",
    "with (input_folder / 'variables.dictionary').open('rt') as f:\n",
    "    d = json.load(f)"
   ]
  },
  {
   "cell_type": "code",
   "execution_count": null,
   "id": "f4454347-11a3-468f-8c84-7cd5eab6fcb7",
   "metadata": {},
   "outputs": [],
   "source": [
    "from base64 import urlsafe_b64encode\n",
    "from hashlib import sha256\n",
    "from os.path import splitext\n",
    "from urllib.request import urlretrieve as download\n",
    "\n",
    "from invisibleroads_macros_disk import unarchive_safely\n",
    "\n",
    "archive_uri = d['uri']\n",
    "archive_extension = splitext(archive_uri)[1]\n",
    "archive_name = urlsafe_b64encode(sha256(archive_uri.encode(\n",
    "    'utf-8')).digest()).decode().rstrip('=') + archive_extension\n",
    "archive_path = archives_folder / archive_name\n",
    "archive_folder = Path(splitext(archive_path)[0])\n",
    "archive_folder"
   ]
  },
  {
   "cell_type": "code",
   "execution_count": null,
   "id": "890febbf-0561-4d3c-9603-e9cedef90a03",
   "metadata": {},
   "outputs": [],
   "source": [
    "from os.path import basename\n",
    "\n",
    "if not archive_folder.exists():\n",
    "    archive_folder.parent.mkdir(parents=True, exist_ok=True)\n",
    "    alternate_path = archives_folder / basename(archive_uri)\n",
    "    if alternate_path.exists():\n",
    "        archive_path = alternate_path\n",
    "    else:\n",
    "        download(archive_uri, archive_path)\n",
    "    unarchive_safely(str(archive_path), archive_folder)"
   ]
  },
  {
   "cell_type": "code",
   "execution_count": null,
   "id": "03b28ff9-bb94-4e27-82a3-cfba5239c930",
   "metadata": {},
   "outputs": [],
   "source": [
    "from pandas import read_excel\n",
    "\n",
    "spreadsheet_paths = list(archive_folder.glob('**/*.xlsx'))\n",
    "if not spreadsheet_paths:\n",
    "    raise Exception('could not find spreadsheet')\n",
    "old_table = read_excel(spreadsheet_paths[0], engine='openpyxl')\n",
    "new_table = old_table[['LON', 'LAT']]\n",
    "new_table.to_json(output_folder / 'geometries.json', orient='values')"
   ]
  }
 ],
 "metadata": {
  "kernelspec": {
   "display_name": "Python 3 (ipykernel)",
   "language": "python",
   "name": "python3"
  },
  "language_info": {
   "codemirror_mode": {
    "name": "ipython",
    "version": 3
   },
   "file_extension": ".py",
   "mimetype": "text/x-python",
   "name": "python",
   "nbconvert_exporter": "python",
   "pygments_lexer": "ipython3",
   "version": "3.11.3"
  }
 },
 "nbformat": 4,
 "nbformat_minor": 5
}
