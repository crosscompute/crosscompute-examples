{
 "cells": [
  {
   "cell_type": "code",
   "execution_count": 21,
   "metadata": {},
   "outputs": [
    {
     "data": {
      "text/plain": [
       "CompletedProcess(args=['pip', 'install', 'geotable'], returncode=0)"
      ]
     },
     "execution_count": 21,
     "metadata": {},
     "output_type": "execute_result"
    }
   ],
   "source": [
    "import subprocess\n",
    "subprocess.run('pip install geotable'.split())"
   ]
  },
  {
   "cell_type": "code",
   "execution_count": 22,
   "metadata": {},
   "outputs": [],
   "source": [
    "from os import environ\n",
    "from tempfile import mkdtemp\n",
    "\n",
    "input_folder = environ.get(\n",
    "    'CROSSCOMPUTE_INPUT_FOLDER', 'tests/standard/input')\n",
    "output_folder = environ.get(\n",
    "    'CROSSCOMPUTE_OUTPUT_FOLDER', mkdtemp())"
   ]
  },
  {
   "cell_type": "code",
   "execution_count": 23,
   "metadata": {},
   "outputs": [
    {
     "data": {
      "image/svg+xml": [
       "<svg xmlns=\"http://www.w3.org/2000/svg\" xmlns:xlink=\"http://www.w3.org/1999/xlink\" width=\"300\" height=\"300\" viewBox=\"-5560000.000000001 -6559999.999999999 14120000.0 15119999.999999996\" preserveAspectRatio=\"xMinYMin meet\"><g transform=\"matrix(1,0,0,-1,0,1999999.999999999)\"><g><g><circle cx=\"0.0\" cy=\"0.0\" r=\"151199.99999999994\" stroke=\"#555555\" stroke-width=\"50399.999999999985\" fill=\"#ab5543\" opacity=\"0.6\" /><polyline fill=\"none\" stroke=\"#ab5543\" stroke-width=\"100799.99999999997\" points=\"3999999.9999999995,-2000000.0000000002 7999999.999999999,1999999.999999999\" opacity=\"0.8\" /><polyline fill=\"none\" stroke=\"#ab5543\" stroke-width=\"100799.99999999997\" points=\"3999999.9999999995,1999999.999999999 7999999.999999999,-2000000.0000000002\" opacity=\"0.8\" /><path fill-rule=\"evenodd\" fill=\"#ab5543\" stroke=\"#555555\" stroke-width=\"100799.99999999997\" opacity=\"0.6\" d=\"M -5000000.000000001,-1000000.0000000006 L -3999999.9999999995,999999.9999999979 L -2999999.9999999995,-1000000.0000000006 L -5000000.000000001,-1000000.0000000006 z\" /><g><polyline fill=\"none\" stroke=\"#ab5543\" stroke-width=\"100799.99999999997\" points=\"-999999.9999999999,-750000.0000000016 -999999.9999999999,749999.999999999\" opacity=\"0.8\" /><polyline fill=\"none\" stroke=\"#ab5543\" stroke-width=\"100799.99999999997\" points=\"999999.9999999999,-750000.0000000016 999999.9999999999,749999.999999999\" opacity=\"0.8\" /><polyline fill=\"none\" stroke=\"#ab5543\" stroke-width=\"100799.99999999997\" points=\"-749999.9999999999,-1000000.0000000006 749999.9999999999,-1000000.0000000006\" opacity=\"0.8\" /><polyline fill=\"none\" stroke=\"#ab5543\" stroke-width=\"100799.99999999997\" points=\"-749999.9999999999,999999.9999999979 749999.9999999999,999999.9999999979\" opacity=\"0.8\" /></g><g><path fill-rule=\"evenodd\" fill=\"#ab5543\" stroke=\"#555555\" stroke-width=\"100799.99999999997\" opacity=\"0.6\" d=\"M -5000000.000000001,5999999.999999999 L -5000000.000000001,7999999.999999998 L -2999999.9999999995,7999999.999999998 L -2999999.9999999995,5999999.999999999 L -5000000.000000001,5999999.999999999 z\" /><path fill-rule=\"evenodd\" fill=\"#ab5543\" stroke=\"#555555\" stroke-width=\"100799.99999999997\" opacity=\"0.6\" d=\"M -1999999.9999999998,5999999.999999999 L -1999999.9999999998,7999999.999999998 L 0.0,7999999.999999998 L 0.0,5999999.999999999 L -1999999.9999999998,5999999.999999999 z\" /><path fill-rule=\"evenodd\" fill=\"#ab5543\" stroke=\"#555555\" stroke-width=\"100799.99999999997\" opacity=\"0.6\" d=\"M 999999.9999999999,5999999.999999999 L 999999.9999999999,7999999.999999998 L 2999999.9999999995,7999999.999999998 L 2999999.9999999995,5999999.999999999 L 999999.9999999999,5999999.999999999 z\" /></g><g><polyline fill=\"none\" stroke=\"#ab5543\" stroke-width=\"100799.99999999997\" points=\"-5000000.000000001,-5000000.000000001 0.0,-5000000.000000001\" opacity=\"0.8\" /><circle cx=\"3999999.9999999995\" cy=\"-5000000.000000001\" r=\"151199.99999999994\" stroke=\"#555555\" stroke-width=\"50399.999999999985\" fill=\"#ab5543\" opacity=\"0.6\" /><path fill-rule=\"evenodd\" fill=\"#ab5543\" stroke=\"#555555\" stroke-width=\"100799.99999999997\" opacity=\"0.6\" d=\"M 999999.9999999999,-5999999.999999999 L 1999999.9999999998,-4000000.000000001 L 2999999.9999999995,-5999999.999999999 L 999999.9999999999,-5999999.999999999 z\" /></g></g></g></g></svg>"
      ],
      "text/plain": [
       "<geotable.ColorfulGeometryCollection at 0x7f7b11628610>"
      ]
     },
     "execution_count": 23,
     "metadata": {},
     "output_type": "execute_result"
    }
   ],
   "source": [
    "import geotable\n",
    "from os.path import join\n",
    "geometries_geotable = geotable.load(join(input_folder, 'geometries.geojson'))\n",
    "geometries_geotable.draw()"
   ]
  },
  {
   "cell_type": "code",
   "execution_count": 24,
   "metadata": {},
   "outputs": [
    {
     "name": "stdout",
     "output_type": "stream",
     "text": [
      "<class 'shapely.geometry.point.Point'>\n",
      "<class 'shapely.geometry.linestring.LineString'>\n",
      "<class 'shapely.geometry.linestring.LineString'>\n",
      "<class 'shapely.geometry.polygon.Polygon'>\n",
      "<class 'shapely.geometry.multilinestring.MultiLineString'>\n",
      "<class 'shapely.geometry.multipolygon.MultiPolygon'>\n",
      "<class 'shapely.geometry.collection.GeometryCollection'>\n"
     ]
    }
   ],
   "source": [
    "from shapely.geometry import (\n",
    "    GeometryCollection,\n",
    "    LineString,\n",
    "    MultiLineString,\n",
    "    MultiPolygon,\n",
    "    Point,\n",
    "    Polygon)\n",
    "\n",
    "for wkt in geometries_geotable['geometry_object']:\n",
    "    print(type(wkt))"
   ]
  },
  {
   "cell_type": "code",
   "execution_count": 25,
   "metadata": {},
   "outputs": [],
   "source": [
    "import json\n",
    "json.dump({\n",
    "    'feature_count': len(geometries_geotable),\n",
    "}, open(join(output_folder, 'statistics.json'), 'wt'))"
   ]
  }
 ],
 "metadata": {
  "kernelspec": {
   "display_name": "Python 3",
   "language": "python",
   "name": "python3"
  },
  "language_info": {
   "codemirror_mode": {
    "name": "ipython",
    "version": 3
   },
   "file_extension": ".py",
   "mimetype": "text/x-python",
   "name": "python",
   "nbconvert_exporter": "python",
   "pygments_lexer": "ipython3",
   "version": "3.9.0"
  }
 },
 "nbformat": 4,
 "nbformat_minor": 4
}
