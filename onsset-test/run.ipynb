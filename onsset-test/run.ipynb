{
 "cells": [
  {
   "cell_type": "code",
   "execution_count": null,
   "metadata": {},
   "outputs": [],
   "source": [
    "from os import environ\n",
    "from tempfile import mkdtemp\n",
    "\n",
    "input_folder = environ.get(\n",
    "    'CROSSCOMPUTE_INPUT_FOLDER', 'tests/standard/input')\n",
    "output_folder = environ.get(\n",
    "    'CROSSCOMPUTE_OUTPUT_FOLDER', mkdtemp())"
   ]
  },
  {
   "cell_type": "code",
   "execution_count": null,
   "metadata": {},
   "outputs": [],
   "source": [
    "import subprocess\n",
    "\n",
    "subprocess.run('pip install onsset pandas xlrd'.split())"
   ]
  },
  {
   "cell_type": "code",
   "execution_count": null,
   "metadata": {},
   "outputs": [],
   "source": [
    "import pandas as pd\n",
    "from os.path import join, splitext\n",
    "\n",
    "specifications_path = join(output_folder, 'specifications.xlsx')\n",
    "excel_writer = pd.ExcelWriter(specifications_path)\n",
    "for file_name in [\n",
    "    'specs_data.csv',\n",
    "    'scenario_info.csv',\n",
    "    'scenario_parameters.csv',\n",
    "]:\n",
    "    table = pd.read_csv(join(input_folder, file_name))\n",
    "    base_name = splitext(file_name)[0]\n",
    "    sheet_name = ''.join(_.title() for _ in base_name.split('_'))\n",
    "    table.to_excel(excel_writer, sheet_name=sheet_name)\n",
    "excel_writer.save()"
   ]
  },
  {
   "cell_type": "code",
   "execution_count": null,
   "metadata": {},
   "outputs": [],
   "source": [
    "from os import makedirs\n",
    "from os.path import join\n",
    "\n",
    "details_folder = join(output_folder, 'details')\n",
    "summaries_folder = join(output_folder, 'summaries')\n",
    "try:\n",
    "    makedirs(details_folder)\n",
    "    makedirs(summaries_folder)\n",
    "except OSError:\n",
    "    pass"
   ]
  },
  {
   "cell_type": "code",
   "execution_count": null,
   "metadata": {},
   "outputs": [],
   "source": [
    "from onsset.runner import calibration, scenario\n",
    "\n",
    "cities_path = join(input_folder, 'cities.csv')\n",
    "calibrated_specifications_path = join(output_folder, 'specifications.xlsx')\n",
    "calibrated_cities_path = join(output_folder, 'cities.csv') \n",
    "\n",
    "calibration(\n",
    "    specs_path=specifications_path,\n",
    "    csv_path=cities_path,\n",
    "    specs_path_calib=calibrated_specifications_path,\n",
    "    calibrated_csv_path=calibrated_cities_path)\n",
    "scenario(\n",
    "    specs_path=calibrated_specifications_path,\n",
    "    calibrated_csv_path=calibrated_cities_path,\n",
    "    results_folder=details_folder,\n",
    "    summary_folder=summaries_folder)"
   ]
  },
  {
   "cell_type": "code",
   "execution_count": null,
   "metadata": {},
   "outputs": [],
   "source": [
    "from glob import glob\n",
    "from os.path import basename, splitext\n",
    "\n",
    "def collect_scenarios(target_path, source_folder):\n",
    "    tables = []\n",
    "    for path in glob(join(source_folder, '*.csv')):\n",
    "        table = pd.read_csv(path)\n",
    "        table['ScenarioName'] = basename(splitext(path)[0])\n",
    "        columns = list(table.columns)\n",
    "        columns.insert(0, columns.pop(columns.index('ScenarioName')))\n",
    "        tables.append(table[columns])\n",
    "    pd.concat(tables).to_csv(target_path, index=False)\n",
    "    \n",
    "collect_scenarios(join(output_folder, 'details.csv'), details_folder)\n",
    "collect_scenarios(join(output_folder, 'summaries.csv'), summaries_folder)"
   ]
  }
 ],
 "metadata": {
  "kernelspec": {
   "display_name": "Python 3",
   "language": "python",
   "name": "python3"
  },
  "language_info": {
   "codemirror_mode": {
    "name": "ipython",
    "version": 3
   },
   "file_extension": ".py",
   "mimetype": "text/x-python",
   "name": "python",
   "nbconvert_exporter": "python",
   "pygments_lexer": "ipython3",
   "version": "3.8.6"
  }
 },
 "nbformat": 4,
 "nbformat_minor": 4
}
