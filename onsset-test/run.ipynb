{
 "cells": [
  {
   "cell_type": "code",
   "execution_count": 1,
   "metadata": {},
   "outputs": [
    {
     "name": "stdout",
     "output_type": "stream",
     "text": [
      "/tmp/tmpe16r0kam\n"
     ]
    }
   ],
   "source": [
    "# Get settings\n",
    "from os import environ\n",
    "from tempfile import mkdtemp\n",
    "import pandas as pd\n",
    "from onsset.runner import calibration, scenario\n",
    "\n",
    "input_folder = environ.get(\n",
    "    'CROSSCOMPUTE_INPUT_FOLDER', 'tests/standard/input')\n",
    "output_folder = environ.get(\n",
    "    'CROSSCOMPUTE_OUTPUT_FOLDER', mkdtemp())\n",
    "print(output_folder)"
   ]
  },
  {
   "cell_type": "code",
   "execution_count": 2,
   "metadata": {},
   "outputs": [],
   "source": [
    "# Load input\n",
    "\n",
    "from os.path import join\n",
    "\n",
    "# Open the file containing separated countries\n",
    "csv_path = join(input_folder, 'test.csv')\n",
    "# Open the specs file\n",
    "specs_path = join(input_folder, 'specs.xlsx')\n",
    "# Browse to result folder and name the calibrated file\n",
    "calibrated_csv_path = join(output_folder, 'calibrated.csv')\n",
    "# Browse to result folder and name the calibrated specs file\n",
    "specs_path_calib = join(output_folder, 'specs-calibrated.xlsx')\n",
    "\n",
    "results_folder = output_folder\n",
    "summary_folder = output_folder\n"
   ]
  },
  {
   "cell_type": "code",
   "execution_count": 3,
   "metadata": {},
   "outputs": [
    {
     "name": "stderr",
     "output_type": "stream",
     "text": [
      "2020-12-15 10:19:03,170\t\tPopulate ResidentialDemandTier columns\n",
      "2020-12-15 10:19:03,174\t\tEnsure that columns that are supposed to be numeric are numeric\n",
      "2020-12-15 10:19:03,201\t\tReplace null values with zero\n",
      "2020-12-15 10:19:03,203\t\tSort by country, Y and X\n",
      "2020-12-15 10:19:03,216\t\tClassify road dist\n",
      "2020-12-15 10:19:03,223\t\tClassify substation dist\n",
      "2020-12-15 10:19:03,229\t\tClassify elevation\n",
      "2020-12-15 10:19:03,233\t\tClassify slope\n",
      "2020-12-15 10:19:03,239\t\tClassify land cover\n",
      "2020-12-15 10:19:03,242\t\tCombined classification\n",
      "2020-12-15 10:19:03,251\t\tGrid penalty\n",
      "2020-12-15 10:19:03,258\t\tCalculate Wind CF\n",
      "2020-12-15 10:19:03,316\t\tPopulation calibration process\n",
      "2020-12-15 10:19:03,363\t\tUrban/rural calibration process\n"
     ]
    },
    {
     "name": "stdout",
     "output_type": "stream",
     "text": [
      "The calibrated population differs by 0.00. In case this is not acceptable please revise this part of the code\n"
     ]
    },
    {
     "name": "stderr",
     "output_type": "stream",
     "text": [
      "2020-12-15 10:19:03,583\t\tPopulation projection process\n",
      "2020-12-15 10:19:03,823\t\tCalibrate current electrification\n",
      "2020-12-15 10:19:03,931\t\tCalibration finished. Results are transferred to the csv file\n"
     ]
    },
    {
     "name": "stdout",
     "output_type": "stream",
     "text": [
      "We have identified the existence of transformers or MV lines as input data; therefore we proceed using those for the calibration\n",
      "The modelled electrification rate differ by 0.00. Urban elec. rate differ by 0.00 and Rural elec. rate differ by 0.00. \n",
      "If this is not acceptable please revise this part of the algorithm\n"
     ]
    },
    {
     "name": "stderr",
     "output_type": "stream",
     "text": [
      "2020-12-15 10:19:04,202\t\tDetermine current MV line length\n",
      "2020-12-15 10:19:04,217\t\tCalculate new connections\n",
      "2020-12-15 10:19:04,232\t\tSetting electrification demand as per target per year\n"
     ]
    },
    {
     "name": "stdout",
     "output_type": "stream",
     "text": [
      "Djibouti\n",
      "Scenario: 1\n"
     ]
    },
    {
     "name": "stderr",
     "output_type": "stream",
     "text": [
      "2020-12-15 10:19:04,327\t\tCalculate minigrid hydro LCOE\n",
      "2020-12-15 10:19:04,421\t\tCalculate minigrid PV LCOE\n",
      "2020-12-15 10:19:04,490\t\tCalculate minigrid wind LCOE\n",
      "2020-12-15 10:19:04,562\t\tCalculate standalone PV LCOE\n",
      "2020-12-15 10:19:04,611\t\tDetermine minimum technology (off-grid)\n",
      "2020-12-15 10:19:04,633\t\tDetermine minimum tech LCOE\n",
      "2020-12-15 10:19:04,655\t\tDefine the initial electrification status\n",
      "2020-12-15 10:19:04,819\t\tInitially 245 electrified\n",
      "2020-12-15 10:19:05,008\t\tElectrification loop 1 with 245 electrified\n",
      "2020-12-15 10:19:05,185\t\tCalculate investment cost\n",
      "2020-12-15 10:19:05,209\t\tDetermine electrification limits\n",
      "2020-12-15 10:19:05,227\t\tDetermine final electrification decision\n",
      "2020-12-15 10:19:05,236\t\tCalculate new capacity\n",
      "2020-12-15 10:19:05,276\t\tCalculate summaries\n",
      "2020-12-15 10:19:05,365\t\tCalculate new connections\n",
      "2020-12-15 10:19:05,383\t\tSetting electrification demand as per target per year\n",
      "2020-12-15 10:19:05,418\t\tCalculate minigrid hydro LCOE\n"
     ]
    },
    {
     "name": "stdout",
     "output_type": "stream",
     "text": [
      "The electrification rate achieved in 2025 is 83.3 %\n"
     ]
    },
    {
     "name": "stderr",
     "output_type": "stream",
     "text": [
      "2020-12-15 10:19:05,492\t\tCalculate minigrid PV LCOE\n",
      "2020-12-15 10:19:05,564\t\tCalculate minigrid wind LCOE\n",
      "2020-12-15 10:19:05,640\t\tCalculate standalone PV LCOE\n",
      "2020-12-15 10:19:05,691\t\tDetermine minimum technology (off-grid)\n",
      "2020-12-15 10:19:05,711\t\tDetermine minimum tech LCOE\n",
      "2020-12-15 10:19:05,733\t\tDefine the initial electrification status\n",
      "2020-12-15 10:19:05,884\t\tInitially 245 electrified\n",
      "2020-12-15 10:19:06,057\t\tElectrification loop 1 with 453 electrified\n",
      "2020-12-15 10:19:06,163\t\tElectrification loop 2 with 49 electrified\n",
      "2020-12-15 10:19:06,263\t\tElectrification loop 3 with 8 electrified\n",
      "2020-12-15 10:19:06,363\t\tElectrification loop 4 with 1 electrified\n",
      "2020-12-15 10:19:06,399\t\tCalculate investment cost\n",
      "2020-12-15 10:19:06,422\t\tDetermine electrification limits\n",
      "2020-12-15 10:19:06,427\t\tDetermine final electrification decision\n",
      "2020-12-15 10:19:06,433\t\tCalculate new capacity\n",
      "2020-12-15 10:19:06,475\t\tCalculate summaries\n"
     ]
    },
    {
     "name": "stdout",
     "output_type": "stream",
     "text": [
      "The electrification rate achieved in 2030 is 100.0 %\n"
     ]
    },
    {
     "name": "stderr",
     "output_type": "stream",
     "text": [
      "2020-12-15 10:19:06,948\t\tFinished\n"
     ]
    }
   ],
   "source": [
    "# Make output\n",
    "calibration(specs_path, csv_path, specs_path_calib, calibrated_csv_path)\n",
    "scenario(specs_path_calib, calibrated_csv_path, results_folder, summary_folder)\n"
   ]
  },
  {
   "cell_type": "code",
   "execution_count": null,
   "metadata": {},
   "outputs": [],
   "source": [
    "# Save output"
   ]
  }
 ],
 "metadata": {
  "kernelspec": {
   "display_name": "Python 3",
   "language": "python",
   "name": "python3"
  },
  "language_info": {
   "codemirror_mode": {
    "name": "ipython",
    "version": 3
   },
   "file_extension": ".py",
   "mimetype": "text/x-python",
   "name": "python",
   "nbconvert_exporter": "python",
   "pygments_lexer": "ipython3",
   "version": "3.7.4"
  }
 },
 "nbformat": 4,
 "nbformat_minor": 4
}