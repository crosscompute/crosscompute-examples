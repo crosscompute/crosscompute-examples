{
 "cells": [
  {
   "cell_type": "code",
   "execution_count": 35,
   "metadata": {},
   "outputs": [
    {
     "name": "stdout",
     "output_type": "stream",
     "text": [
      "/tmp/tmp3cpz3w_q\n"
     ]
    }
   ],
   "source": [
    "# Get settings\n",
    "from os import environ, path\n",
    "from tempfile import mkdtemp\n",
    "import pandas as pd\n",
    "from onsset.runner import calibration, scenario\n",
    "\n",
    "input_folder = environ.get(\n",
    "    'CROSSCOMPUTE_INPUT_FOLDER', 'tests/standard/input')\n",
    "output_folder = environ.get(\n",
    "    'CROSSCOMPUTE_OUTPUT_FOLDER', mkdtemp())\n",
    "print(output_folder)"
   ]
  },
  {
   "cell_type": "code",
   "execution_count": 36,
   "metadata": {},
   "outputs": [
    {
     "data": {
      "text/plain": [
       "'/tmp/tmpb9py6ola.xlsx'"
      ]
     },
     "execution_count": 36,
     "metadata": {},
     "output_type": "execute_result"
    }
   ],
   "source": [
    "from tempfile import mkstemp\n",
    "specs_path = mkstemp(suffix='.xlsx')[1]\n",
    "specs_path"
   ]
  },
  {
   "cell_type": "code",
   "execution_count": 37,
   "metadata": {},
   "outputs": [
    {
     "name": "stdout",
     "output_type": "stream",
     "text": [
      "SpecsData\n",
      "ScenarioInfo\n",
      "ScenarioParameters\n"
     ]
    }
   ],
   "source": [
    "# Load input\n",
    "\n",
    "from os.path import join\n",
    "\n",
    "# Open the file containing separated countries\n",
    "csv_path = join(input_folder, 'test.csv')\n",
    "\n",
    "csv_splittled_sheets = ['specs_data.csv', 'scenario_info.csv', 'scenario_parameters.csv']\n",
    "\n",
    "specs_excel_file = pd.ExcelWriter(specs_path)\n",
    "\n",
    "for csv in csv_splittled_sheets:\n",
    "    sheet = pd.read_csv(join(input_folder, csv))\n",
    "    csv_name = path.splitext(csv)[0]\n",
    "    sheet_name = ''.join(word.title() for word in csv_name.split('_'))\n",
    "    print(sheet_name)\n",
    "    sheet.to_excel(specs_excel_file, sheet_name=sheet_name)\n",
    "    \n",
    "specs_excel_file.save()\n",
    "\n",
    "# print(dir(specs_excel_file))\n",
    "\n",
    "# Browse to result folder and name the calibrated file\n",
    "calibrated_csv_path = join(output_folder, 'calibrated.csv')\n",
    "# Browse to result folder and name the calibrated specs file\n",
    "specs_path_calib = join(output_folder, 'specs-calibrated.xlsx')"
   ]
  },
  {
   "cell_type": "code",
   "execution_count": 38,
   "metadata": {},
   "outputs": [],
   "source": [
    "from os import makedirs\n",
    "results_folder = join(output_folder, 'results')\n",
    "summary_folder = join(output_folder, 'summary')\n",
    "makedirs(results_folder)\n",
    "makedirs(summary_folder)"
   ]
  },
  {
   "cell_type": "code",
   "execution_count": 39,
   "metadata": {},
   "outputs": [
    {
     "data": {
      "text/plain": [
       "'/tmp/tmp3cpz3w_q/summary'"
      ]
     },
     "execution_count": 39,
     "metadata": {},
     "output_type": "execute_result"
    }
   ],
   "source": [
    "summary_folder"
   ]
  },
  {
   "cell_type": "code",
   "execution_count": null,
   "metadata": {},
   "outputs": [],
   "source": []
  },
  {
   "cell_type": "code",
   "execution_count": 40,
   "metadata": {},
   "outputs": [
    {
     "name": "stderr",
     "output_type": "stream",
     "text": [
      "2020-12-15 18:11:32,543\t\tPopulate ResidentialDemandTier columns\n",
      "2020-12-15 18:11:32,545\t\tEnsure that columns that are supposed to be numeric are numeric\n",
      "2020-12-15 18:11:32,554\t\tReplace null values with zero\n",
      "2020-12-15 18:11:32,557\t\tSort by country, Y and X\n",
      "2020-12-15 18:11:32,561\t\tClassify road dist\n",
      "2020-12-15 18:11:32,564\t\tClassify substation dist\n",
      "2020-12-15 18:11:32,567\t\tClassify elevation\n",
      "2020-12-15 18:11:32,571\t\tClassify slope\n",
      "2020-12-15 18:11:32,574\t\tClassify land cover\n",
      "2020-12-15 18:11:32,576\t\tCombined classification\n",
      "2020-12-15 18:11:32,578\t\tGrid penalty\n",
      "2020-12-15 18:11:32,582\t\tCalculate Wind CF\n",
      "2020-12-15 18:11:32,612\t\tPopulation calibration process\n",
      "2020-12-15 18:11:32,631\t\tUrban/rural calibration process\n",
      "2020-12-15 18:11:32,724\t\tPopulation projection process\n"
     ]
    },
    {
     "name": "stdout",
     "output_type": "stream",
     "text": [
      "The calibrated population differs by 0.00. In case this is not acceptable please revise this part of the code\n"
     ]
    },
    {
     "name": "stderr",
     "output_type": "stream",
     "text": [
      "2020-12-15 18:11:32,838\t\tCalibrate current electrification\n",
      "2020-12-15 18:11:32,923\t\tCalibration finished. Results are transferred to the csv file\n"
     ]
    },
    {
     "name": "stdout",
     "output_type": "stream",
     "text": [
      "We have identified the existence of transformers or MV lines as input data; therefore we proceed using those for the calibration\n",
      "The modelled electrification rate differ by 0.00. Urban elec. rate differ by 0.00 and Rural elec. rate differ by 0.00. \n",
      "If this is not acceptable please revise this part of the algorithm\n",
      "Djibouti\n",
      "Scenario: 1\n"
     ]
    },
    {
     "name": "stderr",
     "output_type": "stream",
     "text": [
      "2020-12-15 18:11:33,140\t\tDetermine current MV line length\n",
      "2020-12-15 18:11:33,150\t\tCalculate new connections\n",
      "2020-12-15 18:11:33,156\t\tSetting electrification demand as per target per year\n",
      "2020-12-15 18:11:33,184\t\tCalculate minigrid hydro LCOE\n",
      "2020-12-15 18:11:33,233\t\tCalculate minigrid PV LCOE\n",
      "2020-12-15 18:11:33,279\t\tCalculate minigrid wind LCOE\n",
      "2020-12-15 18:11:33,328\t\tCalculate standalone PV LCOE\n",
      "2020-12-15 18:11:33,353\t\tDetermine minimum technology (off-grid)\n",
      "2020-12-15 18:11:33,369\t\tDetermine minimum tech LCOE\n",
      "2020-12-15 18:11:33,381\t\tDefine the initial electrification status\n",
      "2020-12-15 18:11:33,482\t\tInitially 245 electrified\n",
      "2020-12-15 18:11:33,584\t\tElectrification loop 1 with 245 electrified\n",
      "2020-12-15 18:11:33,664\t\tCalculate investment cost\n",
      "2020-12-15 18:11:33,670\t\tDetermine electrification limits\n",
      "2020-12-15 18:11:33,679\t\tDetermine final electrification decision\n",
      "2020-12-15 18:11:33,682\t\tCalculate new capacity\n",
      "2020-12-15 18:11:33,693\t\tCalculate summaries\n",
      "2020-12-15 18:11:33,733\t\tCalculate new connections\n",
      "2020-12-15 18:11:33,743\t\tSetting electrification demand as per target per year\n",
      "2020-12-15 18:11:33,761\t\tCalculate minigrid hydro LCOE\n",
      "2020-12-15 18:11:33,807\t\tCalculate minigrid PV LCOE\n",
      "2020-12-15 18:11:33,855\t\tCalculate minigrid wind LCOE\n"
     ]
    },
    {
     "name": "stdout",
     "output_type": "stream",
     "text": [
      "The electrification rate achieved in 2025 is 83.3 %\n"
     ]
    },
    {
     "name": "stderr",
     "output_type": "stream",
     "text": [
      "2020-12-15 18:11:33,907\t\tCalculate standalone PV LCOE\n",
      "2020-12-15 18:11:33,932\t\tDetermine minimum technology (off-grid)\n",
      "2020-12-15 18:11:33,947\t\tDetermine minimum tech LCOE\n",
      "2020-12-15 18:11:33,960\t\tDefine the initial electrification status\n",
      "2020-12-15 18:11:34,055\t\tInitially 245 electrified\n",
      "2020-12-15 18:11:34,163\t\tElectrification loop 1 with 453 electrified\n",
      "2020-12-15 18:11:34,225\t\tElectrification loop 2 with 49 electrified\n",
      "2020-12-15 18:11:34,289\t\tElectrification loop 3 with 8 electrified\n",
      "2020-12-15 18:11:34,352\t\tElectrification loop 4 with 1 electrified\n",
      "2020-12-15 18:11:34,376\t\tCalculate investment cost\n",
      "2020-12-15 18:11:34,383\t\tDetermine electrification limits\n",
      "2020-12-15 18:11:34,390\t\tDetermine final electrification decision\n",
      "2020-12-15 18:11:34,394\t\tCalculate new capacity\n",
      "2020-12-15 18:11:34,405\t\tCalculate summaries\n"
     ]
    },
    {
     "name": "stdout",
     "output_type": "stream",
     "text": [
      "The electrification rate achieved in 2030 is 100.0 %\n"
     ]
    },
    {
     "name": "stderr",
     "output_type": "stream",
     "text": [
      "2020-12-15 18:11:34,702\t\tFinished\n"
     ]
    }
   ],
   "source": [
    "# Make output\n",
    "calibration(specs_path, csv_path, specs_path_calib, calibrated_csv_path)\n",
    "scenario(specs_path_calib, calibrated_csv_path, results_folder, summary_folder)"
   ]
  },
  {
   "cell_type": "code",
   "execution_count": 41,
   "metadata": {},
   "outputs": [],
   "source": [
    "# Save output"
   ]
  },
  {
   "cell_type": "code",
   "execution_count": 42,
   "metadata": {},
   "outputs": [],
   "source": [
    "from glob import glob"
   ]
  },
  {
   "cell_type": "code",
   "execution_count": 44,
   "metadata": {},
   "outputs": [
    {
     "name": "stdout",
     "output_type": "stream",
     "text": [
      "dj-1-1_1_1_1_0_0.csv\r\n"
     ]
    }
   ],
   "source": [
    "ls $output_folder/results"
   ]
  },
  {
   "cell_type": "code",
   "execution_count": 53,
   "metadata": {},
   "outputs": [
    {
     "data": {
      "text/plain": [
       "'x'"
      ]
     },
     "execution_count": 53,
     "metadata": {},
     "output_type": "execute_result"
    }
   ],
   "source": [
    "from os.path import basename, splitext\n",
    "splitext('x.csv')[0]"
   ]
  },
  {
   "cell_type": "code",
   "execution_count": 67,
   "metadata": {},
   "outputs": [
    {
     "name": "stdout",
     "output_type": "stream",
     "text": [
      "dj-1-1_1_1_1_0_0\n"
     ]
    },
    {
     "data": {
      "text/plain": [
       "1"
      ]
     },
     "execution_count": 67,
     "metadata": {},
     "output_type": "execute_result"
    }
   ],
   "source": [
    "tables = []\n",
    "for path in glob(join(results_folder, '*.csv')):\n",
    "    table = pd.read_csv(path)\n",
    "    scenario_name = basename(splitext(path)[0])\n",
    "    print(scenario_name)\n",
    "    table['ScenarioName'] = scenario_name\n",
    "    columns = list(table.columns)\n",
    "    columns.insert(0, columns.pop(columns.index('ScenarioName')))\n",
    "    tables.append(table[columns])\n",
    "pd.concat(tables).to_csv(join(output_folder, 'scenarios.csv'), index=False)"
   ]
  },
  {
   "cell_type": "code",
   "execution_count": 70,
   "metadata": {},
   "outputs": [
    {
     "name": "stdout",
     "output_type": "stream",
     "text": [
      "dj-1-1_1_1_1_0_0_summary\n"
     ]
    }
   ],
   "source": [
    "for path in glob(join(summary_folder, '*.csv')):\n",
    "    scenario_name = basename(splitext(path)[0])\n",
    "    print(scenario_name)\n",
    "    table['ScenarioName'] = scenario_name\n",
    "    columns = list(table.columns)\n",
    "    columns.insert(0, columns.pop(columns.index('ScenarioName')))\n",
    "    tables.append(table[columns])\n",
    "pd.concat(tables).to_csv(join(output_folder, 'summaries.csv'), index=False)"
   ]
  }
 ],
 "metadata": {
  "kernelspec": {
   "display_name": "Python 3",
   "language": "python",
   "name": "python3"
  },
  "language_info": {
   "codemirror_mode": {
    "name": "ipython",
    "version": 3
   },
   "file_extension": ".py",
   "mimetype": "text/x-python",
   "name": "python",
   "nbconvert_exporter": "python",
   "pygments_lexer": "ipython3",
   "version": "3.7.9"
  }
 },
 "nbformat": 4,
 "nbformat_minor": 4
}
