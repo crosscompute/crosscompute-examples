{
 "cells": [
  {
   "cell_type": "code",
   "execution_count": null,
   "id": "injured-network",
   "metadata": {},
   "outputs": [],
   "source": [
    "from invisibleroads_macros_disk import make_folder\n",
    "from os import environ\n",
    "\n",
    "input_folder = environ.get(\n",
    "    'CROSSCOMPUTE_INPUT_FOLDER', 'tests/standard/input')\n",
    "output_folder = make_folder(environ.get(\n",
    "    'CROSSCOMPUTE_OUTPUT_FOLDER', 'tests/standard/output'))\n",
    "log_folder = make_folder(environ.get(\n",
    "    'CROSSCOMPUTE_LOG_FOLDER', 'tests/standard/log'))\n",
    "debug_folder = make_folder(environ.get(\n",
    "    'CROSSCOMPUTE_DEBUG_FOLDER', 'tests/standard/debug'))"
   ]
  },
  {
   "cell_type": "code",
   "execution_count": null,
   "id": "former-router",
   "metadata": {},
   "outputs": [],
   "source": [
    "from pytrends.request import TrendReq\n",
    "r = TrendReq()"
   ]
  },
  {
   "cell_type": "code",
   "execution_count": null,
   "id": "useful-vancouver",
   "metadata": {},
   "outputs": [],
   "source": [
    "from os.path import join\n",
    "search_terms = [_.strip() for _ in open(join(\n",
    "    input_folder, 'search-terms.txt'), 'rt')]\n",
    "search_terms"
   ]
  },
  {
   "cell_type": "code",
   "execution_count": null,
   "id": "analyzed-thing",
   "metadata": {},
   "outputs": [],
   "source": [
    "r.build_payload(kw_list=search_terms)"
   ]
  },
  {
   "cell_type": "code",
   "execution_count": null,
   "id": "accepted-competition",
   "metadata": {},
   "outputs": [],
   "source": [
    "import matplotlib.pyplot as plt\n",
    "t = r.interest_over_time()\n",
    "t.plot()\n",
    "plt.savefig(join(output_folder, 'interest-over-time.png'))"
   ]
  },
  {
   "cell_type": "code",
   "execution_count": null,
   "id": "reflected-slovenia",
   "metadata": {},
   "outputs": [],
   "source": [
    "t = r.interest_by_region()\n",
    "t['+'] = t.sum(axis=1)\n",
    "t = t[t['+'] > 0]\n",
    "del t['+']\n",
    "t.to_csv(join(output_folder, 'interest-by-region.csv'))"
   ]
  },
  {
   "cell_type": "code",
   "execution_count": null,
   "id": "constant-geology",
   "metadata": {},
   "outputs": [],
   "source": [
    "d = r.related_queries()"
   ]
  },
  {
   "cell_type": "code",
   "execution_count": null,
   "id": "southeast-showcase",
   "metadata": {},
   "outputs": [],
   "source": [
    "import pandas as pd"
   ]
  },
  {
   "cell_type": "code",
   "execution_count": null,
   "id": "average-kitchen",
   "metadata": {},
   "outputs": [],
   "source": [
    "for rank_type in 'top', 'rising':\n",
    "    tables = []\n",
    "    for search_term in search_terms:\n",
    "        t = d[search_term][rank_type]\n",
    "        if t is None:\n",
    "            continue\n",
    "        t['term'] = search_term\n",
    "        tables.append(t[['term', 'query', 'value']][:10])\n",
    "    pd.concat(tables).to_csv(join(\n",
    "        output_folder,\n",
    "        f'related-{rank_type}.csv'), index=False)"
   ]
  },
  {
   "cell_type": "code",
   "execution_count": null,
   "id": "political-degree",
   "metadata": {},
   "outputs": [],
   "source": [
    "tables = []\n",
    "for search_term in search_terms:\n",
    "    ds = r.suggestions(keyword=search_term)\n",
    "    t = pd.DataFrame(ds)\n",
    "    t['term'] = search_term\n",
    "    if not len(t):\n",
    "        continue\n",
    "    tables.append(t[['term', 'title', 'type']])\n",
    "pd.concat(tables).to_csv(join(\n",
    "    output_folder, 'suggestions.csv'), index=False)"
   ]
  }
 ],
 "metadata": {
  "kernelspec": {
   "display_name": "Python 3",
   "language": "python",
   "name": "python3"
  },
  "language_info": {
   "codemirror_mode": {
    "name": "ipython",
    "version": 3
   },
   "file_extension": ".py",
   "mimetype": "text/x-python",
   "name": "python",
   "nbconvert_exporter": "python",
   "pygments_lexer": "ipython3",
   "version": "3.9.2"
  }
 },
 "nbformat": 4,
 "nbformat_minor": 5
}
