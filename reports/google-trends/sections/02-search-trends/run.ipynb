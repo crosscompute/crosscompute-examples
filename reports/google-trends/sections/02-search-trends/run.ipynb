{
 "cells": [
  {
   "cell_type": "code",
   "execution_count": null,
   "id": "therapeutic-plate",
   "metadata": {},
   "outputs": [],
   "source": [
    "from invisibleroads_macros_disk import make_folder\n",
    "from os import environ\n",
    "\n",
    "input_folder = environ.get(\n",
    "    'CROSSCOMPUTE_INPUT_FOLDER', 'tests/standard/input')\n",
    "output_folder = make_folder(environ.get(\n",
    "    'CROSSCOMPUTE_OUTPUT_FOLDER', 'tests/standard/output'))\n",
    "log_folder = make_folder(environ.get(\n",
    "    'CROSSCOMPUTE_LOG_FOLDER', 'tests/standard/log'))\n",
    "debug_folder = make_folder(environ.get(\n",
    "    'CROSSCOMPUTE_DEBUG_FOLDER', 'tests/standard/debug'))"
   ]
  },
  {
   "cell_type": "code",
   "execution_count": null,
   "id": "cooperative-essence",
   "metadata": {},
   "outputs": [],
   "source": [
    "import json\n",
    "from os.path import join\n",
    "settings = json.load(open(join(input_folder, 'settings.json'), 'rt'))"
   ]
  },
  {
   "cell_type": "code",
   "execution_count": null,
   "id": "naughty-broadcast",
   "metadata": {},
   "outputs": [],
   "source": [
    "year_count = settings['year_count']\n",
    "year_count"
   ]
  },
  {
   "cell_type": "code",
   "execution_count": null,
   "id": "working-destiny",
   "metadata": {},
   "outputs": [],
   "source": [
    "from pytrends.request import TrendReq\n",
    "r = TrendReq()"
   ]
  },
  {
   "cell_type": "markdown",
   "id": "otherwise-coating",
   "metadata": {},
   "source": [
    "# Searches Trending Now"
   ]
  },
  {
   "cell_type": "code",
   "execution_count": null,
   "id": "peripheral-collins",
   "metadata": {},
   "outputs": [],
   "source": [
    "'''\n",
    "open(join(output_folder, 'now-description.md'), 'wt').write(\n",
    "    f'The following search terms are trending today in the {country_name}')\n",
    "''';"
   ]
  },
  {
   "cell_type": "code",
   "execution_count": null,
   "id": "composed-vehicle",
   "metadata": {},
   "outputs": [],
   "source": [
    "t = r.trending_searches(pn='united_states')\n",
    "search_terms = t[0].values\n",
    "search_terms[:3]"
   ]
  },
  {
   "cell_type": "code",
   "execution_count": null,
   "id": "literary-magazine",
   "metadata": {},
   "outputs": [],
   "source": [
    "open(join(output_folder, 'now.md'), 'wt').write('\\n'.join(\n",
    "    f'- {_}' for _ in search_terms))"
   ]
  },
  {
   "cell_type": "code",
   "execution_count": null,
   "id": "seventh-advertiser",
   "metadata": {},
   "outputs": [],
   "source": [
    "# x = r._get_data(url=TrendReq.TRENDING_SEARCHES_URL, method=TrendReq.GET_METHOD)\n",
    "# countries = list(x.keys())\n",
    "# countries"
   ]
  },
  {
   "cell_type": "markdown",
   "id": "dynamic-wallpaper",
   "metadata": {},
   "source": [
    "# Searches Trending Today"
   ]
  },
  {
   "cell_type": "code",
   "execution_count": null,
   "id": "processed-certification",
   "metadata": {},
   "outputs": [],
   "source": [
    "'''\n",
    "open(join(output_folder, 'today-description.md'), 'wt').write(\n",
    "    f'The following search terms are trending today in the {country_name}')\n",
    "''';"
   ]
  },
  {
   "cell_type": "code",
   "execution_count": null,
   "id": "regulated-artwork",
   "metadata": {},
   "outputs": [],
   "source": [
    "t = r.today_searches()\n",
    "search_terms = t.values"
   ]
  },
  {
   "cell_type": "code",
   "execution_count": null,
   "id": "presidential-coast",
   "metadata": {},
   "outputs": [],
   "source": [
    "open(join(output_folder, 'today.md'), 'wt').write('\\n'.join(\n",
    "    f'- {_}' for _ in search_terms))"
   ]
  },
  {
   "cell_type": "markdown",
   "id": "adaptive-startup",
   "metadata": {},
   "source": [
    "# Searches Trending Before"
   ]
  },
  {
   "cell_type": "code",
   "execution_count": null,
   "id": "stunning-adaptation",
   "metadata": {},
   "outputs": [],
   "source": [
    "open(join(output_folder, 'before-description.md'), 'wt').write(\n",
    "    f'Here are global search trends for the past {year_count} years.')"
   ]
  },
  {
   "cell_type": "code",
   "execution_count": null,
   "id": "welcome-supervision",
   "metadata": {},
   "outputs": [],
   "source": [
    "from datetime import datetime\n",
    "current_year = datetime.now().year"
   ]
  },
  {
   "cell_type": "code",
   "execution_count": null,
   "id": "level-scout",
   "metadata": {},
   "outputs": [],
   "source": [
    "import pandas as pd\n",
    "table = pd.DataFrame()\n",
    "for year in range(current_year - year_count, current_year):\n",
    "    t = r.top_charts(year, hl='en-US', tz=0, geo='GLOBAL')\n",
    "    table[year] = t.title[:3]"
   ]
  },
  {
   "cell_type": "code",
   "execution_count": null,
   "id": "worth-banner",
   "metadata": {},
   "outputs": [],
   "source": [
    "table = table.transpose()"
   ]
  },
  {
   "cell_type": "code",
   "execution_count": null,
   "id": "strange-military",
   "metadata": {},
   "outputs": [],
   "source": [
    "table.to_csv(join(output_folder, 'before.csv'))"
   ]
  }
 ],
 "metadata": {
  "kernelspec": {
   "display_name": "Python 3",
   "language": "python",
   "name": "python3"
  },
  "language_info": {
   "codemirror_mode": {
    "name": "ipython",
    "version": 3
   },
   "file_extension": ".py",
   "mimetype": "text/x-python",
   "name": "python",
   "nbconvert_exporter": "python",
   "pygments_lexer": "ipython3",
   "version": "3.9.2"
  }
 },
 "nbformat": 4,
 "nbformat_minor": 5
}
