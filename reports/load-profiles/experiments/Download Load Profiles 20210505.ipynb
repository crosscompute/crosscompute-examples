{
 "cells": [
  {
   "cell_type": "code",
   "execution_count": null,
   "metadata": {},
   "outputs": [],
   "source": [
    "datasets_folder = '../datasets'"
   ]
  },
  {
   "cell_type": "code",
   "execution_count": null,
   "metadata": {},
   "outputs": [],
   "source": [
    "from os.path import join\n",
    "names = [_.strip() for _ in open(join(datasets_folder, 'names-all.txt'), 'rt')]\n",
    "names"
   ]
  },
  {
   "cell_type": "code",
   "execution_count": null,
   "metadata": {},
   "outputs": [],
   "source": [
    "patterns = [_ + '.*' for _ in names]\n",
    "patterns"
   ]
  },
  {
   "cell_type": "code",
   "execution_count": null,
   "metadata": {},
   "outputs": [],
   "source": [
    "import requests\n",
    "from bs4 import BeautifulSoup\n",
    "\n",
    "def get_anchor_elements(url):\n",
    "    response = requests.get(url)\n",
    "    soup = BeautifulSoup(response.text, 'html.parser')\n",
    "    return soup.find_all('a')"
   ]
  },
  {
   "cell_type": "code",
   "execution_count": null,
   "metadata": {},
   "outputs": [],
   "source": [
    "from fnmatch import fnmatch\n",
    "\n",
    "def is_matching_anchor_element(anchor_element, patterns):\n",
    "    text = anchor_element.text.strip(' /')\n",
    "    for pattern in patterns:\n",
    "        if fnmatch(text, pattern):\n",
    "            return True\n",
    "    return False"
   ]
  },
  {
   "cell_type": "code",
   "execution_count": null,
   "metadata": {},
   "outputs": [],
   "source": [
    "from os.path import join\n",
    "\n",
    "def get_matching_link_urls(url, patterns):\n",
    "    link_urls = []\n",
    "    for anchor_element in get_anchor_elements(url):\n",
    "        if not is_matching_anchor_element(anchor_element, patterns):\n",
    "            continue\n",
    "        link_urls.append(join(url, anchor_element.attrs['href']))\n",
    "    return link_urls"
   ]
  },
  {
   "cell_type": "code",
   "execution_count": null,
   "metadata": {},
   "outputs": [],
   "source": [
    "base_url = 'https://openei.org/datasets/files/961/pub'"
   ]
  },
  {
   "cell_type": "code",
   "execution_count": null,
   "metadata": {},
   "outputs": [],
   "source": [
    "from os import makedirs\n",
    "from os.path import basename\n",
    "from urllib.request import urlretrieve\n",
    "\n",
    "def download_to_folder(url, folder):\n",
    "    name = basename(url)\n",
    "    path = join(folder, name)\n",
    "    urlretrieve(url, path)\n",
    "    return path\n",
    "\n",
    "def make_folder(folder):\n",
    "    try:\n",
    "        makedirs(folder)\n",
    "    except IOError:\n",
    "        pass\n",
    "    return folder"
   ]
  },
  {
   "cell_type": "code",
   "execution_count": null,
   "metadata": {},
   "outputs": [],
   "source": [
    "# Download residential data\n",
    "usage_name = 'RESIDENTIAL_LOAD_DATA_E_PLUS_OUTPUT'\n",
    "level_categories = 'BASE', 'HIGH', 'LOW'\n",
    "for level_category in level_categories:\n",
    "    target_folder = make_folder(join(\n",
    "        datasets_folder, usage_name, level_category))\n",
    "    page_url = join(base_url, usage_name, level_category)\n",
    "    table_urls = get_matching_link_urls(page_url, patterns)\n",
    "    for table_url in table_urls:\n",
    "        download_to_folder(table_url, target_folder)"
   ]
  },
  {
   "cell_type": "code",
   "execution_count": null,
   "metadata": {},
   "outputs": [],
   "source": [
    "# Download commercial data\n",
    "from os.path import relpath\n",
    "usage_name = 'COMMERCIAL_LOAD_DATA_E_PLUS_OUTPUT'\n",
    "url = join(base_url, usage_name)\n",
    "page_urls = get_matching_link_urls(url, patterns)\n",
    "for page_url in page_urls:\n",
    "    relative_path = relpath(page_url, base_url)\n",
    "    target_folder = make_folder(join(datasets_folder, relative_path))\n",
    "    table_urls = get_matching_link_urls(page_url, ['RefBldg*'])\n",
    "    for table_url in table_urls:\n",
    "        download_to_folder(table_url, target_folder)"
   ]
  }
 ],
 "metadata": {
  "kernelspec": {
   "display_name": "Python 3",
   "language": "python",
   "name": "python3"
  },
  "language_info": {
   "codemirror_mode": {
    "name": "ipython",
    "version": 3
   },
   "file_extension": ".py",
   "mimetype": "text/x-python",
   "name": "python",
   "nbconvert_exporter": "python",
   "pygments_lexer": "ipython3",
   "version": "3.9.5"
  }
 },
 "nbformat": 4,
 "nbformat_minor": 4
}
