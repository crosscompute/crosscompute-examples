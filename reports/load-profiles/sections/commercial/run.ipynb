{
 "cells": [
  {
   "cell_type": "code",
   "execution_count": null,
   "metadata": {},
   "outputs": [],
   "source": [
    "from os import environ, makedirs\n",
    "\n",
    "input_folder = environ.get('CROSSCOMPUTE_INPUT_FOLDER', 'tests/standard/input')\n",
    "output_folder = environ.get('CROSSCOMPUTE_OUTPUT_FOLDER', 'tests/standard/output')\n",
    "try:\n",
    "    makedirs(output_folder)\n",
    "except IOError:\n",
    "    pass"
   ]
  },
  {
   "cell_type": "code",
   "execution_count": null,
   "metadata": {},
   "outputs": [],
   "source": [
    "import json\n",
    "from os.path import join\n",
    "\n",
    "settings_path = join(input_folder, 'settings.json')\n",
    "d = json.load(open(settings_path, 'rt'))\n",
    "d"
   ]
  },
  {
   "cell_type": "code",
   "execution_count": null,
   "metadata": {},
   "outputs": [],
   "source": [
    "raw_place_name = d['name']\n",
    "place_name = d['name'].replace('-', ' ').replace('_', ' ').replace('.', ' ')\n",
    "place_name"
   ]
  },
  {
   "cell_type": "code",
   "execution_count": null,
   "metadata": {},
   "outputs": [],
   "source": [
    "json.dump({\n",
    "    'place_name': place_name,\n",
    "}, open(join(output_folder, 'settings.json'), 'wt'))"
   ]
  },
  {
   "cell_type": "code",
   "execution_count": null,
   "metadata": {},
   "outputs": [],
   "source": [
    "open(join(output_folder, 'description.md'), 'wt').write(f'''\n",
    "Here are commercial energy load profiles for **{place_name}** based on simulated data from\n",
    "[USA Department of Energy Commercial Reference Building Models](http://energy.gov/eere/buildings/commercial-reference-buildings). \n",
    "Raw data is available [here](https://openei.org/doe-opendata/dataset/commercial-and-residential-hourly-load-profiles-for-all-tmy3-locations-in-the-united-states).\n",
    "'''.strip())"
   ]
  },
  {
   "cell_type": "code",
   "execution_count": null,
   "metadata": {},
   "outputs": [],
   "source": [
    "datasets_folder = 'datasets'\n",
    "commercial_folder = join(datasets_folder, 'COMMERCIAL_LOAD_DATA_E_PLUS_OUTPUT')"
   ]
  },
  {
   "cell_type": "code",
   "execution_count": null,
   "metadata": {},
   "outputs": [],
   "source": [
    "import sys\n",
    "\n",
    "def add_modules_folder(folder):\n",
    "    if folder not in sys.path:\n",
    "        sys.path.append(folder)\n",
    "        \n",
    "add_modules_folder('../../modules')"
   ]
  },
  {
   "cell_type": "code",
   "execution_count": null,
   "metadata": {},
   "outputs": [],
   "source": [
    "from routines import (\n",
    "    load_table,\n",
    "    parse_timestamp,\n",
    "    save_date_plot,\n",
    "    save_table_description,\n",
    "    save_table_plot,\n",
    "    split_table)"
   ]
  },
  {
   "cell_type": "code",
   "execution_count": null,
   "metadata": {},
   "outputs": [],
   "source": [
    "import re\n",
    "from glob import glob\n",
    "from os.path import basename, join\n",
    "\n",
    "customer_type = 'Commercial'\n",
    "pattern = re.compile(r'RefBldg(.*)New2004')\n",
    "table_paths = glob(join(commercial_folder, raw_place_name + '*', '*'))\n",
    "\n",
    "for table_path in table_paths:\n",
    "    table_name = basename(table_path)\n",
    "    building_category = pattern.match(table_name).group(1).replace('-', '')\n",
    "    t = load_table(table_path)\n",
    "    electricity_table, gas_table = split_table(t)\n",
    "    energy_packs = [\n",
    "        ('Electricity', electricity_table),\n",
    "        ('Gas', gas_table),\n",
    "    ]\n",
    "    for energy_type, energy_table in energy_packs:\n",
    "        save_table_description(\n",
    "            output_folder, energy_table, customer_type,\n",
    "            energy_type, building_category)\n",
    "        save_table_plot(\n",
    "            output_folder, energy_table, customer_type,\n",
    "            energy_type, building_category, place_name)\n",
    "        save_date_plot(\n",
    "            output_folder, '2000-01-01', '2000-01-02',\n",
    "            energy_table, customer_type,\n",
    "            energy_type, building_category, place_name)\n",
    "        save_date_plot(\n",
    "            output_folder, '2000-06-01', '2000-06-02',\n",
    "            energy_table, customer_type,\n",
    "            energy_type, building_category, place_name)"
   ]
  }
 ],
 "metadata": {
  "kernelspec": {
   "display_name": "Python 3",
   "language": "python",
   "name": "python3"
  },
  "language_info": {
   "codemirror_mode": {
    "name": "ipython",
    "version": 3
   },
   "file_extension": ".py",
   "mimetype": "text/x-python",
   "name": "python",
   "nbconvert_exporter": "python",
   "pygments_lexer": "ipython3",
   "version": "3.9.5"
  }
 },
 "nbformat": 4,
 "nbformat_minor": 4
}
