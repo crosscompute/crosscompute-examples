{
 "cells": [
  {
   "cell_type": "code",
   "execution_count": null,
   "metadata": {},
   "outputs": [],
   "source": [
    "from os import environ, makedirs\n",
    "\n",
    "input_folder = environ.get('CROSSCOMPUTE_INPUT_FOLDER', 'tests/standard/input')\n",
    "output_folder = environ.get('CROSSCOMPUTE_OUTPUT_FOLDER', 'tests/standard/output')\n",
    "try:\n",
    "    makedirs(output_folder)\n",
    "except IOError:\n",
    "    pass"
   ]
  },
  {
   "cell_type": "code",
   "execution_count": null,
   "metadata": {},
   "outputs": [],
   "source": [
    "import json\n",
    "from os.path import join\n",
    "\n",
    "settings_path = join(input_folder, 'settings.json')\n",
    "d = json.load(open(settings_path, 'rt'))\n",
    "d"
   ]
  },
  {
   "cell_type": "code",
   "execution_count": null,
   "metadata": {},
   "outputs": [],
   "source": [
    "raw_place_name = d['name']\n",
    "place_name = d['name'].replace('-', ' ').replace('_', ' ').replace('.', ' ')\n",
    "place_name"
   ]
  },
  {
   "cell_type": "code",
   "execution_count": null,
   "metadata": {},
   "outputs": [],
   "source": [
    "import shutil\n",
    "\n",
    "image_path = join('datasets', 'front-cover.png')\n",
    "shutil.copy(image_path, join(output_folder, 'background.png'))"
   ]
  },
  {
   "cell_type": "code",
   "execution_count": null,
   "metadata": {},
   "outputs": [],
   "source": [
    "open(join(output_folder, 'title.md'), 'wt').write(f'''\n",
    "<div id='front-cover-title'>\n",
    "<div>**{ place_name }**</div>\n",
    "<div>Energy Load Profiles</div>\n",
    "<div>*Example Report*</div>\n",
    "</div>\n",
    "''')"
   ]
  },
  {
   "cell_type": "code",
   "execution_count": null,
   "metadata": {},
   "outputs": [],
   "source": [
    "open(join(output_folder, 'note.md'), 'wt').write(f'''\n",
    "<div id='front-cover-note'>\n",
    "Visit [crosscompute.com](https://crosscompute.com) for Training + Support on how to automate your own reports.\n",
    "Source code for this report and other examples is available here: \n",
    "[https://github.com/crosscompute/crosscompute-examples](https://github.com/crosscompute/crosscompute-examples)\n",
    "</div>\n",
    "''')"
   ]
  }
 ],
 "metadata": {
  "kernelspec": {
   "display_name": "Python 3",
   "language": "python",
   "name": "python3"
  },
  "language_info": {
   "codemirror_mode": {
    "name": "ipython",
    "version": 3
   },
   "file_extension": ".py",
   "mimetype": "text/x-python",
   "name": "python",
   "nbconvert_exporter": "python",
   "pygments_lexer": "ipython3",
   "version": "3.9.5"
  }
 },
 "nbformat": 4,
 "nbformat_minor": 4
}
