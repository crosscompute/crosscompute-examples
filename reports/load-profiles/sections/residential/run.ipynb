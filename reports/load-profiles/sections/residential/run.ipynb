{
 "cells": [
  {
   "cell_type": "code",
   "execution_count": 1,
   "metadata": {},
   "outputs": [],
   "source": [
    "from os import environ, makedirs\n",
    "\n",
    "input_folder = environ.get('CROSSCOMPUTE_INPUT_FOLDER', 'tests/standard/input')\n",
    "output_folder = environ.get('CROSSCOMPUTE_OUTPUT_FOLDER', 'tests/standard/output')\n",
    "try:\n",
    "    makedirs(output_folder)\n",
    "except IOError:\n",
    "    pass"
   ]
  },
  {
   "cell_type": "code",
   "execution_count": 2,
   "metadata": {},
   "outputs": [
    {
     "data": {
      "text/plain": [
       "{'name': 'USA_MO_Springfield.Rgnl.AP'}"
      ]
     },
     "execution_count": 2,
     "metadata": {},
     "output_type": "execute_result"
    }
   ],
   "source": [
    "import json\n",
    "from os.path import join\n",
    "\n",
    "settings_path = join(input_folder, 'settings.json')\n",
    "d = json.load(open(settings_path, 'rt'))\n",
    "d"
   ]
  },
  {
   "cell_type": "code",
   "execution_count": 3,
   "metadata": {},
   "outputs": [
    {
     "data": {
      "text/plain": [
       "'USA MO Springfield Rgnl AP'"
      ]
     },
     "execution_count": 3,
     "metadata": {},
     "output_type": "execute_result"
    }
   ],
   "source": [
    "raw_place_name = d['name']\n",
    "place_name = d['name'].replace('-', ' ').replace('_', ' ').replace('.', ' ')\n",
    "place_name"
   ]
  },
  {
   "cell_type": "code",
   "execution_count": 4,
   "metadata": {},
   "outputs": [],
   "source": [
    "json.dump({\n",
    "    'place_name': place_name,\n",
    "}, open(join(output_folder, 'settings.json'), 'wt'))"
   ]
  },
  {
   "cell_type": "code",
   "execution_count": 5,
   "metadata": {},
   "outputs": [
    {
     "data": {
      "text/plain": [
       "361"
      ]
     },
     "execution_count": 5,
     "metadata": {},
     "output_type": "execute_result"
    }
   ],
   "source": [
    "open(join(output_folder, 'description.md'), 'wt').write(f'''\n",
    "Here are residential energy load profiles for **{place_name}** based on simulated data from\n",
    "[Building America House Simulation Protocols](http://www.nrel.gov/docs/fy11osti/49246.pdf). \n",
    "Raw data is available [here](https://openei.org/doe-opendata/dataset/commercial-and-residential-hourly-load-profiles-for-all-tmy3-locations-in-the-united-states).\n",
    "'''.strip())"
   ]
  },
  {
   "cell_type": "code",
   "execution_count": 6,
   "metadata": {},
   "outputs": [],
   "source": [
    "datasets_folder = 'datasets'\n",
    "residential_folder = join(datasets_folder, 'RESIDENTIAL_LOAD_DATA_E_PLUS_OUTPUT')"
   ]
  },
  {
   "cell_type": "code",
   "execution_count": 7,
   "metadata": {},
   "outputs": [],
   "source": [
    "import sys\n",
    "\n",
    "def add_modules_folder(folder):\n",
    "    if folder not in sys.path:\n",
    "        sys.path.append(folder)\n",
    "\n",
    "add_modules_folder('../../modules')"
   ]
  },
  {
   "cell_type": "code",
   "execution_count": 8,
   "metadata": {},
   "outputs": [],
   "source": [
    "from routines import (\n",
    "    load_table,\n",
    "    parse_timestamp,\n",
    "    save_date_plot,\n",
    "    save_table_description,\n",
    "    save_table_plot,\n",
    "    split_table)"
   ]
  },
  {
   "cell_type": "code",
   "execution_count": 9,
   "metadata": {},
   "outputs": [],
   "source": [
    "from datetime import datetime\n",
    "from glob import glob\n",
    "\n",
    "customer_type = 'Residential'\n",
    "level_categories = 'BASE', 'LOW', 'HIGH'\n",
    "\n",
    "for level_category in level_categories:\n",
    "    table_path = glob(join(\n",
    "        residential_folder, level_category, raw_place_name + '.*'))[0]\n",
    "    level_category = level_category.capitalize()    \n",
    "    t = load_table(table_path)\n",
    "    electricity_table, gas_table = split_table(t)\n",
    "    energy_packs = [\n",
    "        ('Electricity', electricity_table),\n",
    "        ('Gas', gas_table),\n",
    "    ]\n",
    "    for energy_type, energy_table in energy_packs:\n",
    "        save_table_description(\n",
    "            output_folder, energy_table, customer_type,\n",
    "            energy_type, level_category)\n",
    "        save_table_plot(\n",
    "            output_folder, energy_table, customer_type,\n",
    "            energy_type, level_category, place_name)\n",
    "        save_date_plot(\n",
    "            output_folder, '2000-01-01', '2000-01-02',\n",
    "            energy_table, customer_type,\n",
    "            energy_type, level_category, place_name)\n",
    "        save_date_plot(\n",
    "            output_folder, '2000-06-01', '2000-06-02',\n",
    "            energy_table, customer_type,\n",
    "            energy_type, level_category, place_name)"
   ]
  },
  {
   "cell_type": "code",
   "execution_count": 14,
   "metadata": {},
   "outputs": [
    {
     "data": {
      "text/html": [
       "<div>\n",
       "<style scoped>\n",
       "    .dataframe tbody tr th:only-of-type {\n",
       "        vertical-align: middle;\n",
       "    }\n",
       "\n",
       "    .dataframe tbody tr th {\n",
       "        vertical-align: top;\n",
       "    }\n",
       "\n",
       "    .dataframe thead th {\n",
       "        text-align: right;\n",
       "    }\n",
       "</style>\n",
       "<table border=\"1\" class=\"dataframe\">\n",
       "  <thead>\n",
       "    <tr style=\"text-align: right;\">\n",
       "      <th></th>\n",
       "      <th>Electricity:Facility</th>\n",
       "      <th>Gas:Facility</th>\n",
       "      <th>Heating:Electricity</th>\n",
       "      <th>Heating:Gas</th>\n",
       "      <th>Cooling:Electricity</th>\n",
       "      <th>HVACFan:Fans:Electricity</th>\n",
       "      <th>Electricity:HVAC</th>\n",
       "      <th>Fans:Electricity</th>\n",
       "      <th>General:InteriorLights:Electricity</th>\n",
       "      <th>General:ExteriorLights:Electricity</th>\n",
       "      <th>Appl:InteriorEquipment:Electricity</th>\n",
       "      <th>Misc:InteriorEquipment:Electricity</th>\n",
       "      <th>Water Heater:WaterSystems:Electricity</th>\n",
       "    </tr>\n",
       "  </thead>\n",
       "  <tbody>\n",
       "    <tr>\n",
       "      <th>mean</th>\n",
       "      <td>2.155709</td>\n",
       "      <td>3.563467</td>\n",
       "      <td>0.0</td>\n",
       "      <td>3.530211</td>\n",
       "      <td>0.392139</td>\n",
       "      <td>0.179647</td>\n",
       "      <td>0.571786</td>\n",
       "      <td>0.179647</td>\n",
       "      <td>0.314701</td>\n",
       "      <td>0.071135</td>\n",
       "      <td>0.302307</td>\n",
       "      <td>0.482062</td>\n",
       "      <td>0.388136</td>\n",
       "    </tr>\n",
       "    <tr>\n",
       "      <th>min</th>\n",
       "      <td>0.598001</td>\n",
       "      <td>0.022526</td>\n",
       "      <td>0.0</td>\n",
       "      <td>0.000000</td>\n",
       "      <td>0.000000</td>\n",
       "      <td>0.000000</td>\n",
       "      <td>0.000000</td>\n",
       "      <td>0.000000</td>\n",
       "      <td>0.075846</td>\n",
       "      <td>0.017144</td>\n",
       "      <td>0.066957</td>\n",
       "      <td>0.326520</td>\n",
       "      <td>0.034784</td>\n",
       "    </tr>\n",
       "    <tr>\n",
       "      <th>max</th>\n",
       "      <td>6.966891</td>\n",
       "      <td>21.296823</td>\n",
       "      <td>0.0</td>\n",
       "      <td>21.255754</td>\n",
       "      <td>4.562356</td>\n",
       "      <td>0.756987</td>\n",
       "      <td>5.319343</td>\n",
       "      <td>0.756987</td>\n",
       "      <td>1.281159</td>\n",
       "      <td>0.289593</td>\n",
       "      <td>0.584191</td>\n",
       "      <td>0.828492</td>\n",
       "      <td>1.022540</td>\n",
       "    </tr>\n",
       "  </tbody>\n",
       "</table>\n",
       "</div>"
      ],
      "text/plain": [
       "      Electricity:Facility  Gas:Facility  Heating:Electricity  Heating:Gas  \\\n",
       "mean              2.155709      3.563467                  0.0     3.530211   \n",
       "min               0.598001      0.022526                  0.0     0.000000   \n",
       "max               6.966891     21.296823                  0.0    21.255754   \n",
       "\n",
       "      Cooling:Electricity  HVACFan:Fans:Electricity  Electricity:HVAC  \\\n",
       "mean             0.392139                  0.179647          0.571786   \n",
       "min              0.000000                  0.000000          0.000000   \n",
       "max              4.562356                  0.756987          5.319343   \n",
       "\n",
       "      Fans:Electricity  General:InteriorLights:Electricity  \\\n",
       "mean          0.179647                            0.314701   \n",
       "min           0.000000                            0.075846   \n",
       "max           0.756987                            1.281159   \n",
       "\n",
       "      General:ExteriorLights:Electricity  Appl:InteriorEquipment:Electricity  \\\n",
       "mean                            0.071135                            0.302307   \n",
       "min                             0.017144                            0.066957   \n",
       "max                             0.289593                            0.584191   \n",
       "\n",
       "      Misc:InteriorEquipment:Electricity  \\\n",
       "mean                            0.482062   \n",
       "min                             0.326520   \n",
       "max                             0.828492   \n",
       "\n",
       "      Water Heater:WaterSystems:Electricity   \n",
       "mean                                0.388136  \n",
       "min                                 0.034784  \n",
       "max                                 1.022540  "
      ]
     },
     "execution_count": 14,
     "metadata": {},
     "output_type": "execute_result"
    }
   ],
   "source": [
    "t.describe(percentiles=[]).drop(['count', 'std', '50%'])"
   ]
  }
 ],
 "metadata": {
  "kernelspec": {
   "display_name": "Python 3",
   "language": "python",
   "name": "python3"
  },
  "language_info": {
   "codemirror_mode": {
    "name": "ipython",
    "version": 3
   },
   "file_extension": ".py",
   "mimetype": "text/x-python",
   "name": "python",
   "nbconvert_exporter": "python",
   "pygments_lexer": "ipython3",
   "version": "3.9.5"
  }
 },
 "nbformat": 4,
 "nbformat_minor": 4
}
