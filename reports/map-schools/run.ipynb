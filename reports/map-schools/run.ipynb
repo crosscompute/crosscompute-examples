{
 "cells": [
  {
   "cell_type": "code",
   "execution_count": null,
   "id": "d43791c6-db7b-464f-ba22-f3f2ad36a843",
   "metadata": {},
   "outputs": [],
   "source": [
    "from invisibleroads_macros_disk import make_folder\n",
    "from os import environ\n",
    "\n",
    "input_folder = environ.get('CROSSCOMPUTE_INPUT_FOLDER', 'tests/standard/input')\n",
    "output_folder = make_folder(environ.get('CROSSCOMPUTE_OUTPUT_FOLDER', 'tests/standard/output'))\n",
    "debug_folder = make_folder(environ.get('CROSSCOMPUTE_DEBUG_FOLDER', 'tests/standard/debug'))"
   ]
  },
  {
   "cell_type": "code",
   "execution_count": null,
   "id": "b797be6e-8615-44c6-a0e4-79bbbcbdf228",
   "metadata": {},
   "outputs": [],
   "source": [
    "from os.path import join, exists\n",
    "\n",
    "source_path = join(input_folder, 'variables.json')\n",
    "target_path = join(output_folder, 'configuration.json')\n",
    "if 'JPY_PARENT_PID' not in environ and exists(target_path):\n",
    "    exit()"
   ]
  },
  {
   "cell_type": "code",
   "execution_count": null,
   "id": "6300095b-7ffe-4e56-b29a-441295ac7eec",
   "metadata": {},
   "outputs": [],
   "source": [
    "import json\n",
    "variables = json.load(open(source_path, 'rt'))\n",
    "variables"
   ]
  },
  {
   "cell_type": "code",
   "execution_count": null,
   "id": "5b2a6715-7dce-46c2-8141-48dda67a80e9",
   "metadata": {},
   "outputs": [],
   "source": [
    "from invisibleroads_macros_disk import unarchive_safely\n",
    "from os.path import basename, exists, splitext\n",
    "from urllib.request import urlretrieve as download\n",
    "\n",
    "source_url = variables['url']\n",
    "archive_name = basename(source_url)\n",
    "archive_path = join(debug_folder, archive_name)\n",
    "archive_folder = splitext(archive_path)[0]\n",
    "if not exists(archive_folder):\n",
    "    download(source_url, archive_path)\n",
    "    unarchive_safely(archive_path, archive_folder)"
   ]
  },
  {
   "cell_type": "code",
   "execution_count": null,
   "id": "03b28ff9-bb94-4e27-82a3-cfba5239c930",
   "metadata": {},
   "outputs": [],
   "source": [
    "from glob import glob\n",
    "from pandas import read_excel\n",
    "\n",
    "spreadsheet_paths = glob(join(archive_folder, '**/*.xlsx'), recursive=True)\n",
    "if not spreadsheet_paths:\n",
    "    raise Exception('could not find spreadsheet')\n",
    "old_table = read_excel(spreadsheet_paths[0])\n",
    "new_table = old_table[['LON', 'LAT']]\n",
    "new_table.to_json(join(output_folder, 'geometries.json'), orient='values')"
   ]
  },
  {
   "cell_type": "code",
   "execution_count": null,
   "id": "dc1f27d8-1e23-4c14-af43-c6fa62cd6803",
   "metadata": {},
   "outputs": [],
   "source": [
    "import json\n",
    "\n",
    "json.dump({\n",
    "    'longitude': new_table.LON.mean(),\n",
    "    'latitude': new_table.LAT.mean(),\n",
    "    'zoom': 1,\n",
    "}, open(join(output_folder, 'configuration.json'), 'wt'))"
   ]
  }
 ],
 "metadata": {
  "kernelspec": {
   "display_name": "Python 3 (ipykernel)",
   "language": "python",
   "name": "python3"
  },
  "language_info": {
   "codemirror_mode": {
    "name": "ipython",
    "version": 3
   },
   "file_extension": ".py",
   "mimetype": "text/x-python",
   "name": "python",
   "nbconvert_exporter": "python",
   "pygments_lexer": "ipython3",
   "version": "3.9.5"
  }
 },
 "nbformat": 4,
 "nbformat_minor": 5
}
