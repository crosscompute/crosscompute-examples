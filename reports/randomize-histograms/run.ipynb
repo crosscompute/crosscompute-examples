{
 "cells": [
  {
   "cell_type": "code",
   "execution_count": null,
   "id": "44acf1c1-bb1f-4e10-bea4-639e204612fe",
   "metadata": {},
   "outputs": [],
   "source": [
    "from os import environ, makedirs\n",
    "input_folder = environ.get('CROSSCOMPUTE_INPUT_FOLDER', 'tests/standard/input')\n",
    "output_folder = environ.get('CROSSCOMPUTE_OUTPUT_FOLDER', 'tests/standard/output')\n",
    "try:\n",
    "    makedirs(output_folder)\n",
    "except OSError:\n",
    "    pass"
   ]
  },
  {
   "cell_type": "code",
   "execution_count": null,
   "id": "9121874a-270e-42e8-84cd-a72434697986",
   "metadata": {},
   "outputs": [],
   "source": [
    "import json\n",
    "from os.path import join\n",
    "variables_dictionary = json.load(open(join(input_folder, 'variables.json'), 'rt'))\n",
    "variables_dictionary"
   ]
  },
  {
   "cell_type": "code",
   "execution_count": null,
   "id": "b69a0421-2d03-4073-a8f8-7d2b1e367a8c",
   "metadata": {},
   "outputs": [],
   "source": [
    "import numpy as np\n",
    "\n",
    "def get_random_normal_values(mean, variance, value_count):\n",
    "    random_number_generator = np.random.default_rng()\n",
    "    random_numbers = random_number_generator.standard_normal(value_count)\n",
    "    return mean + variance * random_numbers\n",
    "\n",
    "get_random_normal_values(0, 10, 3)"
   ]
  },
  {
   "cell_type": "code",
   "execution_count": null,
   "id": "2bad4a02-9a52-49c9-903f-d9669ca7550d",
   "metadata": {},
   "outputs": [],
   "source": [
    "import matplotlib.pyplot as plt\n",
    "\n",
    "def render_example_histograms(\n",
    "        mean, variance, value_count, bin_count):\n",
    "    xs = get_random_normal_values(mean, variance, value_count)\n",
    "    ys = get_random_normal_values(mean, variance, value_count)\n",
    "    \n",
    "    fig, axs = plt.subplots(2)\n",
    "    axs[0].hist(xs, bin_count, label='xs', color='blue')\n",
    "    # axs[0].set_ylabel('Count')\n",
    "    axs[0].legend()\n",
    "    axs[1].hist(ys, bin_count, label='ys', color='red')\n",
    "    # axs[1].set_ylabel('Count')\n",
    "    axs[1].legend()\n",
    "    plt.savefig(join(output_folder, 'histogram-1d.png'))\n",
    "    \n",
    "    fig, ax = plt.subplots()\n",
    "    ax.hist2d(xs, ys)\n",
    "    ax.tick_params(axis='x', colors='blue')\n",
    "    ax.tick_params(axis='y', colors='red')\n",
    "    plt.savefig(join(output_folder, 'histogram-2d.png'))\n",
    "    \n",
    "render_example_histograms(**variables_dictionary)"
   ]
  }
 ],
 "metadata": {
  "kernelspec": {
   "display_name": "Python 3 (ipykernel)",
   "language": "python",
   "name": "python3"
  },
  "language_info": {
   "codemirror_mode": {
    "name": "ipython",
    "version": 3
   },
   "file_extension": ".py",
   "mimetype": "text/x-python",
   "name": "python",
   "nbconvert_exporter": "python",
   "pygments_lexer": "ipython3",
   "version": "3.9.7"
  }
 },
 "nbformat": 4,
 "nbformat_minor": 5
}
