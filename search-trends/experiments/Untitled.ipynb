{
 "cells": [
  {
   "cell_type": "code",
   "execution_count": 1,
   "metadata": {},
   "outputs": [],
   "source": [
    "from pytrends.request import TrendReq\n",
    "r = TrendReq()"
   ]
  },
  {
   "cell_type": "code",
   "execution_count": 2,
   "metadata": {},
   "outputs": [],
   "source": [
    "r.build_payload(kw_list=['pizza', 'bagel'])"
   ]
  },
  {
   "cell_type": "code",
   "execution_count": 3,
   "metadata": {},
   "outputs": [],
   "source": [
    "interest_over_time_df = r.interest_over_time()"
   ]
  },
  {
   "cell_type": "code",
   "execution_count": 12,
   "metadata": {},
   "outputs": [
    {
     "data": {
      "text/html": [
       "<div>\n",
       "<style scoped>\n",
       "    .dataframe tbody tr th:only-of-type {\n",
       "        vertical-align: middle;\n",
       "    }\n",
       "\n",
       "    .dataframe tbody tr th {\n",
       "        vertical-align: top;\n",
       "    }\n",
       "\n",
       "    .dataframe thead th {\n",
       "        text-align: right;\n",
       "    }\n",
       "</style>\n",
       "<table border=\"1\" class=\"dataframe\">\n",
       "  <thead>\n",
       "    <tr style=\"text-align: right;\">\n",
       "      <th></th>\n",
       "      <th>pizza</th>\n",
       "      <th>bagel</th>\n",
       "      <th>isPartial</th>\n",
       "    </tr>\n",
       "    <tr>\n",
       "      <th>date</th>\n",
       "      <th></th>\n",
       "      <th></th>\n",
       "      <th></th>\n",
       "    </tr>\n",
       "  </thead>\n",
       "  <tbody>\n",
       "    <tr>\n",
       "      <th>2021-01-17</th>\n",
       "      <td>78</td>\n",
       "      <td>2</td>\n",
       "      <td>False</td>\n",
       "    </tr>\n",
       "    <tr>\n",
       "      <th>2021-01-24</th>\n",
       "      <td>79</td>\n",
       "      <td>2</td>\n",
       "      <td>False</td>\n",
       "    </tr>\n",
       "    <tr>\n",
       "      <th>2021-01-31</th>\n",
       "      <td>77</td>\n",
       "      <td>2</td>\n",
       "      <td>False</td>\n",
       "    </tr>\n",
       "    <tr>\n",
       "      <th>2021-02-07</th>\n",
       "      <td>80</td>\n",
       "      <td>2</td>\n",
       "      <td>False</td>\n",
       "    </tr>\n",
       "    <tr>\n",
       "      <th>2021-02-14</th>\n",
       "      <td>82</td>\n",
       "      <td>2</td>\n",
       "      <td>False</td>\n",
       "    </tr>\n",
       "    <tr>\n",
       "      <th>2021-02-21</th>\n",
       "      <td>75</td>\n",
       "      <td>2</td>\n",
       "      <td>False</td>\n",
       "    </tr>\n",
       "    <tr>\n",
       "      <th>2021-02-28</th>\n",
       "      <td>75</td>\n",
       "      <td>2</td>\n",
       "      <td>False</td>\n",
       "    </tr>\n",
       "    <tr>\n",
       "      <th>2021-03-07</th>\n",
       "      <td>75</td>\n",
       "      <td>2</td>\n",
       "      <td>False</td>\n",
       "    </tr>\n",
       "    <tr>\n",
       "      <th>2021-03-14</th>\n",
       "      <td>78</td>\n",
       "      <td>2</td>\n",
       "      <td>False</td>\n",
       "    </tr>\n",
       "    <tr>\n",
       "      <th>2021-03-21</th>\n",
       "      <td>72</td>\n",
       "      <td>2</td>\n",
       "      <td>True</td>\n",
       "    </tr>\n",
       "  </tbody>\n",
       "</table>\n",
       "</div>"
      ],
      "text/plain": [
       "            pizza  bagel isPartial\n",
       "date                              \n",
       "2021-01-17     78      2     False\n",
       "2021-01-24     79      2     False\n",
       "2021-01-31     77      2     False\n",
       "2021-02-07     80      2     False\n",
       "2021-02-14     82      2     False\n",
       "2021-02-21     75      2     False\n",
       "2021-02-28     75      2     False\n",
       "2021-03-07     75      2     False\n",
       "2021-03-14     78      2     False\n",
       "2021-03-21     72      2      True"
      ]
     },
     "execution_count": 12,
     "metadata": {},
     "output_type": "execute_result"
    }
   ],
   "source": [
    "interest_over_time_df.tail(n=10)"
   ]
  },
  {
   "cell_type": "code",
   "execution_count": 13,
   "metadata": {},
   "outputs": [
    {
     "data": {
      "text/html": [
       "<div>\n",
       "<style scoped>\n",
       "    .dataframe tbody tr th:only-of-type {\n",
       "        vertical-align: middle;\n",
       "    }\n",
       "\n",
       "    .dataframe tbody tr th {\n",
       "        vertical-align: top;\n",
       "    }\n",
       "\n",
       "    .dataframe thead th {\n",
       "        text-align: right;\n",
       "    }\n",
       "</style>\n",
       "<table border=\"1\" class=\"dataframe\">\n",
       "  <thead>\n",
       "    <tr style=\"text-align: right;\">\n",
       "      <th></th>\n",
       "      <th>pizza</th>\n",
       "      <th>bagel</th>\n",
       "    </tr>\n",
       "    <tr>\n",
       "      <th>geoName</th>\n",
       "      <th></th>\n",
       "      <th></th>\n",
       "    </tr>\n",
       "  </thead>\n",
       "  <tbody>\n",
       "    <tr>\n",
       "      <th>Afghanistan</th>\n",
       "      <td>0</td>\n",
       "      <td>0</td>\n",
       "    </tr>\n",
       "    <tr>\n",
       "      <th>Albania</th>\n",
       "      <td>0</td>\n",
       "      <td>0</td>\n",
       "    </tr>\n",
       "    <tr>\n",
       "      <th>Algeria</th>\n",
       "      <td>0</td>\n",
       "      <td>0</td>\n",
       "    </tr>\n",
       "    <tr>\n",
       "      <th>American Samoa</th>\n",
       "      <td>0</td>\n",
       "      <td>0</td>\n",
       "    </tr>\n",
       "    <tr>\n",
       "      <th>Andorra</th>\n",
       "      <td>0</td>\n",
       "      <td>0</td>\n",
       "    </tr>\n",
       "  </tbody>\n",
       "</table>\n",
       "</div>"
      ],
      "text/plain": [
       "                pizza  bagel\n",
       "geoName                     \n",
       "Afghanistan         0      0\n",
       "Albania             0      0\n",
       "Algeria             0      0\n",
       "American Samoa      0      0\n",
       "Andorra             0      0"
      ]
     },
     "execution_count": 13,
     "metadata": {},
     "output_type": "execute_result"
    }
   ],
   "source": [
    "interest_by_region_df = r.interest_by_region()\n",
    "interest_by_region_df.head()"
   ]
  },
  {
   "cell_type": "code",
   "execution_count": 15,
   "metadata": {},
   "outputs": [
    {
     "data": {
      "text/plain": [
       "{'pizza': {'top':                      query  value\n",
       "  0                pizza hut    100\n",
       "  1            pizza near me     38\n",
       "  2            dominos pizza     33\n",
       "  3                  dominos     33\n",
       "  4           pizza delivery     16\n",
       "  5               papa pizza     10\n",
       "  6        pizza hut near me      8\n",
       "  7              pizza dough      7\n",
       "  8            pizza express      6\n",
       "  9             pizza recipe      6\n",
       "  10            pizza places      6\n",
       "  11            pizza online      6\n",
       "  12              papa johns      6\n",
       "  13             pizza crust      6\n",
       "  14              pizza oven      5\n",
       "  15          little caesars      5\n",
       "  16            domino pizza      5\n",
       "  17    little caesars pizza      5\n",
       "  18              pizza city      5\n",
       "  19          pizza hut menu      5\n",
       "  20  pizza delivery near me      5\n",
       "  21        delivery near me      4\n",
       "  22            boston pizza      4\n",
       "  23      pizza hut delivery      4\n",
       "  24          new york pizza      4,\n",
       "  'rising':                      query  value\n",
       "  0          ooni pizza oven   3250\n",
       "  1        mod pizza near me   1600\n",
       "  2       best pizza near me    900\n",
       "  3            fathead pizza    650\n",
       "  4       pizza shop near me    600\n",
       "  5       pizza near me open    500\n",
       "  6               dodo pizza    450\n",
       "  7                 pizza 4p    450\n",
       "  8                mod pizza    450\n",
       "  9               pizza cosy    450\n",
       "  10           pizza near me    400\n",
       "  11            food near me    400\n",
       "  12     pizza deals near me    400\n",
       "  13   dominos pizza near me    350\n",
       "  14            pizza nearby    350\n",
       "  15         dominos near me    350\n",
       "  16     little ceaser pizza    350\n",
       "  17   cicis pizza locations    300\n",
       "  18     pizza place near me    300\n",
       "  19        delivery near me    250\n",
       "  20  pizza delivery near me    250\n",
       "  21    domino pizza near me    250\n",
       "  22    dominos pizza online    250\n",
       "  23     dominos pizza carte    250\n",
       "  24          boneless pizza    250},\n",
       " 'bagel': {'top':                          query  value\n",
       "  0                    the bagel    100\n",
       "  1               bagel calories     78\n",
       "  2                       bagels     74\n",
       "  3             everything bagel     74\n",
       "  4                     bagel me     71\n",
       "  5                bagel near me     67\n",
       "  6                   bagel shop     55\n",
       "  7           coffee meets bagel     53\n",
       "  8                 bagel recipe     50\n",
       "  9                   bagel cafe     46\n",
       "  10                  best bagel     38\n",
       "  11           calories in bagel     38\n",
       "  12             bagel seasoning     38\n",
       "  13              einstein bagel     36\n",
       "  14              new york bagel     32\n",
       "  15  everything bagel seasoning     32\n",
       "  16                 bagel bites     30\n",
       "  17                   egg bagel     29\n",
       "  18                 bagel bread     27\n",
       "  19                  bagel deli     27\n",
       "  20                    ny bagel     26\n",
       "  21              brooklyn bagel     24\n",
       "  22                what a bagel     24\n",
       "  23             manhattan bagel     23\n",
       "  24         calories in a bagel     22,\n",
       "  'rising':                                         query  value\n",
       "  0                    everything but the bagel  95900\n",
       "  1          everything but the bagel seasoning  60650\n",
       "  2              everything but bagel seasoning  59500\n",
       "  3                  everything bagel seasoning  11850\n",
       "  4                          2 ingredient bagel  11100\n",
       "  5                             bagel seasoning  10700\n",
       "  6                              bagel man card   8100\n",
       "  7   everything but the bagel seasoning recipe   5800\n",
       "  8                                  keto bagel   5350\n",
       "  9                              the bagel nook   4100\n",
       "  10                            angry bagel guy   3450\n",
       "  11                        two men bagel house   3300\n",
       "  12                          keto bagel recipe   3150\n",
       "  13                              two men bagel   2750\n",
       "  14          everything bagel seasoning recipe   2300\n",
       "  15                          skinnytaste bagel   1450\n",
       "  16                                 bagel nook    850\n",
       "  17                          breakfast near me    700\n",
       "  18                     bagel sandwich near me    700\n",
       "  19                   bagel sandwiches near me    550\n",
       "  20           how to toast a bagel in the oven    500\n",
       "  21                    everything bagel recipe    500\n",
       "  22                        bagel store near me    450\n",
       "  23                              bagel near me    450\n",
       "  24                             bagels near me    350}}"
      ]
     },
     "execution_count": 15,
     "metadata": {},
     "output_type": "execute_result"
    }
   ],
   "source": [
    "related_queries_dict = r.related_queries()\n",
    "related_queries_dict"
   ]
  },
  {
   "cell_type": "code",
   "execution_count": 16,
   "metadata": {},
   "outputs": [
    {
     "data": {
      "text/html": [
       "<div>\n",
       "<style scoped>\n",
       "    .dataframe tbody tr th:only-of-type {\n",
       "        vertical-align: middle;\n",
       "    }\n",
       "\n",
       "    .dataframe tbody tr th {\n",
       "        vertical-align: top;\n",
       "    }\n",
       "\n",
       "    .dataframe thead th {\n",
       "        text-align: right;\n",
       "    }\n",
       "</style>\n",
       "<table border=\"1\" class=\"dataframe\">\n",
       "  <thead>\n",
       "    <tr style=\"text-align: right;\">\n",
       "      <th></th>\n",
       "      <th>0</th>\n",
       "    </tr>\n",
       "  </thead>\n",
       "  <tbody>\n",
       "    <tr>\n",
       "      <th>0</th>\n",
       "      <td>Suez Canal Crisis</td>\n",
       "    </tr>\n",
       "    <tr>\n",
       "      <th>1</th>\n",
       "      <td>Derek Chauvin</td>\n",
       "    </tr>\n",
       "    <tr>\n",
       "      <th>2</th>\n",
       "      <td>Ever Given</td>\n",
       "    </tr>\n",
       "    <tr>\n",
       "      <th>3</th>\n",
       "      <td>Petr Kellner</td>\n",
       "    </tr>\n",
       "    <tr>\n",
       "      <th>4</th>\n",
       "      <td>NLE Choppa</td>\n",
       "    </tr>\n",
       "  </tbody>\n",
       "</table>\n",
       "</div>"
      ],
      "text/plain": [
       "                   0\n",
       "0  Suez Canal Crisis\n",
       "1      Derek Chauvin\n",
       "2         Ever Given\n",
       "3       Petr Kellner\n",
       "4         NLE Choppa"
      ]
     },
     "execution_count": 16,
     "metadata": {},
     "output_type": "execute_result"
    }
   ],
   "source": [
    "trending_searches_df = r.trending_searches()\n",
    "trending_searches_df.head()"
   ]
  },
  {
   "cell_type": "code",
   "execution_count": 17,
   "metadata": {},
   "outputs": [
    {
     "data": {
      "text/plain": [
       "0    Suez Canal Crisis\n",
       "1        Derek Chauvin\n",
       "2           Ever Given\n",
       "3         Petr Kellner\n",
       "4           NLE Choppa\n",
       "Name: query, dtype: object"
      ]
     },
     "execution_count": 17,
     "metadata": {},
     "output_type": "execute_result"
    }
   ],
   "source": [
    "today_searches_df = r.today_searches()\n",
    "today_searches_df.head()"
   ]
  },
  {
   "cell_type": "code",
   "execution_count": 8,
   "metadata": {},
   "outputs": [],
   "source": [
    "top_charts_df = r.top_charts(2018, hl='en-US', tz=300, geo='GLOBAL')"
   ]
  },
  {
   "cell_type": "code",
   "execution_count": 18,
   "metadata": {},
   "outputs": [
    {
     "data": {
      "text/html": [
       "<div>\n",
       "<style scoped>\n",
       "    .dataframe tbody tr th:only-of-type {\n",
       "        vertical-align: middle;\n",
       "    }\n",
       "\n",
       "    .dataframe tbody tr th {\n",
       "        vertical-align: top;\n",
       "    }\n",
       "\n",
       "    .dataframe thead th {\n",
       "        text-align: right;\n",
       "    }\n",
       "</style>\n",
       "<table border=\"1\" class=\"dataframe\">\n",
       "  <thead>\n",
       "    <tr style=\"text-align: right;\">\n",
       "      <th></th>\n",
       "      <th>title</th>\n",
       "      <th>exploreQuery</th>\n",
       "    </tr>\n",
       "  </thead>\n",
       "  <tbody>\n",
       "    <tr>\n",
       "      <th>0</th>\n",
       "      <td>World Cup</td>\n",
       "      <td></td>\n",
       "    </tr>\n",
       "    <tr>\n",
       "      <th>1</th>\n",
       "      <td>Avicii</td>\n",
       "      <td></td>\n",
       "    </tr>\n",
       "    <tr>\n",
       "      <th>2</th>\n",
       "      <td>Mac Miller</td>\n",
       "      <td></td>\n",
       "    </tr>\n",
       "    <tr>\n",
       "      <th>3</th>\n",
       "      <td>Stan Lee</td>\n",
       "      <td></td>\n",
       "    </tr>\n",
       "    <tr>\n",
       "      <th>4</th>\n",
       "      <td>Black Panther</td>\n",
       "      <td></td>\n",
       "    </tr>\n",
       "  </tbody>\n",
       "</table>\n",
       "</div>"
      ],
      "text/plain": [
       "           title exploreQuery\n",
       "0      World Cup             \n",
       "1         Avicii             \n",
       "2     Mac Miller             \n",
       "3       Stan Lee             \n",
       "4  Black Panther             "
      ]
     },
     "execution_count": 18,
     "metadata": {},
     "output_type": "execute_result"
    }
   ],
   "source": [
    "top_charts_df.head()"
   ]
  },
  {
   "cell_type": "code",
   "execution_count": 9,
   "metadata": {},
   "outputs": [],
   "source": [
    "suggestions_dict = r.suggestions(keyword='pizza')"
   ]
  },
  {
   "cell_type": "code",
   "execution_count": 19,
   "metadata": {},
   "outputs": [
    {
     "data": {
      "text/plain": [
       "[{'mid': '/m/0663v', 'title': 'Pizza', 'type': 'Dish'},\n",
       " {'mid': '/m/03clwm', 'title': \"Domino's Pizza\", 'type': 'Restaurant company'},\n",
       " {'mid': '/m/09cfq', 'title': 'Pizza Hut', 'type': 'Restaurant company'},\n",
       " {'mid': '/m/020tvm',\n",
       "  'title': \"Papa John's Pizza\",\n",
       "  'type': 'Restaurant company'},\n",
       " {'mid': '/m/02hvyj', 'title': 'Mystic Pizza', 'type': '1988 film'}]"
      ]
     },
     "execution_count": 19,
     "metadata": {},
     "output_type": "execute_result"
    }
   ],
   "source": [
    "suggestions_dict"
   ]
  }
 ],
 "metadata": {
  "kernelspec": {
   "display_name": "Python 3",
   "language": "python",
   "name": "python3"
  },
  "language_info": {
   "codemirror_mode": {
    "name": "ipython",
    "version": 3
   },
   "file_extension": ".py",
   "mimetype": "text/x-python",
   "name": "python",
   "nbconvert_exporter": "python",
   "pygments_lexer": "ipython3",
   "version": "3.8.7"
  }
 },
 "nbformat": 4,
 "nbformat_minor": 4
}
