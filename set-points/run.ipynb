{
 "cells": [
  {
   "cell_type": "code",
   "execution_count": 3,
   "metadata": {},
   "outputs": [],
   "source": [
    "from os import environ\n",
    "from tempfile import mkdtemp\n",
    "\n",
    "input_folder = environ.get('CROSSCOMPUTE_INPUT_FOLDER', 'tests/standard/input')\n",
    "output_folder = environ.get('CROSSCOMPUTE_OUTPUT_FOLDER', mkdtemp())\n",
    "log_folder = environ.get('CROSSCOMPUTE_LOG_FOLDER', mkdtemp())\n",
    "debug_folder = environ.get('CROSSCOMPUTE_DEBUG_FOLDER', mkdtemp())"
   ]
  },
  {
   "cell_type": "code",
   "execution_count": 4,
   "metadata": {},
   "outputs": [],
   "source": [
    "from os.path import join\n",
    "\n",
    "log_file = open(join(log_folder, 'log.txt'), 'wt')"
   ]
  },
  {
   "cell_type": "code",
   "execution_count": 5,
   "metadata": {},
   "outputs": [
    {
     "data": {
      "text/html": [
       "<div>\n",
       "<style scoped>\n",
       "    .dataframe tbody tr th:only-of-type {\n",
       "        vertical-align: middle;\n",
       "    }\n",
       "\n",
       "    .dataframe tbody tr th {\n",
       "        vertical-align: top;\n",
       "    }\n",
       "\n",
       "    .dataframe thead th {\n",
       "        text-align: right;\n",
       "    }\n",
       "</style>\n",
       "<table border=\"1\" class=\"dataframe\">\n",
       "  <thead>\n",
       "    <tr style=\"text-align: right;\">\n",
       "      <th></th>\n",
       "      <th>geometry_object</th>\n",
       "      <th>geometry_layer</th>\n",
       "      <th>geometry_proj4</th>\n",
       "    </tr>\n",
       "  </thead>\n",
       "  <tbody>\n",
       "    <tr>\n",
       "      <th>0</th>\n",
       "      <td>POLYGON ((0 0, 10 0, 10 10, 0 10, 0 0))</td>\n",
       "      <td>region</td>\n",
       "      <td>+proj=longlat +datum=WGS84 +no_defs</td>\n",
       "    </tr>\n",
       "  </tbody>\n",
       "</table>\n",
       "</div>"
      ],
      "text/plain": [
       "                           geometry_object geometry_layer  \\\n",
       "0  POLYGON ((0 0, 10 0, 10 10, 0 10, 0 0))         region   \n",
       "\n",
       "                        geometry_proj4  \n",
       "0  +proj=longlat +datum=WGS84 +no_defs  "
      ]
     },
     "execution_count": 5,
     "metadata": {},
     "output_type": "execute_result"
    }
   ],
   "source": [
    "import geotable\n",
    "\n",
    "region_path = join(input_folder, 'region.geojson')\n",
    "region_geotable = geotable.load(region_path)\n",
    "try:\n",
    "    region_proj4 = region_geotable['geometry_proj4'][0]\n",
    "except (KeyError, IndexError):\n",
    "    log_file.write('No region specified. Please specify at least one region.')\n",
    "region_geotable"
   ]
  },
  {
   "cell_type": "code",
   "execution_count": 6,
   "metadata": {},
   "outputs": [
    {
     "data": {
      "image/svg+xml": [
       "<svg xmlns=\"http://www.w3.org/2000/svg\" xmlns:xlink=\"http://www.w3.org/1999/xlink\" width=\"100.0\" height=\"100.0\" viewBox=\"-0.4 -0.4 10.8 10.8\" preserveAspectRatio=\"xMinYMin meet\"><g transform=\"matrix(1,0,0,-1,0,10.0)\"><path fill-rule=\"evenodd\" fill=\"#66cc99\" stroke=\"#555555\" stroke-width=\"0.21600000000000003\" opacity=\"0.6\" d=\"M 0.0,0.0 L 10.0,0.0 L 10.0,10.0 L 0.0,10.0 L 0.0,0.0 z\" /></g></svg>"
      ],
      "text/plain": [
       "<shapely.geometry.polygon.Polygon at 0x7f9c1060d400>"
      ]
     },
     "execution_count": 6,
     "metadata": {},
     "output_type": "execute_result"
    }
   ],
   "source": [
    "from shapely.ops import cascaded_union\n",
    "\n",
    "region_geometry = cascaded_union(region_geotable.geometries)\n",
    "region_geometry"
   ]
  },
  {
   "cell_type": "code",
   "execution_count": 7,
   "metadata": {},
   "outputs": [
    {
     "data": {
      "text/plain": [
       "(0.0, 0.0, 10.0, 10.0)"
      ]
     },
     "execution_count": 7,
     "metadata": {},
     "output_type": "execute_result"
    }
   ],
   "source": [
    "minimum_x, minimum_y, maximum_x, maximum_y = region_geometry.bounds\n",
    "minimum_x, minimum_y, maximum_x, maximum_y"
   ]
  },
  {
   "cell_type": "code",
   "execution_count": 8,
   "metadata": {},
   "outputs": [
    {
     "data": {
      "text/plain": [
       "{'count': 100}"
      ]
     },
     "execution_count": 8,
     "metadata": {},
     "output_type": "execute_result"
    }
   ],
   "source": [
    "import json\n",
    "\n",
    "settings = json.load(open(join(input_folder, 'settings.json')))\n",
    "settings"
   ]
  },
  {
   "cell_type": "code",
   "execution_count": 9,
   "metadata": {},
   "outputs": [
    {
     "data": {
      "text/plain": [
       "100"
      ]
     },
     "execution_count": 9,
     "metadata": {},
     "output_type": "execute_result"
    }
   ],
   "source": [
    "point_count = settings['count']\n",
    "point_count"
   ]
  },
  {
   "cell_type": "code",
   "execution_count": 13,
   "metadata": {},
   "outputs": [],
   "source": [
    "import random\n",
    "from shapely.geometry import Point\n",
    "\n",
    "def make_random_points(region_geometry, target_count):\n",
    "    # https://crosscompute.com/n/kRpuoRdCNNRP7bmeOxQE9EOw8QNPvl5j\n",
    "    points = []\n",
    "    # while True:\n",
    "    count = len(points)\n",
    "    # if count >= target_count:\n",
    "        # break\n",
    "    # Generate random points inside bounds\n",
    "    random_points = [Point(\n",
    "        random.uniform(minimum_x, maximum_x),\n",
    "        random.uniform(minimum_y, maximum_y),\n",
    "    ) for _ in range(target_count)]\n",
    "    # Retain points inside region\n",
    "    random_point_collection = cascaded_union(random_points + points)\n",
    "    points = list(random_point_collection.intersection(region_geometry))\n",
    "    # Trim if there are too many\n",
    "    return points[:target_count]\n",
    "\n",
    "points = make_random_points(region_geometry, point_count)"
   ]
  },
  {
   "cell_type": "code",
   "execution_count": 14,
   "metadata": {},
   "outputs": [
    {
     "data": {
      "image/svg+xml": [
       "<svg xmlns=\"http://www.w3.org/2000/svg\" xmlns:xlink=\"http://www.w3.org/1999/xlink\" width=\"100.0\" height=\"100.0\" viewBox=\"-0.3923509743458817 -0.31789098985722325 10.395854896342364 10.674915958366629\" preserveAspectRatio=\"xMinYMin meet\"><g transform=\"matrix(1,0,0,-1,0,10.039133978652181)\"><g><circle cx=\"0.0030162833714009185\" cy=\"2.622373974603903\" r=\"0.3202474787509989\" stroke=\"#555555\" stroke-width=\"0.10674915958366629\" fill=\"#312ff6\" opacity=\"0.6\" /><circle cx=\"0.026107041367504635\" cy=\"2.9157008492797876\" r=\"0.3202474787509989\" stroke=\"#555555\" stroke-width=\"0.10674915958366629\" fill=\"#e44123\" opacity=\"0.6\" /><circle cx=\"0.1069791479004989\" cy=\"1.4628490515612913\" r=\"0.3202474787509989\" stroke=\"#555555\" stroke-width=\"0.10674915958366629\" fill=\"#1b4316\" opacity=\"0.6\" /><circle cx=\"0.16275166513925132\" cy=\"3.40726533490023\" r=\"0.3202474787509989\" stroke=\"#555555\" stroke-width=\"0.10674915958366629\" fill=\"#a1f23b\" opacity=\"0.6\" /><circle cx=\"0.26482897149069706\" cy=\"7.197125869005174\" r=\"0.3202474787509989\" stroke=\"#555555\" stroke-width=\"0.10674915958366629\" fill=\"#dfdf6e\" opacity=\"0.6\" /><circle cx=\"0.312585365747613\" cy=\"2.080407711424818\" r=\"0.3202474787509989\" stroke=\"#555555\" stroke-width=\"0.10674915958366629\" fill=\"#0300ad\" opacity=\"0.6\" /><circle cx=\"0.42223378477225126\" cy=\"5.457993632678568\" r=\"0.3202474787509989\" stroke=\"#555555\" stroke-width=\"0.10674915958366629\" fill=\"#6c698b\" opacity=\"0.6\" /><circle cx=\"0.47368771478945915\" cy=\"0.38101943641652647\" r=\"0.3202474787509989\" stroke=\"#555555\" stroke-width=\"0.10674915958366629\" fill=\"#132e18\" opacity=\"0.6\" /><circle cx=\"0.5425815675386181\" cy=\"0.6705255036327162\" r=\"0.3202474787509989\" stroke=\"#555555\" stroke-width=\"0.10674915958366629\" fill=\"#763c12\" opacity=\"0.6\" /><circle cx=\"0.7732618686482173\" cy=\"2.1214701447647855\" r=\"0.3202474787509989\" stroke=\"#555555\" stroke-width=\"0.10674915958366629\" fill=\"#4fe2f5\" opacity=\"0.6\" /><circle cx=\"0.8082417014609966\" cy=\"2.9724264659354516\" r=\"0.3202474787509989\" stroke=\"#555555\" stroke-width=\"0.10674915958366629\" fill=\"#314513\" opacity=\"0.6\" /><circle cx=\"0.9087558684045249\" cy=\"2.434090445063962\" r=\"0.3202474787509989\" stroke=\"#555555\" stroke-width=\"0.10674915958366629\" fill=\"#653ac8\" opacity=\"0.6\" /><circle cx=\"0.9313330201774039\" cy=\"7.31786997473389\" r=\"0.3202474787509989\" stroke=\"#555555\" stroke-width=\"0.10674915958366629\" fill=\"#d6a6d7\" opacity=\"0.6\" /><circle cx=\"1.0449817874745049\" cy=\"8.16369209915376\" r=\"0.3202474787509989\" stroke=\"#555555\" stroke-width=\"0.10674915958366629\" fill=\"#a47630\" opacity=\"0.6\" /><circle cx=\"1.2403885634017453\" cy=\"2.4324645614690055\" r=\"0.3202474787509989\" stroke=\"#555555\" stroke-width=\"0.10674915958366629\" fill=\"#36f217\" opacity=\"0.6\" /><circle cx=\"1.3421635333324755\" cy=\"2.342046656428459\" r=\"0.3202474787509989\" stroke=\"#555555\" stroke-width=\"0.10674915958366629\" fill=\"#ed1096\" opacity=\"0.6\" /><circle cx=\"1.3807892015321022\" cy=\"9.019389300283121\" r=\"0.3202474787509989\" stroke=\"#555555\" stroke-width=\"0.10674915958366629\" fill=\"#fcb40e\" opacity=\"0.6\" /><circle cx=\"1.5943160440708604\" cy=\"0.7745434664539996\" r=\"0.3202474787509989\" stroke=\"#555555\" stroke-width=\"0.10674915958366629\" fill=\"#e8162f\" opacity=\"0.6\" /><circle cx=\"1.7276488562601844\" cy=\"4.611945944600513\" r=\"0.3202474787509989\" stroke=\"#555555\" stroke-width=\"0.10674915958366629\" fill=\"#131fc9\" opacity=\"0.6\" /><circle cx=\"1.7669087267206474\" cy=\"1.0746023826214024\" r=\"0.3202474787509989\" stroke=\"#555555\" stroke-width=\"0.10674915958366629\" fill=\"#007714\" opacity=\"0.6\" /><circle cx=\"1.8331285544970433\" cy=\"2.251581876399854\" r=\"0.3202474787509989\" stroke=\"#555555\" stroke-width=\"0.10674915958366629\" fill=\"#81df69\" opacity=\"0.6\" /><circle cx=\"1.8511963127801467\" cy=\"4.437046029717122\" r=\"0.3202474787509989\" stroke=\"#555555\" stroke-width=\"0.10674915958366629\" fill=\"#9e97ea\" opacity=\"0.6\" /><circle cx=\"1.8977100110360634\" cy=\"6.147276324904887\" r=\"0.3202474787509989\" stroke=\"#555555\" stroke-width=\"0.10674915958366629\" fill=\"#053083\" opacity=\"0.6\" /><circle cx=\"2.187051894602318\" cy=\"5.275393459297694\" r=\"0.3202474787509989\" stroke=\"#555555\" stroke-width=\"0.10674915958366629\" fill=\"#d8e4e5\" opacity=\"0.6\" /><circle cx=\"2.199656397405448\" cy=\"6.134488560460948\" r=\"0.3202474787509989\" stroke=\"#555555\" stroke-width=\"0.10674915958366629\" fill=\"#63d932\" opacity=\"0.6\" /><circle cx=\"2.2257849087438455\" cy=\"1.6560264605115416\" r=\"0.3202474787509989\" stroke=\"#555555\" stroke-width=\"0.10674915958366629\" fill=\"#91a482\" opacity=\"0.6\" /><circle cx=\"2.443942991553383\" cy=\"1.8905510792205937\" r=\"0.3202474787509989\" stroke=\"#555555\" stroke-width=\"0.10674915958366629\" fill=\"#8c7068\" opacity=\"0.6\" /><circle cx=\"2.5351523184127256\" cy=\"8.910378281402263\" r=\"0.3202474787509989\" stroke=\"#555555\" stroke-width=\"0.10674915958366629\" fill=\"#3a9146\" opacity=\"0.6\" /><circle cx=\"2.594649384183394\" cy=\"2.082265029511726\" r=\"0.3202474787509989\" stroke=\"#555555\" stroke-width=\"0.10674915958366629\" fill=\"#2e9905\" opacity=\"0.6\" /><circle cx=\"2.63360629436069\" cy=\"0.8994202060467327\" r=\"0.3202474787509989\" stroke=\"#555555\" stroke-width=\"0.10674915958366629\" fill=\"#b01527\" opacity=\"0.6\" /><circle cx=\"2.8899745114542275\" cy=\"1.3818838026033264\" r=\"0.3202474787509989\" stroke=\"#555555\" stroke-width=\"0.10674915958366629\" fill=\"#6bbdba\" opacity=\"0.6\" /><circle cx=\"2.8945081931656915\" cy=\"6.817179447959022\" r=\"0.3202474787509989\" stroke=\"#555555\" stroke-width=\"0.10674915958366629\" fill=\"#6db5ff\" opacity=\"0.6\" /><circle cx=\"3.037614547297073\" cy=\"1.2936095507479306\" r=\"0.3202474787509989\" stroke=\"#555555\" stroke-width=\"0.10674915958366629\" fill=\"#a279e8\" opacity=\"0.6\" /><circle cx=\"3.167478139777322\" cy=\"4.743773751948498\" r=\"0.3202474787509989\" stroke=\"#555555\" stroke-width=\"0.10674915958366629\" fill=\"#78457c\" opacity=\"0.6\" /><circle cx=\"3.3245826449149107\" cy=\"2.297733477876834\" r=\"0.3202474787509989\" stroke=\"#555555\" stroke-width=\"0.10674915958366629\" fill=\"#b60973\" opacity=\"0.6\" /><circle cx=\"3.359413538997633\" cy=\"3.713747840707886\" r=\"0.3202474787509989\" stroke=\"#555555\" stroke-width=\"0.10674915958366629\" fill=\"#157505\" opacity=\"0.6\" /><circle cx=\"3.458234445734832\" cy=\"7.338381561810704\" r=\"0.3202474787509989\" stroke=\"#555555\" stroke-width=\"0.10674915958366629\" fill=\"#9ae469\" opacity=\"0.6\" /><circle cx=\"3.811946812641207\" cy=\"0.07747626786005934\" r=\"0.3202474787509989\" stroke=\"#555555\" stroke-width=\"0.10674915958366629\" fill=\"#f1a500\" opacity=\"0.6\" /><circle cx=\"3.8328819798680613\" cy=\"0.9749220905352984\" r=\"0.3202474787509989\" stroke=\"#555555\" stroke-width=\"0.10674915958366629\" fill=\"#cf96ed\" opacity=\"0.6\" /><circle cx=\"4.006809911198435\" cy=\"0.8513762779726741\" r=\"0.3202474787509989\" stroke=\"#555555\" stroke-width=\"0.10674915958366629\" fill=\"#b85561\" opacity=\"0.6\" /><circle cx=\"4.225759592255861\" cy=\"2.6148790156873547\" r=\"0.3202474787509989\" stroke=\"#555555\" stroke-width=\"0.10674915958366629\" fill=\"#831db1\" opacity=\"0.6\" /><circle cx=\"4.350204438142461\" cy=\"1.8958004103418424\" r=\"0.3202474787509989\" stroke=\"#555555\" stroke-width=\"0.10674915958366629\" fill=\"#512b2b\" opacity=\"0.6\" /><circle cx=\"4.379939563370721\" cy=\"3.762480596726563\" r=\"0.3202474787509989\" stroke=\"#555555\" stroke-width=\"0.10674915958366629\" fill=\"#6662bb\" opacity=\"0.6\" /><circle cx=\"4.5461239832572655\" cy=\"3.4372259385110784\" r=\"0.3202474787509989\" stroke=\"#555555\" stroke-width=\"0.10674915958366629\" fill=\"#9426a2\" opacity=\"0.6\" /><circle cx=\"4.7023846435783225\" cy=\"6.405793157832903\" r=\"0.3202474787509989\" stroke=\"#555555\" stroke-width=\"0.10674915958366629\" fill=\"#a11604\" opacity=\"0.6\" /><circle cx=\"4.733268092330055\" cy=\"3.914320613885418\" r=\"0.3202474787509989\" stroke=\"#555555\" stroke-width=\"0.10674915958366629\" fill=\"#562b65\" opacity=\"0.6\" /><circle cx=\"4.839369914708045\" cy=\"7.097347905023898\" r=\"0.3202474787509989\" stroke=\"#555555\" stroke-width=\"0.10674915958366629\" fill=\"#dc9ab2\" opacity=\"0.6\" /><circle cx=\"4.8490561690224645\" cy=\"6.09027084807537\" r=\"0.3202474787509989\" stroke=\"#555555\" stroke-width=\"0.10674915958366629\" fill=\"#3715b1\" opacity=\"0.6\" /><circle cx=\"5.141903503555864\" cy=\"8.13855051171914\" r=\"0.3202474787509989\" stroke=\"#555555\" stroke-width=\"0.10674915958366629\" fill=\"#3b2fa8\" opacity=\"0.6\" /><circle cx=\"5.259341771700075\" cy=\"6.659311186917557\" r=\"0.3202474787509989\" stroke=\"#555555\" stroke-width=\"0.10674915958366629\" fill=\"#b886d1\" opacity=\"0.6\" /><circle cx=\"5.331418094708979\" cy=\"8.006274882637081\" r=\"0.3202474787509989\" stroke=\"#555555\" stroke-width=\"0.10674915958366629\" fill=\"#6dec9f\" opacity=\"0.6\" /><circle cx=\"5.343140433330246\" cy=\"2.0866951788939145\" r=\"0.3202474787509989\" stroke=\"#555555\" stroke-width=\"0.10674915958366629\" fill=\"#f7d319\" opacity=\"0.6\" /><circle cx=\"5.414578729139582\" cy=\"9.17520404884931\" r=\"0.3202474787509989\" stroke=\"#555555\" stroke-width=\"0.10674915958366629\" fill=\"#61e6c0\" opacity=\"0.6\" /><circle cx=\"5.588418835833979\" cy=\"8.014691496929673\" r=\"0.3202474787509989\" stroke=\"#555555\" stroke-width=\"0.10674915958366629\" fill=\"#43b5bb\" opacity=\"0.6\" /><circle cx=\"5.627680445823799\" cy=\"1.8086632182506301\" r=\"0.3202474787509989\" stroke=\"#555555\" stroke-width=\"0.10674915958366629\" fill=\"#dc8fac\" opacity=\"0.6\" /><circle cx=\"5.676252325416582\" cy=\"3.1281340985408312\" r=\"0.3202474787509989\" stroke=\"#555555\" stroke-width=\"0.10674915958366629\" fill=\"#fe930e\" opacity=\"0.6\" /><circle cx=\"5.918375299521147\" cy=\"7.58068476679488\" r=\"0.3202474787509989\" stroke=\"#555555\" stroke-width=\"0.10674915958366629\" fill=\"#a7f975\" opacity=\"0.6\" /><circle cx=\"5.924034840549368\" cy=\"1.351702691969786\" r=\"0.3202474787509989\" stroke=\"#555555\" stroke-width=\"0.10674915958366629\" fill=\"#8e67e1\" opacity=\"0.6\" /><circle cx=\"5.92515886010373\" cy=\"1.2224857917338994\" r=\"0.3202474787509989\" stroke=\"#555555\" stroke-width=\"0.10674915958366629\" fill=\"#48ae72\" opacity=\"0.6\" /><circle cx=\"5.934857031783612\" cy=\"4.786148065266193\" r=\"0.3202474787509989\" stroke=\"#555555\" stroke-width=\"0.10674915958366629\" fill=\"#a24f63\" opacity=\"0.6\" /><circle cx=\"5.959362318535149\" cy=\"1.1040554698711724\" r=\"0.3202474787509989\" stroke=\"#555555\" stroke-width=\"0.10674915958366629\" fill=\"#bf2b9f\" opacity=\"0.6\" /><circle cx=\"6.26932736797512\" cy=\"6.361396789822487\" r=\"0.3202474787509989\" stroke=\"#555555\" stroke-width=\"0.10674915958366629\" fill=\"#60bcb6\" opacity=\"0.6\" /><circle cx=\"6.414627512668441\" cy=\"1.50445249924685\" r=\"0.3202474787509989\" stroke=\"#555555\" stroke-width=\"0.10674915958366629\" fill=\"#1bc3bb\" opacity=\"0.6\" /><circle cx=\"6.579175367985812\" cy=\"2.3887892237597965\" r=\"0.3202474787509989\" stroke=\"#555555\" stroke-width=\"0.10674915958366629\" fill=\"#092d49\" opacity=\"0.6\" /><circle cx=\"6.645345255838148\" cy=\"5.327102590056728\" r=\"0.3202474787509989\" stroke=\"#555555\" stroke-width=\"0.10674915958366629\" fill=\"#8b66f0\" opacity=\"0.6\" /><circle cx=\"6.645640403490647\" cy=\"4.750975692120333\" r=\"0.3202474787509989\" stroke=\"#555555\" stroke-width=\"0.10674915958366629\" fill=\"#f667a1\" opacity=\"0.6\" /><circle cx=\"6.657941017743736\" cy=\"0.22992814111038817\" r=\"0.3202474787509989\" stroke=\"#555555\" stroke-width=\"0.10674915958366629\" fill=\"#0eb380\" opacity=\"0.6\" /><circle cx=\"6.69772991424026\" cy=\"1.6867543859641665\" r=\"0.3202474787509989\" stroke=\"#555555\" stroke-width=\"0.10674915958366629\" fill=\"#b884a4\" opacity=\"0.6\" /><circle cx=\"6.725157252152031\" cy=\"5.056670543748863\" r=\"0.3202474787509989\" stroke=\"#555555\" stroke-width=\"0.10674915958366629\" fill=\"#eee5a8\" opacity=\"0.6\" /><circle cx=\"6.824648573586208\" cy=\"3.189992790092976\" r=\"0.3202474787509989\" stroke=\"#555555\" stroke-width=\"0.10674915958366629\" fill=\"#ff4b11\" opacity=\"0.6\" /><circle cx=\"7.147943376195423\" cy=\"9.594057162296876\" r=\"0.3202474787509989\" stroke=\"#555555\" stroke-width=\"0.10674915958366629\" fill=\"#cbe945\" opacity=\"0.6\" /><circle cx=\"7.15394557361418\" cy=\"6.006036520328423\" r=\"0.3202474787509989\" stroke=\"#555555\" stroke-width=\"0.10674915958366629\" fill=\"#e3c634\" opacity=\"0.6\" /><circle cx=\"7.16602065036817\" cy=\"1.0770177912966095\" r=\"0.3202474787509989\" stroke=\"#555555\" stroke-width=\"0.10674915958366629\" fill=\"#ee4019\" opacity=\"0.6\" /><circle cx=\"7.278414091286463\" cy=\"0.8060092447958489\" r=\"0.3202474787509989\" stroke=\"#555555\" stroke-width=\"0.10674915958366629\" fill=\"#ca5822\" opacity=\"0.6\" /><circle cx=\"7.384640982287908\" cy=\"1.9560457939348075\" r=\"0.3202474787509989\" stroke=\"#555555\" stroke-width=\"0.10674915958366629\" fill=\"#bc265b\" opacity=\"0.6\" /><circle cx=\"7.470631056916083\" cy=\"5.901588795731452\" r=\"0.3202474787509989\" stroke=\"#555555\" stroke-width=\"0.10674915958366629\" fill=\"#97c74a\" opacity=\"0.6\" /><circle cx=\"7.482019047718802\" cy=\"0.4285116275390477\" r=\"0.3202474787509989\" stroke=\"#555555\" stroke-width=\"0.10674915958366629\" fill=\"#824373\" opacity=\"0.6\" /><circle cx=\"7.502849973817324\" cy=\"7.8167554970623785\" r=\"0.3202474787509989\" stroke=\"#555555\" stroke-width=\"0.10674915958366629\" fill=\"#d258df\" opacity=\"0.6\" /><circle cx=\"7.550062362068795\" cy=\"9.70084876840377\" r=\"0.3202474787509989\" stroke=\"#555555\" stroke-width=\"0.10674915958366629\" fill=\"#06ea5c\" opacity=\"0.6\" /><circle cx=\"7.588251971741588\" cy=\"5.662312339610594\" r=\"0.3202474787509989\" stroke=\"#555555\" stroke-width=\"0.10674915958366629\" fill=\"#be55af\" opacity=\"0.6\" /><circle cx=\"7.612201933675856\" cy=\"9.961657710792123\" r=\"0.3202474787509989\" stroke=\"#555555\" stroke-width=\"0.10674915958366629\" fill=\"#631354\" opacity=\"0.6\" /><circle cx=\"7.801574681331966\" cy=\"2.3595582516161837\" r=\"0.3202474787509989\" stroke=\"#555555\" stroke-width=\"0.10674915958366629\" fill=\"#de1434\" opacity=\"0.6\" /><circle cx=\"7.808430220333937\" cy=\"8.756535727975344\" r=\"0.3202474787509989\" stroke=\"#555555\" stroke-width=\"0.10674915958366629\" fill=\"#239d37\" opacity=\"0.6\" /><circle cx=\"7.912765325944379\" cy=\"1.6400661937930183\" r=\"0.3202474787509989\" stroke=\"#555555\" stroke-width=\"0.10674915958366629\" fill=\"#254fa9\" opacity=\"0.6\" /><circle cx=\"7.921920082210626\" cy=\"2.220929827164728\" r=\"0.3202474787509989\" stroke=\"#555555\" stroke-width=\"0.10674915958366629\" fill=\"#a70339\" opacity=\"0.6\" /><circle cx=\"7.938541169510272\" cy=\"2.603739978851236\" r=\"0.3202474787509989\" stroke=\"#555555\" stroke-width=\"0.10674915958366629\" fill=\"#c07e36\" opacity=\"0.6\" /><circle cx=\"7.998555473141774\" cy=\"7.448916102795504\" r=\"0.3202474787509989\" stroke=\"#555555\" stroke-width=\"0.10674915958366629\" fill=\"#893f36\" opacity=\"0.6\" /><circle cx=\"8.359659104680773\" cy=\"3.266638152895819\" r=\"0.3202474787509989\" stroke=\"#555555\" stroke-width=\"0.10674915958366629\" fill=\"#26aaf8\" opacity=\"0.6\" /><circle cx=\"8.36554819479026\" cy=\"0.6622274861837285\" r=\"0.3202474787509989\" stroke=\"#555555\" stroke-width=\"0.10674915958366629\" fill=\"#e27200\" opacity=\"0.6\" /><circle cx=\"8.454392821668712\" cy=\"3.4927622187695895\" r=\"0.3202474787509989\" stroke=\"#555555\" stroke-width=\"0.10674915958366629\" fill=\"#3df001\" opacity=\"0.6\" /><circle cx=\"8.564586047556366\" cy=\"8.23207923378274\" r=\"0.3202474787509989\" stroke=\"#555555\" stroke-width=\"0.10674915958366629\" fill=\"#69c0ad\" opacity=\"0.6\" /><circle cx=\"8.701028125727747\" cy=\"7.773283406907884\" r=\"0.3202474787509989\" stroke=\"#555555\" stroke-width=\"0.10674915958366629\" fill=\"#4731d1\" opacity=\"0.6\" /><circle cx=\"8.81688365974378\" cy=\"6.862195923355942\" r=\"0.3202474787509989\" stroke=\"#555555\" stroke-width=\"0.10674915958366629\" fill=\"#408d7a\" opacity=\"0.6\" /><circle cx=\"8.851338524221463\" cy=\"3.5228547371099737\" r=\"0.3202474787509989\" stroke=\"#555555\" stroke-width=\"0.10674915958366629\" fill=\"#6f20ca\" opacity=\"0.6\" /><circle cx=\"9.024178711668295\" cy=\"1.931248026273874\" r=\"0.3202474787509989\" stroke=\"#555555\" stroke-width=\"0.10674915958366629\" fill=\"#7bb498\" opacity=\"0.6\" /><circle cx=\"9.380942817908618\" cy=\"8.563116422835359\" r=\"0.3202474787509989\" stroke=\"#555555\" stroke-width=\"0.10674915958366629\" fill=\"#c78683\" opacity=\"0.6\" /><circle cx=\"9.397941771239148\" cy=\"1.235167480245386\" r=\"0.3202474787509989\" stroke=\"#555555\" stroke-width=\"0.10674915958366629\" fill=\"#6d836c\" opacity=\"0.6\" /><circle cx=\"9.41517707440721\" cy=\"7.483836756222719\" r=\"0.3202474787509989\" stroke=\"#555555\" stroke-width=\"0.10674915958366629\" fill=\"#cf52da\" opacity=\"0.6\" /><circle cx=\"9.60588275080528\" cy=\"6.087354327284224\" r=\"0.3202474787509989\" stroke=\"#555555\" stroke-width=\"0.10674915958366629\" fill=\"#73972f\" opacity=\"0.6\" /><circle cx=\"9.6081366642792\" cy=\"5.209653171359129\" r=\"0.3202474787509989\" stroke=\"#555555\" stroke-width=\"0.10674915958366629\" fill=\"#c17268\" opacity=\"0.6\" /></g></g></svg>"
      ],
      "text/plain": [
       "<geotable.ColorfulGeometryCollection at 0x7f9bcbec3c40>"
      ]
     },
     "execution_count": 14,
     "metadata": {},
     "output_type": "execute_result"
    }
   ],
   "source": [
    "from geotable import ColorfulGeometryCollection\n",
    "ColorfulGeometryCollection(points)"
   ]
  },
  {
   "cell_type": "code",
   "execution_count": 15,
   "metadata": {},
   "outputs": [
    {
     "data": {
      "text/plain": [
       "'/tmp/tmpl8g0h52x/points.geojson'"
      ]
     },
     "execution_count": 15,
     "metadata": {},
     "output_type": "execute_result"
    }
   ],
   "source": [
    "points_geotable = geotable.GeoTable()\n",
    "points_geotable['geometry_object'] = points\n",
    "points_geotable['geometry_proj4'] = region_proj4\n",
    "points_geotable.save_geojson(join(output_folder, 'points.geojson'))"
   ]
  }
 ],
 "metadata": {
  "kernelspec": {
   "display_name": "Python 3",
   "language": "python",
   "name": "python3"
  },
  "language_info": {
   "codemirror_mode": {
    "name": "ipython",
    "version": 3
   },
   "file_extension": ".py",
   "mimetype": "text/x-python",
   "name": "python",
   "nbconvert_exporter": "python",
   "pygments_lexer": "ipython3",
   "version": "3.9.1"
  }
 },
 "nbformat": 4,
 "nbformat_minor": 4
}
