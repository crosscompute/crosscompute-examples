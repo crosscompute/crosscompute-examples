{
 "cells": [
  {
   "cell_type": "code",
   "execution_count": null,
   "metadata": {},
   "outputs": [],
   "source": [
    "from os import getenv\n",
    "from pathlib import Path\n",
    "\n",
    "input_folder = Path(getenv(\n",
    "    'CROSSCOMPUTE_INPUT_FOLDER', 'batches/standard/input'))\n",
    "output_folder = Path(getenv(\n",
    "    'CROSSCOMPUTE_OUTPUT_FOLDER', 'batches/standard/output'))\n",
    "log_folder = Path(getenv(\n",
    "    'CROSSCOMPUTE_LOG_FOLDER', 'batches/standard/log'))"
   ]
  },
  {
   "cell_type": "code",
   "execution_count": null,
   "metadata": {},
   "outputs": [],
   "source": [
    "log_file = (log_folder / 'log.txt').open('wt')"
   ]
  },
  {
   "cell_type": "code",
   "execution_count": null,
   "metadata": {},
   "outputs": [],
   "source": [
    "import geotable\n",
    "\n",
    "region_path = str(input_folder / 'region.geojson')\n",
    "region_geotable = geotable.load(region_path)\n",
    "try:\n",
    "    region_proj4 = region_geotable['geometry_proj4'][0]\n",
    "except (KeyError, IndexError):\n",
    "    log_file.write(\n",
    "        'No region specified. Please specify at least one region.')\n",
    "region_geotable"
   ]
  },
  {
   "cell_type": "code",
   "execution_count": null,
   "metadata": {},
   "outputs": [],
   "source": [
    "from shapely.ops import unary_union\n",
    "\n",
    "region_geometry = unary_union(region_geotable.geometries)\n",
    "region_geometry"
   ]
  },
  {
   "cell_type": "code",
   "execution_count": null,
   "metadata": {},
   "outputs": [],
   "source": [
    "import json\n",
    "\n",
    "with (input_folder / 'variables.dictionary').open('rt') as f:\n",
    "    settings = json.load(f)\n",
    "settings"
   ]
  },
  {
   "cell_type": "code",
   "execution_count": null,
   "metadata": {},
   "outputs": [],
   "source": [
    "point_count = settings['count']\n",
    "point_count"
   ]
  },
  {
   "cell_type": "code",
   "execution_count": null,
   "metadata": {},
   "outputs": [],
   "source": [
    "import random\n",
    "from shapely.geometry import Point\n",
    "from shapely.ops import unary_union\n",
    "\n",
    "def make_random_points(region_geometry, target_count):\n",
    "    points = []\n",
    "    minimum_x, minimum_y, maximum_x, maximum_y = region_geometry.bounds\n",
    "    while len(points) < target_count:\n",
    "        # Generate random points inside bounds\n",
    "        random_points = [Point(\n",
    "            random.uniform(minimum_x, maximum_x),\n",
    "            random.uniform(minimum_y, maximum_y),\n",
    "        ) for _ in range(target_count)]\n",
    "        # Retain points inside region\n",
    "        collection = unary_union(random_points + points)\n",
    "        intersection = collection.intersection(region_geometry)\n",
    "        if intersection.type == 'Point':\n",
    "            points = [intersection]\n",
    "        else:\n",
    "            points = list(intersection.geoms)\n",
    "    # Trim if there are too many\n",
    "    return points[:target_count]\n",
    "\n",
    "from shapely.geometry import GeometryCollection\n",
    "points = make_random_points(region_geometry, point_count)\n",
    "GeometryCollection(points + [region_geometry])"
   ]
  },
  {
   "cell_type": "code",
   "execution_count": null,
   "metadata": {},
   "outputs": [],
   "source": [
    "from geotable import ColorfulGeometryCollection\n",
    "ColorfulGeometryCollection(points)"
   ]
  },
  {
   "cell_type": "code",
   "execution_count": null,
   "metadata": {},
   "outputs": [],
   "source": [
    "points_geotable = geotable.GeoTable()\n",
    "points_geotable['geometry_object'] = points\n",
    "points_geotable['geometry_proj4'] = region_proj4\n",
    "points_geotable.save_geojson(str(output_folder / 'points.geojson'))"
   ]
  }
 ],
 "metadata": {
  "kernelspec": {
   "display_name": "Python 3 (ipykernel)",
   "language": "python",
   "name": "python3"
  },
  "language_info": {
   "codemirror_mode": {
    "name": "ipython",
    "version": 3
   },
   "file_extension": ".py",
   "mimetype": "text/x-python",
   "name": "python",
   "nbconvert_exporter": "python",
   "pygments_lexer": "ipython3",
   "version": "3.10.8"
  }
 },
 "nbformat": 4,
 "nbformat_minor": 4
}
