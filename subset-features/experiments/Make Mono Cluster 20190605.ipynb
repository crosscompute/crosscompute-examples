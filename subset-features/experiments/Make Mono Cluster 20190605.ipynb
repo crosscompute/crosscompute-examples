{
 "cells": [
  {
   "cell_type": "code",
   "execution_count": 1,
   "metadata": {},
   "outputs": [],
   "source": [
    "from os.path import expanduser\n",
    "building_geotable_path = expanduser('~/Experiments/lesotho-clusters/population_lso_2018-10-01.csv')"
   ]
  },
  {
   "cell_type": "code",
   "execution_count": 2,
   "metadata": {},
   "outputs": [],
   "source": [
    "import geotable\n",
    "building_geotable = geotable.load(building_geotable_path)"
   ]
  },
  {
   "cell_type": "code",
   "execution_count": 3,
   "metadata": {},
   "outputs": [
    {
     "data": {
      "text/html": [
       "<div>\n",
       "<style scoped>\n",
       "    .dataframe tbody tr th:only-of-type {\n",
       "        vertical-align: middle;\n",
       "    }\n",
       "\n",
       "    .dataframe tbody tr th {\n",
       "        vertical-align: top;\n",
       "    }\n",
       "\n",
       "    .dataframe thead th {\n",
       "        text-align: right;\n",
       "    }\n",
       "</style>\n",
       "<table border=\"1\" class=\"dataframe\">\n",
       "  <thead>\n",
       "    <tr style=\"text-align: right;\">\n",
       "      <th></th>\n",
       "      <th>Population</th>\n",
       "      <th>geometry_layer</th>\n",
       "      <th>geometry_proj4</th>\n",
       "      <th>geometry_object</th>\n",
       "    </tr>\n",
       "  </thead>\n",
       "  <tbody>\n",
       "    <tr>\n",
       "      <th>0</th>\n",
       "      <td>4.69765</td>\n",
       "      <td>population_lso_2018-10-01</td>\n",
       "      <td>+proj=longlat +datum=WGS84 +no_defs</td>\n",
       "      <td>POINT (28.6523611 -28.5754167)</td>\n",
       "    </tr>\n",
       "    <tr>\n",
       "      <th>1</th>\n",
       "      <td>4.69765</td>\n",
       "      <td>population_lso_2018-10-01</td>\n",
       "      <td>+proj=longlat +datum=WGS84 +no_defs</td>\n",
       "      <td>POINT (28.6543056 -28.5756944)</td>\n",
       "    </tr>\n",
       "    <tr>\n",
       "      <th>2</th>\n",
       "      <td>4.69765</td>\n",
       "      <td>population_lso_2018-10-01</td>\n",
       "      <td>+proj=longlat +datum=WGS84 +no_defs</td>\n",
       "      <td>POINT (28.6531944 -28.5759722)</td>\n",
       "    </tr>\n",
       "  </tbody>\n",
       "</table>\n",
       "</div>"
      ],
      "text/plain": [
       "   Population             geometry_layer                       geometry_proj4  \\\n",
       "0     4.69765  population_lso_2018-10-01  +proj=longlat +datum=WGS84 +no_defs   \n",
       "1     4.69765  population_lso_2018-10-01  +proj=longlat +datum=WGS84 +no_defs   \n",
       "2     4.69765  population_lso_2018-10-01  +proj=longlat +datum=WGS84 +no_defs   \n",
       "\n",
       "                  geometry_object  \n",
       "0  POINT (28.6523611 -28.5754167)  \n",
       "1  POINT (28.6543056 -28.5756944)  \n",
       "2  POINT (28.6531944 -28.5759722)  "
      ]
     },
     "execution_count": 3,
     "metadata": {},
     "output_type": "execute_result"
    }
   ],
   "source": [
    "building_geotable[:3]"
   ]
  },
  {
   "cell_type": "code",
   "execution_count": 4,
   "metadata": {},
   "outputs": [
    {
     "data": {
      "text/plain": [
       "RangeIndex(start=0, stop=404597, step=1)"
      ]
     },
     "execution_count": 4,
     "metadata": {},
     "output_type": "execute_result"
    }
   ],
   "source": [
    "building_geotable.index"
   ]
  },
  {
   "cell_type": "code",
   "execution_count": 5,
   "metadata": {},
   "outputs": [
    {
     "data": {
      "text/plain": [
       "380123"
      ]
     },
     "execution_count": 5,
     "metadata": {},
     "output_type": "execute_result"
    }
   ],
   "source": [
    "import random\n",
    "random.choice(building_geotable.index)"
   ]
  },
  {
   "cell_type": "code",
   "execution_count": 6,
   "metadata": {},
   "outputs": [],
   "source": [
    "# Pick a random building\n",
    "selected_building_index = random.choice(building_geotable.index)\n",
    "selected_building = building_geotable.iloc[selected_building_index]"
   ]
  },
  {
   "cell_type": "code",
   "execution_count": 7,
   "metadata": {},
   "outputs": [
    {
     "data": {
      "text/plain": [
       "Population                                     3.92117\n",
       "geometry_layer               population_lso_2018-10-01\n",
       "geometry_proj4     +proj=longlat +datum=WGS84 +no_defs\n",
       "geometry_object         POINT (27.4023611 -29.8815278)\n",
       "Name: 321722, dtype: object"
      ]
     },
     "execution_count": 7,
     "metadata": {},
     "output_type": "execute_result"
    }
   ],
   "source": [
    "selected_building"
   ]
  },
  {
   "cell_type": "code",
   "execution_count": 9,
   "metadata": {},
   "outputs": [],
   "source": [
    "import numpy as np\n",
    "\n",
    "def sort_geotable(\n",
    "        target_geotable,\n",
    "        source_geometry,\n",
    "        maximum_count=np.inf,\n",
    "        maximum_distance=np.inf):\n",
    "    column_name = '_distance_in_meters'\n",
    "    t = target_geotable.copy()\n",
    "    t[column_name] = t['geometry_object'].apply(\n",
    "        lambda g: g.distance(source_geometry))\n",
    "    t = t[t[column_name] <= maximum_distance]\n",
    "    t = t.sort_values(column_name)\n",
    "    if maximum_count < np.inf:\n",
    "        t = t[:maximum_count]\n",
    "    return target_geotable.loc[t.index]"
   ]
  },
  {
   "cell_type": "code",
   "execution_count": 10,
   "metadata": {},
   "outputs": [],
   "source": [
    "sorted_building_geotable = sort_geotable(building_geotable, selected_building.geometry_object)"
   ]
  },
  {
   "cell_type": "code",
   "execution_count": 11,
   "metadata": {},
   "outputs": [
    {
     "data": {
      "text/html": [
       "<div>\n",
       "<style scoped>\n",
       "    .dataframe tbody tr th:only-of-type {\n",
       "        vertical-align: middle;\n",
       "    }\n",
       "\n",
       "    .dataframe tbody tr th {\n",
       "        vertical-align: top;\n",
       "    }\n",
       "\n",
       "    .dataframe thead th {\n",
       "        text-align: right;\n",
       "    }\n",
       "</style>\n",
       "<table border=\"1\" class=\"dataframe\">\n",
       "  <thead>\n",
       "    <tr style=\"text-align: right;\">\n",
       "      <th></th>\n",
       "      <th>Population</th>\n",
       "      <th>geometry_layer</th>\n",
       "      <th>geometry_proj4</th>\n",
       "      <th>geometry_object</th>\n",
       "    </tr>\n",
       "  </thead>\n",
       "  <tbody>\n",
       "    <tr>\n",
       "      <th>321722</th>\n",
       "      <td>3.92117</td>\n",
       "      <td>population_lso_2018-10-01</td>\n",
       "      <td>+proj=longlat +datum=WGS84 +no_defs</td>\n",
       "      <td>POINT (27.4023611 -29.8815278)</td>\n",
       "    </tr>\n",
       "    <tr>\n",
       "      <th>321769</th>\n",
       "      <td>3.92117</td>\n",
       "      <td>population_lso_2018-10-01</td>\n",
       "      <td>+proj=longlat +datum=WGS84 +no_defs</td>\n",
       "      <td>POINT (27.4023611 -29.8818056)</td>\n",
       "    </tr>\n",
       "    <tr>\n",
       "      <th>321768</th>\n",
       "      <td>3.92117</td>\n",
       "      <td>population_lso_2018-10-01</td>\n",
       "      <td>+proj=longlat +datum=WGS84 +no_defs</td>\n",
       "      <td>POINT (27.4020833 -29.8818056)</td>\n",
       "    </tr>\n",
       "  </tbody>\n",
       "</table>\n",
       "</div>"
      ],
      "text/plain": [
       "        Population             geometry_layer  \\\n",
       "321722     3.92117  population_lso_2018-10-01   \n",
       "321769     3.92117  population_lso_2018-10-01   \n",
       "321768     3.92117  population_lso_2018-10-01   \n",
       "\n",
       "                             geometry_proj4                 geometry_object  \n",
       "321722  +proj=longlat +datum=WGS84 +no_defs  POINT (27.4023611 -29.8815278)  \n",
       "321769  +proj=longlat +datum=WGS84 +no_defs  POINT (27.4023611 -29.8818056)  \n",
       "321768  +proj=longlat +datum=WGS84 +no_defs  POINT (27.4020833 -29.8818056)  "
      ]
     },
     "execution_count": 11,
     "metadata": {},
     "output_type": "execute_result"
    }
   ],
   "source": [
    "sorted_building_geotable[:3]"
   ]
  },
  {
   "cell_type": "code",
   "execution_count": null,
   "metadata": {},
   "outputs": [],
   "source": [
    "# Sort buildings by distance\n",
    "# Get the specified number of buildings\n",
    "# Save"
   ]
  },
  {
   "cell_type": "code",
   "execution_count": 12,
   "metadata": {},
   "outputs": [],
   "source": [
    "t = sorted_building_geotable[:100]"
   ]
  },
  {
   "cell_type": "code",
   "execution_count": 13,
   "metadata": {},
   "outputs": [
    {
     "data": {
      "text/plain": [
       "'/tmp/lesotho-100.csv'"
      ]
     },
     "execution_count": 13,
     "metadata": {},
     "output_type": "execute_result"
    }
   ],
   "source": [
    "sorted_building_geotable[:100].save_csv('/tmp/lesotho-100.csv')"
   ]
  },
  {
   "cell_type": "code",
   "execution_count": 17,
   "metadata": {},
   "outputs": [
    {
     "data": {
      "text/plain": [
       "'/tmp/lesotho-100.shp.zip'"
      ]
     },
     "execution_count": 17,
     "metadata": {},
     "output_type": "execute_result"
    }
   ],
   "source": [
    "sorted_building_geotable[:100].save_shp('/tmp/lesotho-100.shp.zip')"
   ]
  },
  {
   "cell_type": "code",
   "execution_count": 14,
   "metadata": {},
   "outputs": [
    {
     "data": {
      "text/plain": [
       "'/tmp/lesotho-1000.csv'"
      ]
     },
     "execution_count": 14,
     "metadata": {},
     "output_type": "execute_result"
    }
   ],
   "source": [
    "sorted_building_geotable[:1000].save_csv('/tmp/lesotho-1000.csv')"
   ]
  },
  {
   "cell_type": "code",
   "execution_count": 18,
   "metadata": {},
   "outputs": [
    {
     "data": {
      "text/plain": [
       "'/tmp/lesotho-1000.shp.zip'"
      ]
     },
     "execution_count": 18,
     "metadata": {},
     "output_type": "execute_result"
    }
   ],
   "source": [
    "sorted_building_geotable[:1000].save_shp('/tmp/lesotho-1000.shp.zip')"
   ]
  },
  {
   "cell_type": "code",
   "execution_count": 15,
   "metadata": {},
   "outputs": [
    {
     "data": {
      "text/plain": [
       "'/tmp/lesotho-10000.csv'"
      ]
     },
     "execution_count": 15,
     "metadata": {},
     "output_type": "execute_result"
    }
   ],
   "source": [
    "sorted_building_geotable[:10000].save_csv('/tmp/lesotho-10000.csv')"
   ]
  },
  {
   "cell_type": "code",
   "execution_count": 19,
   "metadata": {},
   "outputs": [
    {
     "data": {
      "text/plain": [
       "'/tmp/lesotho-10000.shp.zip'"
      ]
     },
     "execution_count": 19,
     "metadata": {},
     "output_type": "execute_result"
    }
   ],
   "source": [
    "sorted_building_geotable[:10000].save_shp('/tmp/lesotho-10000.shp.zip')"
   ]
  },
  {
   "cell_type": "code",
   "execution_count": 16,
   "metadata": {},
   "outputs": [
    {
     "data": {
      "text/plain": [
       "'/tmp/lesotho-100000.csv'"
      ]
     },
     "execution_count": 16,
     "metadata": {},
     "output_type": "execute_result"
    }
   ],
   "source": [
    "sorted_building_geotable[:100000].save_csv('/tmp/lesotho-100000.csv')"
   ]
  },
  {
   "cell_type": "code",
   "execution_count": 20,
   "metadata": {},
   "outputs": [
    {
     "data": {
      "text/plain": [
       "'/tmp/lesotho-100000.shp.zip'"
      ]
     },
     "execution_count": 20,
     "metadata": {},
     "output_type": "execute_result"
    }
   ],
   "source": [
    "sorted_building_geotable[:100000].save_shp('/tmp/lesotho-100000.shp.zip')"
   ]
  },
  {
   "cell_type": "code",
   "execution_count": null,
   "metadata": {},
   "outputs": [],
   "source": []
  }
 ],
 "metadata": {
  "kernelspec": {
   "display_name": "Python 3",
   "language": "python",
   "name": "python3"
  },
  "language_info": {
   "codemirror_mode": {
    "name": "ipython",
    "version": 3
   },
   "file_extension": ".py",
   "mimetype": "text/x-python",
   "name": "python",
   "nbconvert_exporter": "python",
   "pygments_lexer": "ipython3",
   "version": "3.8.7"
  }
 },
 "nbformat": 4,
 "nbformat_minor": 4
}
