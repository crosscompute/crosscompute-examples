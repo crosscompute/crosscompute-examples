{
 "cells": [
  {
   "cell_type": "code",
   "execution_count": 70,
   "metadata": {},
   "outputs": [],
   "source": [
    "from os import environ\n",
    "\n",
    "input_folder = environ.get(\n",
    "    'CROSSCOMPUTE_INPUT_FOLDER', 'tests/standard/input')\n",
    "output_folder = environ.get(\n",
    "    'CROSSCOMPUTE_OUTPUT_FOLDER', 'tests/standard/output')\n",
    "log_folder = environ.get(\n",
    "    'CROSSCOMPUTE_LOG_FOLDER', 'tests/standard/log')\n",
    "debug_folder = environ.get(\n",
    "    'CROSSCOMPUTE_DEBUG_FOLDER', 'tests/standard/debug')"
   ]
  },
  {
   "cell_type": "code",
   "execution_count": 71,
   "metadata": {},
   "outputs": [
    {
     "data": {
      "text/plain": [
       "'x'"
      ]
     },
     "execution_count": 71,
     "metadata": {},
     "output_type": "execute_result"
    }
   ],
   "source": [
    "import json\n",
    "from os.path import join\n",
    "\n",
    "settings_path = join(input_folder, 'settings.json')\n",
    "d = json.load(open(settings_path, 'rt'))\n",
    "survey_code = d['survey-code']\n",
    "survey_code"
   ]
  },
  {
   "cell_type": "code",
   "execution_count": 72,
   "metadata": {},
   "outputs": [
    {
     "data": {
      "text/plain": [
       "{'assets': {'assetById': {},\n",
       "  'assetsGeoJson': {'type': 'FeatureCollection', 'features': []}},\n",
       " 'tasks': {},\n",
       " 'comments': {},\n",
       " 'risks': {}}"
      ]
     },
     "execution_count": 72,
     "metadata": {},
     "output_type": "execute_result"
    }
   ],
   "source": [
    "electricity_network_path = join(input_folder, 'electricity-network.json')\n",
    "electricity_network_dictionary = json.load(open(electricity_network_path, 'rt'))\n",
    "electricity_network_dictionary"
   ]
  },
  {
   "cell_type": "code",
   "execution_count": 73,
   "metadata": {},
   "outputs": [
    {
     "data": {
      "text/plain": [
       "'/home/roy/Experiments/survey-infrastructure/x/20210211-1445'"
      ]
     },
     "execution_count": 73,
     "metadata": {},
     "output_type": "execute_result"
    }
   ],
   "source": [
    "from invisibleroads_macros_disk import make_folder\n",
    "from invisibleroads_macros_log import get_timestamp\n",
    "from os.path import expanduser\n",
    "\n",
    "storage_folder = make_folder(expanduser('~/Experiments/survey-infrastructure'))\n",
    "survey_folder = make_folder(join(storage_folder, survey_code, get_timestamp()))\n",
    "survey_folder"
   ]
  },
  {
   "cell_type": "code",
   "execution_count": 74,
   "metadata": {},
   "outputs": [
    {
     "data": {
      "text/plain": [
       "'/home/roy/Experiments/survey-infrastructure/x/20210211-1445/electricity-network.json'"
      ]
     },
     "execution_count": 74,
     "metadata": {},
     "output_type": "execute_result"
    }
   ],
   "source": [
    "import shutil\n",
    "shutil.copy(electricity_network_path, join(output_folder, 'electricity-network.json'))\n",
    "shutil.copy(electricity_network_path, join(survey_folder, 'electricity-network.json'))"
   ]
  },
  {
   "cell_type": "code",
   "execution_count": 75,
   "metadata": {},
   "outputs": [
    {
     "data": {
      "text/plain": [
       "defaultdict(int, {})"
      ]
     },
     "execution_count": 75,
     "metadata": {},
     "output_type": "execute_result"
    }
   ],
   "source": [
    "from collections import defaultdict\n",
    "\n",
    "asset_count_by_type_code = defaultdict(int)\n",
    "asset_by_id = electricity_network_dictionary['assets']['assetById']\n",
    "for asset_id, asset_dictionary in asset_by_id.items():\n",
    "    asset_type_code = asset_dictionary['typeCode']\n",
    "    asset_count_by_type_code[asset_type_code] += 1\n",
    "\n",
    "asset_count_by_type_code"
   ]
  },
  {
   "cell_type": "code",
   "execution_count": 76,
   "metadata": {},
   "outputs": [
    {
     "data": {
      "text/html": [
       "<div>\n",
       "<style scoped>\n",
       "    .dataframe tbody tr th:only-of-type {\n",
       "        vertical-align: middle;\n",
       "    }\n",
       "\n",
       "    .dataframe tbody tr th {\n",
       "        vertical-align: top;\n",
       "    }\n",
       "\n",
       "    .dataframe thead th {\n",
       "        text-align: right;\n",
       "    }\n",
       "</style>\n",
       "<table border=\"1\" class=\"dataframe\">\n",
       "  <thead>\n",
       "    <tr style=\"text-align: right;\">\n",
       "      <th></th>\n",
       "      <th>type</th>\n",
       "      <th>count</th>\n",
       "    </tr>\n",
       "  </thead>\n",
       "  <tbody>\n",
       "  </tbody>\n",
       "</table>\n",
       "</div>"
      ],
      "text/plain": [
       "Empty DataFrame\n",
       "Columns: [type, count]\n",
       "Index: []"
      ]
     },
     "execution_count": 76,
     "metadata": {},
     "output_type": "execute_result"
    }
   ],
   "source": [
    "import pandas as pd\n",
    "t = pd.DataFrame(asset_count_by_type_code.items(), columns=['type', 'count'])\n",
    "t"
   ]
  },
  {
   "cell_type": "code",
   "execution_count": 77,
   "metadata": {},
   "outputs": [],
   "source": [
    "t = t.set_index('type').rename({\n",
    "    'g': 'generator',\n",
    "    't': 'transformer',\n",
    "    'q': 'power quality',\n",
    "    'm': 'meter',\n",
    "    'l': 'line',\n",
    "    'x': 'switch',\n",
    "})"
   ]
  },
  {
   "cell_type": "code",
   "execution_count": 78,
   "metadata": {},
   "outputs": [],
   "source": [
    "t.to_csv(join(output_folder, 'statistics.csv'))"
   ]
  },
  {
   "cell_type": "code",
   "execution_count": 79,
   "metadata": {},
   "outputs": [],
   "source": [
    "asset_features = electricity_network_dictionary['assets']['assetsGeoJson']['features']\n",
    "asset_features_by_type_code = defaultdict(list)\n",
    "for asset_type_code in ['g', 'l', 'm']:\n",
    "    for asset_feature in asset_features:\n",
    "        if asset_feature['properties']['typeCode'] == asset_type_code:\n",
    "            asset_features_by_type_code[asset_type_code].append(asset_feature)\n",
    "# dict(asset_features_by_type_code)"
   ]
  },
  {
   "cell_type": "code",
   "execution_count": 80,
   "metadata": {},
   "outputs": [],
   "source": [
    "import geojson\n",
    "\n",
    "def save_map(target_path, features):\n",
    "    geojson.dump({'type': 'FeatureCollection', 'features': features}, target_path)"
   ]
  },
  {
   "cell_type": "code",
   "execution_count": 81,
   "metadata": {},
   "outputs": [],
   "source": [
    "save_map(open(join(output_folder, 'electricity-generators.geojson'), 'wt'), asset_features_by_type_code['g'])\n",
    "save_map(open(join(output_folder, 'electricity-lines.geojson'), 'wt'), asset_features_by_type_code['l'])\n",
    "save_map(open(join(output_folder, 'electricity-meters.geojson'), 'wt'), asset_features_by_type_code['m'])"
   ]
  }
 ],
 "metadata": {
  "kernelspec": {
   "display_name": "Python 3",
   "language": "python",
   "name": "python3"
  },
  "language_info": {
   "codemirror_mode": {
    "name": "ipython",
    "version": 3
   },
   "file_extension": ".py",
   "mimetype": "text/x-python",
   "name": "python",
   "nbconvert_exporter": "python",
   "pygments_lexer": "ipython3",
   "version": "3.7.9"
  }
 },
 "nbformat": 4,
 "nbformat_minor": 4
}
