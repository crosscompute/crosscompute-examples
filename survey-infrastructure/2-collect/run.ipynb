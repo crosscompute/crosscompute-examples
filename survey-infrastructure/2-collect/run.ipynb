{
 "cells": [
  {
   "cell_type": "code",
   "execution_count": 42,
   "metadata": {},
   "outputs": [],
   "source": [
    "from os import environ\n",
    "\n",
    "input_folder = environ.get(\n",
    "    'CROSSCOMPUTE_INPUT_FOLDER', 'tests/standard/input')\n",
    "output_folder = environ.get(\n",
    "    'CROSSCOMPUTE_OUTPUT_FOLDER', 'tests/standard/output')\n",
    "log_folder = environ.get(\n",
    "    'CROSSCOMPUTE_LOG_FOLDER', 'tests/standard/log')\n",
    "debug_folder = environ.get(\n",
    "    'CROSSCOMPUTE_DEBUG_FOLDER', 'tests/standard/debug')"
   ]
  },
  {
   "cell_type": "code",
   "execution_count": 43,
   "metadata": {},
   "outputs": [
    {
     "data": {
      "text/plain": [
       "['x', 'y', 'z']"
      ]
     },
     "execution_count": 43,
     "metadata": {},
     "output_type": "execute_result"
    }
   ],
   "source": [
    "import json\n",
    "from os.path import join\n",
    "\n",
    "settings_path = join(input_folder, 'settings.json')\n",
    "d = json.load(open(settings_path, 'rt'))\n",
    "survey_codes = d['survey-codes'].strip().split()\n",
    "survey_codes"
   ]
  },
  {
   "cell_type": "code",
   "execution_count": 52,
   "metadata": {},
   "outputs": [],
   "source": [
    "asset_dictionary_by_id = {}\n",
    "asset_feature_by_id = {}\n",
    "\n",
    "def absorb_path(path, survey_code):\n",
    "    d = json.load(open(path, 'rt'))\n",
    "    # Deduplicate by asset name\n",
    "    asset_by_id = d['assets']['assetById']\n",
    "    asset_names = [_['name'] for _ in asset_by_id.values()]\n",
    "    \n",
    "    asset_ids = []\n",
    "    for asset_id, asset_dictionary in asset_dictionary_by_id.items():\n",
    "        if asset_dictionary['name'] in asset_names:\n",
    "            asset_ids.append(asset_id)\n",
    "    \n",
    "    for asset_id in asset_ids:\n",
    "        try:\n",
    "            del asset_dictionary_by_id[asset_id]\n",
    "        except KeyError:\n",
    "            pass\n",
    "        try:\n",
    "            del asset_feature_by_id[asset_id]\n",
    "        except KeyError:\n",
    "            pass\n",
    "    \n",
    "    for asset_id, asset_dictionary in asset_by_id.items():\n",
    "        try:\n",
    "            del asset_dictionary['id']\n",
    "        except KeyError:\n",
    "            pass\n",
    "        asset_dictionary['attributes'] = dict(asset_dictionary.get('attributes', {}), surveyCode=survey_code)\n",
    "        asset_dictionary_by_id[asset_id] = asset_dictionary\n",
    "    for asset_feature in d['assets']['assetsGeoJson']['features']:\n",
    "        asset_id = asset_feature['properties']['id']\n",
    "        asset_feature_by_id[asset_id] = asset_feature"
   ]
  },
  {
   "cell_type": "code",
   "execution_count": 53,
   "metadata": {},
   "outputs": [],
   "source": [
    "from glob import glob\n",
    "from os.path import expanduser, getctime\n",
    "\n",
    "# TODO: Make sure later timestamps override earlier timestamps for overlapping asset ids\n",
    "\n",
    "survey_folder = expanduser('~/Experiments/survey-infrastructure')\n",
    "electricity_network_paths = []\n",
    "for survey_code in survey_codes:\n",
    "    electricity_network_paths.extend(glob(join(\n",
    "        survey_folder, survey_code, '**', 'electricity-network.json',\n",
    "    ), recursive=True))\n",
    "for path in sorted(electricity_network_paths, key=lambda _: getctime(_)):\n",
    "    absorb_path(path, survey_code)"
   ]
  },
  {
   "cell_type": "code",
   "execution_count": 63,
   "metadata": {},
   "outputs": [],
   "source": [
    "asset_features = list(asset_feature_by_id.values())\n",
    "asset_features;"
   ]
  },
  {
   "cell_type": "code",
   "execution_count": 64,
   "metadata": {},
   "outputs": [
    {
     "data": {
      "text/plain": [
       "{'assets': {'assetById': {'IxhJEjQioBk3C6D01613061593101': {'utilityId': '',\n",
       "    'typeCode': 'g',\n",
       "    'name': '21/11 Emeka Anyaoku St, Garki, Abuja, Nigeria',\n",
       "    'connections': {'0': {'busId': 'Vcs93sWYQd0N54AM0iJk5eVE2WjrTKfo1613061593102'}},\n",
       "    'attributes': {'surveyCode': 'z'}},\n",
       "   'oM4Cj67GCYHNW24O1613061610237': {'utilityId': '',\n",
       "    'typeCode': 'l',\n",
       "    'name': 'Tawari, Nigeria',\n",
       "    'connections': {'0': {'busId': 'Vcs93sWYQd0N54AM0iJk5eVE2WjrTKfo1613061593102'},\n",
       "     '1': {'busId': 'SY7bn3MRMBJbjnYkcij5YCPxhFHIJCC61613061612495'},\n",
       "     '2': {'busId': '3lzlwSvDwcuZ5y4bUbI3wHMwjbKK3XCe1613061636392'}},\n",
       "    'vertexCount': 3,\n",
       "    'attributes': {'surveyCode': 'z'}},\n",
       "   'S3BBp1830pvYe7hb1613077271568': {'utilityId': '',\n",
       "    'typeCode': 'm',\n",
       "    'name': 'Lagos',\n",
       "    'connections': {'0': {'busId': 'dYwY3VWiLdFgpZl8JxGLDa1E1rx3kzTE1613077271569'}},\n",
       "    'attributes': {'population': '10000000', 'surveyCode': 'z'}},\n",
       "   'RIb6xnerRBnRRqhw1613077301139': {'utilityId': '',\n",
       "    'typeCode': 'm',\n",
       "    'name': 'Ibadan',\n",
       "    'connections': {'0': {'busId': 'Z46Z2YKukmLj5PfMiuuMhVk4DwtIVo7v1613077301139'}},\n",
       "    'attributes': {'population': '20000000', 'surveyCode': 'z'}},\n",
       "   'vzTZ52FukbHTOJQL1613077318522': {'utilityId': '',\n",
       "    'typeCode': 'm',\n",
       "    'name': 'Kano',\n",
       "    'connections': {'0': {'busId': 'Q1LAUFPzqnizD3DDcKCAqAhUWEFqhcbc1613077318522'}},\n",
       "    'attributes': {'population': '30000000', 'surveyCode': 'z'}},\n",
       "   'g4Po5qXVrR3NzTjf1613077338147': {'utilityId': '',\n",
       "    'typeCode': 'l',\n",
       "    'name': 'Unnamed Road, Nigeria',\n",
       "    'connections': {'0': {'busId': 'SznzIZPvxhWPoUF6YXRYNZqEbqTqxmna1613077338154'},\n",
       "     '1': {'busId': 'at2rtizr6MEtFxsuebK9xavSc2AFyGSL1613077339363'},\n",
       "     '2': {'busId': 'vJGjyDNaYWXb8KB05dj5Ty4ibcn1PO3u1613077345300'},\n",
       "     '3': {'busId': 'A3jPdWoxKxlvQzcVrvJ0ZwcCCC6iRLm61613077389873'}},\n",
       "    'vertexCount': 4,\n",
       "    'attributes': {'surveyCode': 'z'}},\n",
       "   'GyIOpT0yoGxsFNNE1613077352163': {'utilityId': '',\n",
       "    'typeCode': 'g',\n",
       "    'name': 'Unnamed Road, Nigeria',\n",
       "    'connections': {'0': {'busId': 'A3jPdWoxKxlvQzcVrvJ0ZwcCCC6iRLm61613077389873'}},\n",
       "    'attributes': {'surveyCode': 'z'}},\n",
       "   'EKJCIBQY4ggd6EU21613077416277': {'utilityId': '',\n",
       "    'typeCode': 'm',\n",
       "    'name': 'Abuja',\n",
       "    'connections': {'0': {'busId': 'C4xPO9bITlxcOeLmB2lJaYvMyDXPEcMX1613077416277'}},\n",
       "    'attributes': {'population': '40000000', 'surveyCode': 'z'}}},\n",
       "  'assetsGeoJson': {'type': 'FeatureCollection',\n",
       "   'features': [{'type': 'Feature',\n",
       "     'properties': {'id': 'IxhJEjQioBk3C6D01613061593101', 'typeCode': 'g'},\n",
       "     'geometry': {'type': 'Point',\n",
       "      'coordinates': [7.493497224834915, 9.040389862741216]}},\n",
       "    {'type': 'Feature',\n",
       "     'properties': {'id': 'oM4Cj67GCYHNW24O1613061610237', 'typeCode': 'l'},\n",
       "     'geometry': {'type': 'LineString',\n",
       "      'coordinates': [[7.4934895559662476, 9.040527049527618],\n",
       "       [7.4932028663185495, 9.044146481397044],\n",
       "       [5.620618874172968, 6.331199505146161]]}},\n",
       "    {'type': 'Feature',\n",
       "     'properties': {'id': 'S3BBp1830pvYe7hb1613077271568', 'typeCode': 'm'},\n",
       "     'geometry': {'type': 'Point',\n",
       "      'coordinates': [3.3716631904063026, 6.468452489583638]}},\n",
       "    {'type': 'Feature',\n",
       "     'properties': {'id': 'RIb6xnerRBnRRqhw1613077301139', 'typeCode': 'm'},\n",
       "     'geometry': {'type': 'Point',\n",
       "      'coordinates': [3.8885721794508283, 7.3806888205182215]}},\n",
       "    {'type': 'Feature',\n",
       "     'properties': {'id': 'vzTZ52FukbHTOJQL1613077318522', 'typeCode': 'm'},\n",
       "     'geometry': {'type': 'Point',\n",
       "      'coordinates': [8.563726813697896, 12.021613492307571]}},\n",
       "    {'type': 'Feature',\n",
       "     'properties': {'id': 'g4Po5qXVrR3NzTjf1613077338147', 'typeCode': 'l'},\n",
       "     'geometry': {'type': 'LineString',\n",
       "      'coordinates': [[3.8885721794509047, 6.78793456272032],\n",
       "       [2.4986613422422588, 7.949897487478974],\n",
       "       [7.392066438530375, 10.602424310427805],\n",
       "       [9.9307186448334, 9.969989652942328]]}},\n",
       "    {'type': 'Feature',\n",
       "     'properties': {'id': 'GyIOpT0yoGxsFNNE1613077352163', 'typeCode': 'g'},\n",
       "     'geometry': {'type': 'Point',\n",
       "      'coordinates': [9.930714403776243, 9.969841369019274]}},\n",
       "    {'type': 'Feature',\n",
       "     'properties': {'id': 'EKJCIBQY4ggd6EU21613077416277', 'typeCode': 'm'},\n",
       "     'geometry': {'type': 'Point',\n",
       "      'coordinates': [7.5171195465900755, 9.062581752900547]}}]},\n",
       "  'assetTypeByCode': {'g': {'assetAttributes': [['surveyCode',\n",
       "      ['x', 'y', 'z']]]},\n",
       "   'l': {'assetAttributes': [['surveyCode', ['x', 'y', 'z']]]},\n",
       "   'm': {'assetAttributes': [['surveyCode', ['x', 'y', 'z']]]}}}}"
      ]
     },
     "execution_count": 64,
     "metadata": {},
     "output_type": "execute_result"
    }
   ],
   "source": [
    "electricity_network_dictionary = {\n",
    "    'assets': {\n",
    "        'assetById': asset_dictionary_by_id,\n",
    "        'assetsGeoJson': {\n",
    "            'type': 'FeatureCollection',\n",
    "            'features': asset_features,\n",
    "        },\n",
    "        'assetTypeByCode': {\n",
    "            'g': {\n",
    "                'assetAttributes': [\n",
    "                    ['surveyCode', survey_codes],\n",
    "                ],\n",
    "            },\n",
    "            'l': {\n",
    "                'assetAttributes': [\n",
    "                    ['surveyCode', survey_codes],                    \n",
    "                ],\n",
    "            },\n",
    "            'm': {\n",
    "                'assetAttributes': [\n",
    "                    ['surveyCode', survey_codes],                    \n",
    "                ],\n",
    "            },\n",
    "        },\n",
    "    },\n",
    "}\n",
    "electricity_network_dictionary"
   ]
  },
  {
   "cell_type": "code",
   "execution_count": 56,
   "metadata": {},
   "outputs": [],
   "source": [
    "json.dump(electricity_network_dictionary, open(join(output_folder, 'electricity-network.json'), 'wt'))"
   ]
  },
  {
   "cell_type": "code",
   "execution_count": 57,
   "metadata": {},
   "outputs": [
    {
     "data": {
      "text/plain": [
       "defaultdict(int, {'g': 2, 'l': 2, 'm': 4})"
      ]
     },
     "execution_count": 57,
     "metadata": {},
     "output_type": "execute_result"
    }
   ],
   "source": [
    "from collections import defaultdict\n",
    "\n",
    "asset_count_by_type_code = defaultdict(int)\n",
    "for asset_dictionary in asset_dictionary_by_id.values():\n",
    "    asset_type_code = asset_dictionary['typeCode']\n",
    "    asset_count_by_type_code[asset_type_code] += 1\n",
    "\n",
    "asset_count_by_type_code"
   ]
  },
  {
   "cell_type": "code",
   "execution_count": 58,
   "metadata": {},
   "outputs": [
    {
     "data": {
      "text/html": [
       "<div>\n",
       "<style scoped>\n",
       "    .dataframe tbody tr th:only-of-type {\n",
       "        vertical-align: middle;\n",
       "    }\n",
       "\n",
       "    .dataframe tbody tr th {\n",
       "        vertical-align: top;\n",
       "    }\n",
       "\n",
       "    .dataframe thead th {\n",
       "        text-align: right;\n",
       "    }\n",
       "</style>\n",
       "<table border=\"1\" class=\"dataframe\">\n",
       "  <thead>\n",
       "    <tr style=\"text-align: right;\">\n",
       "      <th></th>\n",
       "      <th>type</th>\n",
       "      <th>count</th>\n",
       "    </tr>\n",
       "  </thead>\n",
       "  <tbody>\n",
       "    <tr>\n",
       "      <th>0</th>\n",
       "      <td>g</td>\n",
       "      <td>2</td>\n",
       "    </tr>\n",
       "    <tr>\n",
       "      <th>1</th>\n",
       "      <td>l</td>\n",
       "      <td>2</td>\n",
       "    </tr>\n",
       "    <tr>\n",
       "      <th>2</th>\n",
       "      <td>m</td>\n",
       "      <td>4</td>\n",
       "    </tr>\n",
       "  </tbody>\n",
       "</table>\n",
       "</div>"
      ],
      "text/plain": [
       "  type  count\n",
       "0    g      2\n",
       "1    l      2\n",
       "2    m      4"
      ]
     },
     "execution_count": 58,
     "metadata": {},
     "output_type": "execute_result"
    }
   ],
   "source": [
    "import pandas as pd\n",
    "t = pd.DataFrame(asset_count_by_type_code.items(), columns=['type', 'count'])\n",
    "t"
   ]
  },
  {
   "cell_type": "code",
   "execution_count": 59,
   "metadata": {},
   "outputs": [],
   "source": [
    "t = t.set_index('type').rename({\n",
    "    'g': 'generator',\n",
    "    't': 'transformer',\n",
    "    'q': 'power quality',\n",
    "    'm': 'meter',\n",
    "    'l': 'line',\n",
    "    'x': 'switch',\n",
    "})"
   ]
  },
  {
   "cell_type": "code",
   "execution_count": 60,
   "metadata": {},
   "outputs": [],
   "source": [
    "t.to_csv(join(output_folder, 'statistics.csv'))"
   ]
  },
  {
   "cell_type": "code",
   "execution_count": 61,
   "metadata": {},
   "outputs": [],
   "source": [
    "asset_features = electricity_network_dictionary['assets']['assetsGeoJson']['features']\n",
    "asset_features_by_type_code = defaultdict(list)\n",
    "for asset_type_code in ['g', 'l', 'm']:\n",
    "    for asset_feature in asset_features:\n",
    "        if asset_feature['properties']['typeCode'] == asset_type_code:\n",
    "            asset_features_by_type_code[asset_type_code].append(asset_feature)\n",
    "# dict(asset_features_by_type_code)"
   ]
  },
  {
   "cell_type": "code",
   "execution_count": 62,
   "metadata": {},
   "outputs": [],
   "source": [
    "import geojson\n",
    "\n",
    "def save_map(target_path, features):\n",
    "    geojson.dump({'type': 'FeatureCollection', 'features': features}, target_path)"
   ]
  },
  {
   "cell_type": "code",
   "execution_count": 33,
   "metadata": {},
   "outputs": [],
   "source": [
    "save_map(open(join(output_folder, 'electricity-generators.geojson'), 'wt'), asset_features_by_type_code['g'])\n",
    "save_map(open(join(output_folder, 'electricity-lines.geojson'), 'wt'), asset_features_by_type_code['l'])\n",
    "save_map(open(join(output_folder, 'electricity-meters.geojson'), 'wt'), asset_features_by_type_code['m'])"
   ]
  },
  {
   "cell_type": "code",
   "execution_count": 39,
   "metadata": {},
   "outputs": [],
   "source": [
    "rows = []\n",
    "for asset_feature in asset_features_by_type_code['m']:\n",
    "    asset_id = asset_feature['properties']['id']\n",
    "    asset_dictionary = asset_dictionary_by_id[asset_id]\n",
    "    name = asset_dictionary['name']\n",
    "    asset_attributes = asset_dictionary.get('attributes', {})\n",
    "    longitude, latitude = asset_feature['geometry']['coordinates']\n",
    "    population = int(asset_attributes.get('population', 1))\n",
    "    rows.append([name, latitude, longitude, population])"
   ]
  },
  {
   "cell_type": "code",
   "execution_count": 40,
   "metadata": {},
   "outputs": [
    {
     "data": {
      "text/plain": [
       "[['Lagos', 6.447535210993969, 3.395496110018816, 100000],\n",
       " ['Ibadan', 7.375054588174643, 3.8946089211888504, 10000],\n",
       " ['Kano', 12.01218863743951, 8.55342944361855, 1]]"
      ]
     },
     "execution_count": 40,
     "metadata": {},
     "output_type": "execute_result"
    }
   ],
   "source": [
    "rows"
   ]
  },
  {
   "cell_type": "code",
   "execution_count": 41,
   "metadata": {},
   "outputs": [],
   "source": [
    "import csv\n",
    "\n",
    "with open(join(output_folder, 'electricity-meters.csv'), 'wt') as output_file:\n",
    "    csv_writer = csv.writer(output_file)\n",
    "    csv_writer.writerow(['Name', 'Latitude', 'Longitude', 'Population'])\n",
    "    csv_writer.writerows(rows)"
   ]
  }
 ],
 "metadata": {
  "kernelspec": {
   "display_name": "Python 3",
   "language": "python",
   "name": "python3"
  },
  "language_info": {
   "codemirror_mode": {
    "name": "ipython",
    "version": 3
   },
   "file_extension": ".py",
   "mimetype": "text/x-python",
   "name": "python",
   "nbconvert_exporter": "python",
   "pygments_lexer": "ipython3",
   "version": "3.7.9"
  }
 },
 "nbformat": 4,
 "nbformat_minor": 4
}
