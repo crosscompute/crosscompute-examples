{
 "cells": [
  {
   "cell_type": "code",
   "execution_count": 1,
   "metadata": {},
   "outputs": [],
   "source": [
    "from os import environ\n",
    "\n",
    "input_folder = environ.get(\n",
    "    'CROSSCOMPUTE_INPUT_FOLDER', 'tests/standard/input')\n",
    "output_folder = environ.get(\n",
    "    'CROSSCOMPUTE_OUTPUT_FOLDER', 'tests/standard/output')"
   ]
  },
  {
   "cell_type": "code",
   "execution_count": 2,
   "metadata": {},
   "outputs": [
    {
     "data": {
      "text/plain": [
       "'1935 S Campbell Ave, Springfield, MO 65807, EE. UU.'"
      ]
     },
     "execution_count": 2,
     "metadata": {},
     "output_type": "execute_result"
    }
   ],
   "source": [
    "import json\n",
    "from os.path import join\n",
    "\n",
    "settings_path = join(input_folder, 'settings.json')\n",
    "settings = json.load(open(settings_path, 'rt'))\n",
    "name = settings['name']\n",
    "name"
   ]
  },
  {
   "cell_type": "code",
   "execution_count": 22,
   "metadata": {},
   "outputs": [],
   "source": [
    "from glob import glob\n",
    "\n",
    "electricity_network_path = glob('*.json')[0]\n",
    "electricity_network = json.load(open(electricity_network_path, 'rt'))"
   ]
  },
  {
   "cell_type": "code",
   "execution_count": 4,
   "metadata": {},
   "outputs": [
    {
     "data": {
      "text/plain": [
       "['1908 S Wedgewood Ave, Springfield, MO 65807, EE. UU.',\n",
       " '1909 S Campbell Ave, Springfield, MO 65807, EE. UU.',\n",
       " '1935 S Campbell Ave, Springfield, MO 65807, EE. UU.']"
      ]
     },
     "execution_count": 4,
     "metadata": {},
     "output_type": "execute_result"
    }
   ],
   "source": [
    "asset_dictionaries = [_ for _ in electricity_network['assets']['assetById'].values()]\n",
    "names = [_['name'] for _ in asset_dictionaries if _['typeCode'] == 'l']\n",
    "names"
   ]
  },
  {
   "cell_type": "code",
   "execution_count": 5,
   "metadata": {},
   "outputs": [
    {
     "data": {
      "text/plain": [
       "156"
      ]
     },
     "execution_count": 5,
     "metadata": {},
     "output_type": "execute_result"
    }
   ],
   "source": [
    "open('result-batch.txt', 'wt').write('\\n'.join(names))"
   ]
  },
  {
   "cell_type": "code",
   "execution_count": 6,
   "metadata": {},
   "outputs": [],
   "source": [
    "for d in asset_dictionaries:\n",
    "    if d['name'] == name:\n",
    "        break"
   ]
  },
  {
   "cell_type": "code",
   "execution_count": 7,
   "metadata": {},
   "outputs": [
    {
     "data": {
      "text/plain": [
       "{'id': 'lBz59s4rXlBWwyDc1611783563270',\n",
       " 'utilityId': '',\n",
       " 'typeCode': 'l',\n",
       " 'attributes': {'lineType': 'default',\n",
       "  'power flow p0': 100.52985065358615,\n",
       "  'power flow p1': -99.99999999456968,\n",
       "  'power flow q0': 105.29850658117857,\n",
       "  'power flow q1': -99.99999999101387,\n",
       "  'outage risk hasElectricity': 1},\n",
       " 'name': '1935 S Campbell Ave, Springfield, MO 65807, EE. UU.',\n",
       " 'connections': {'0': {'busId': 'XlIDay8TpgVgBFMMUi10Fn5pV8xWZsHQ1611783548758'},\n",
       "  '1': {'busId': 'BP2N7iELFpSp7zb6il6WanRC4L7P9HLf1611783556818'}},\n",
       " 'vertexCount': 2}"
      ]
     },
     "execution_count": 7,
     "metadata": {},
     "output_type": "execute_result"
    }
   ],
   "source": [
    "d"
   ]
  },
  {
   "cell_type": "code",
   "execution_count": 18,
   "metadata": {},
   "outputs": [],
   "source": [
    "import pandas as pd\n",
    "\n",
    "t = pd.Series(d['attributes']).to_frame()\n",
    "t.columns = ['value']\n",
    "t.to_csv(join(output_folder, 'settings.csv'))"
   ]
  },
  {
   "cell_type": "code",
   "execution_count": 38,
   "metadata": {},
   "outputs": [
    {
     "data": {
      "text/plain": [
       "<AxesSubplot:>"
      ]
     },
     "execution_count": 38,
     "metadata": {},
     "output_type": "execute_result"
    },
    {
     "data": {
      "image/png": "[encoded data removed]",
      "text/plain": [
       "<Figure size 432x288 with 1 Axes>"
      ]
     },
     "metadata": {
      "needs_background": "light"
     },
     "output_type": "display_data"
    }
   ],
   "source": [
    "p = t.transpose().plot.bar()\n",
    "p"
   ]
  },
  {
   "cell_type": "code",
   "execution_count": 39,
   "metadata": {},
   "outputs": [
    {
     "data": {
      "text/plain": [
       "<Figure size 432x288 with 0 Axes>"
      ]
     },
     "metadata": {},
     "output_type": "display_data"
    }
   ],
   "source": [
    "import matplotlib.pyplot as plt\n",
    "plt.savefig(join(output_folder, 'plot.png'))"
   ]
  },
  {
   "cell_type": "code",
   "execution_count": 9,
   "metadata": {},
   "outputs": [],
   "source": [
    "import json\n",
    "json.dump({\n",
    "    'name': name,\n",
    "    'type': {\n",
    "        'g': 'Generator',\n",
    "        'l': 'Line',\n",
    "        'm': 'Meter',\n",
    "    }[d['typeCode']],\n",
    "}, open(join(output_folder, 'settings.json'), 'wt'))"
   ]
  },
  {
   "cell_type": "code",
   "execution_count": 10,
   "metadata": {},
   "outputs": [],
   "source": [
    "# import shutil\n",
    "# shutil.copy(electricity_network_path, join(output_folder, 'power-flow.json'))"
   ]
  },
  {
   "cell_type": "code",
   "execution_count": 11,
   "metadata": {},
   "outputs": [],
   "source": [
    "import geojson\n",
    "geojson.dump(electricity_network['assets']['assetsGeoJson'], open(join(\n",
    "    output_folder, 'electricity-network.json'), 'wt'))"
   ]
  }
 ],
 "metadata": {
  "kernelspec": {
   "display_name": "Python 3",
   "language": "python",
   "name": "python3"
  },
  "language_info": {
   "codemirror_mode": {
    "name": "ipython",
    "version": 3
   },
   "file_extension": ".py",
   "mimetype": "text/x-python",
   "name": "python",
   "nbconvert_exporter": "python",
   "pygments_lexer": "ipython3",
   "version": "3.7.9"
  }
 },
 "nbformat": 4,
 "nbformat_minor": 4
}
