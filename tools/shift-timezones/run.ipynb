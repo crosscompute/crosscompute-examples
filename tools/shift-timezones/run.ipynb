{
 "cells": [
  {
   "cell_type": "code",
   "execution_count": null,
   "metadata": {},
   "outputs": [],
   "source": [
    "import subprocess\n",
    "subprocess.run('pip install pandas pytz'.split())"
   ]
  },
  {
   "cell_type": "code",
   "execution_count": null,
   "metadata": {},
   "outputs": [],
   "source": [
    "from os import environ\n",
    "from tempfile import mkdtemp\n",
    "input_folder = environ.get(\n",
    "    'CROSSCOMPUTE_INPUT_FOLDER', 'tests/est-pst/input')\n",
    "output_folder = environ.get(\n",
    "    'CROSSCOMPUTE_OUTPUT_FOLDER', mkdtemp())"
   ]
  },
  {
   "cell_type": "code",
   "execution_count": null,
   "metadata": {},
   "outputs": [],
   "source": [
    "from os.path import join\n",
    "from pandas import read_csv\n",
    "timestamps_table = read_csv(join(input_folder, 'timestamps.csv'))\n",
    "timestamps_table"
   ]
  },
  {
   "cell_type": "code",
   "execution_count": null,
   "metadata": {},
   "outputs": [],
   "source": [
    "import json\n",
    "settings_path = join(input_folder, 'settings.json')\n",
    "settings_dictionary = json.load(open(settings_path, 'rt'))\n",
    "settings_dictionary"
   ]
  },
  {
   "cell_type": "code",
   "execution_count": null,
   "metadata": {},
   "outputs": [],
   "source": [
    "from pytz import timezone\n",
    "source_tz = timezone(settings_dictionary['source_timezone'])\n",
    "target_tz = timezone(settings_dictionary['target_timezone'])"
   ]
  },
  {
   "cell_type": "code",
   "execution_count": null,
   "metadata": {},
   "outputs": [],
   "source": [
    "from datetime import datetime\n",
    "for index, row in timestamps_table.iterrows():\n",
    "    for raw_key, raw_value in row.items():\n",
    "        raw_value = raw_value.strip()\n",
    "        is_lowercase = raw_value[-1].islower()\n",
    "        for timestamp_format in '%I%p', '%I:%M%p', '%Y%m%d-%H%M':\n",
    "            try:\n",
    "                value = datetime.strptime(raw_value, timestamp_format)\n",
    "            except ValueError:\n",
    "                continue\n",
    "            break\n",
    "        else:\n",
    "            continue\n",
    "        value = source_tz.localize(value).astimezone(target_tz)\n",
    "        value = value.strftime(timestamp_format).lstrip('0')\n",
    "        row[raw_key] = value.lower() if is_lowercase else value\n",
    "timestamps_table"
   ]
  },
  {
   "cell_type": "code",
   "execution_count": null,
   "metadata": {},
   "outputs": [],
   "source": [
    "timestamps_table.to_csv(open(join(output_folder, 'converted_timestamps.csv'), 'wt'), index=False)"
   ]
  }
 ],
 "metadata": {
  "kernelspec": {
   "display_name": "Python 3",
   "language": "python",
   "name": "python3"
  },
  "language_info": {
   "codemirror_mode": {
    "name": "ipython",
    "version": 3
   },
   "file_extension": ".py",
   "mimetype": "text/x-python",
   "name": "python",
   "nbconvert_exporter": "python",
   "pygments_lexer": "ipython3",
   "version": "3.8.6"
  }
 },
 "nbformat": 4,
 "nbformat_minor": 4
}
