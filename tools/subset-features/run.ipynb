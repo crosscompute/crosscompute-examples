{
 "cells": [
  {
   "cell_type": "code",
   "execution_count": null,
   "metadata": {},
   "outputs": [],
   "source": [
    "from os import environ\n",
    "\n",
    "input_folder = environ.get('CROSSCOMPUTE_INPUT_FOLDER', 'tests/standard/input')\n",
    "output_folder = environ.get('CROSSCOMPUTE_OUTPUT_FOLDER', 'tests/standard/output')\n",
    "log_folder = environ.get('CROSSCOMPUTE_LOG_FOLDER', 'tests/standard/log')\n",
    "debug_folder = environ.get('CROSSCOMPUTE_DEBUG_FOLDER', 'tests/standard/debug')"
   ]
  },
  {
   "cell_type": "code",
   "execution_count": null,
   "metadata": {},
   "outputs": [],
   "source": [
    "import geojson\n",
    "from os.path import join\n",
    "\n",
    "feature_collection = geojson.load(open(join(input_folder, 'features.geojson'), 'rt'))\n",
    "features = feature_collection['features']"
   ]
  },
  {
   "cell_type": "code",
   "execution_count": null,
   "metadata": {},
   "outputs": [],
   "source": [
    "import json\n",
    "\n",
    "settings = json.load(open(join(input_folder, 'settings.json')))\n",
    "count = settings['count']\n",
    "count"
   ]
  },
  {
   "cell_type": "code",
   "execution_count": null,
   "metadata": {},
   "outputs": [],
   "source": [
    "from shapely.geometry import shape\n",
    "\n",
    "geometries = []\n",
    "for feature in features:\n",
    "    geometry = shape(feature['geometry'])\n",
    "    geometry_type = geometry.type.lower()\n",
    "    if geometry_type in ['Polygon', 'MultiPolygon']:\n",
    "        geometry = geometry.buffer(0)\n",
    "    geometries.append(geometry)\n",
    "geometry_count = len(geometries)\n",
    "geometry_count"
   ]
  },
  {
   "cell_type": "code",
   "execution_count": null,
   "metadata": {},
   "outputs": [],
   "source": [
    "import random\n",
    "\n",
    "random_geometry = random.choice(geometries)"
   ]
  },
  {
   "cell_type": "code",
   "execution_count": null,
   "metadata": {},
   "outputs": [],
   "source": [
    "distances = [_.distance(random_geometry) for _ in geometries]\n",
    "distances[:3]"
   ]
  },
  {
   "cell_type": "code",
   "execution_count": null,
   "metadata": {},
   "outputs": [],
   "source": [
    "packs = zip(features, geometries, distances)\n",
    "sorted_packs = sorted(packs, key=lambda _: _[2])\n",
    "selected_packs = sorted_packs[:count]\n",
    "selected_features = [_[0] for _ in selected_packs]"
   ]
  },
  {
   "cell_type": "code",
   "execution_count": null,
   "metadata": {},
   "outputs": [],
   "source": [
    "feature_collection['features'] = selected_features\n",
    "geojson.dump(feature_collection, open(join(output_folder, 'features.geojson'), 'wt'))"
   ]
  }
 ],
 "metadata": {
  "kernelspec": {
   "display_name": "Python 3",
   "language": "python",
   "name": "python3"
  },
  "language_info": {
   "codemirror_mode": {
    "name": "ipython",
    "version": 3
   },
   "file_extension": ".py",
   "mimetype": "text/x-python",
   "name": "python",
   "nbconvert_exporter": "python",
   "pygments_lexer": "ipython3",
   "version": "3.8.7"
  }
 },
 "nbformat": 4,
 "nbformat_minor": 4
}
