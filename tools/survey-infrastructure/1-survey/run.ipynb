{
 "cells": [
  {
   "cell_type": "code",
   "execution_count": null,
   "metadata": {},
   "outputs": [],
   "source": [
    "from os import environ\n",
    "\n",
    "input_folder = environ.get(\n",
    "    'CROSSCOMPUTE_INPUT_FOLDER', 'tests/standard/input')\n",
    "output_folder = environ.get(\n",
    "    'CROSSCOMPUTE_OUTPUT_FOLDER', 'tests/standard/output')\n",
    "log_folder = environ.get(\n",
    "    'CROSSCOMPUTE_LOG_FOLDER', 'tests/standard/log')\n",
    "debug_folder = environ.get(\n",
    "    'CROSSCOMPUTE_DEBUG_FOLDER', 'tests/standard/debug')"
   ]
  },
  {
   "cell_type": "code",
   "execution_count": null,
   "metadata": {},
   "outputs": [],
   "source": [
    "import json\n",
    "from os.path import join\n",
    "\n",
    "settings_path = join(input_folder, 'settings.json')\n",
    "d = json.load(open(settings_path, 'rt'))\n",
    "survey_code = d['survey-code']\n",
    "survey_code"
   ]
  },
  {
   "cell_type": "code",
   "execution_count": null,
   "metadata": {},
   "outputs": [],
   "source": [
    "electricity_network_path = join(input_folder, 'electricity-network.json')\n",
    "electricity_network_dictionary = json.load(open(electricity_network_path, 'rt'))\n",
    "electricity_network_dictionary"
   ]
  },
  {
   "cell_type": "code",
   "execution_count": null,
   "metadata": {},
   "outputs": [],
   "source": [
    "from invisibleroads_macros_disk import make_folder\n",
    "from invisibleroads_macros_log import get_timestamp\n",
    "from os.path import expanduser\n",
    "\n",
    "storage_folder = make_folder(expanduser('~/Experiments/survey-infrastructure'))\n",
    "survey_folder = make_folder(join(storage_folder, survey_code, get_timestamp()))\n",
    "survey_folder"
   ]
  },
  {
   "cell_type": "code",
   "execution_count": null,
   "metadata": {},
   "outputs": [],
   "source": [
    "import shutil\n",
    "shutil.copy(electricity_network_path, join(output_folder, 'electricity-network.json'))\n",
    "shutil.copy(electricity_network_path, join(survey_folder, 'electricity-network.json'))"
   ]
  },
  {
   "cell_type": "code",
   "execution_count": null,
   "metadata": {},
   "outputs": [],
   "source": [
    "from collections import defaultdict\n",
    "\n",
    "asset_count_by_type_code = defaultdict(int)\n",
    "asset_by_id = electricity_network_dictionary['assets']['assetById']\n",
    "for asset_id, asset_dictionary in asset_by_id.items():\n",
    "    asset_type_code = asset_dictionary['typeCode']\n",
    "    asset_count_by_type_code[asset_type_code] += 1\n",
    "\n",
    "asset_count_by_type_code"
   ]
  },
  {
   "cell_type": "code",
   "execution_count": null,
   "metadata": {},
   "outputs": [],
   "source": [
    "import pandas as pd\n",
    "t = pd.DataFrame(asset_count_by_type_code.items(), columns=['type', 'count'])\n",
    "t"
   ]
  },
  {
   "cell_type": "code",
   "execution_count": null,
   "metadata": {},
   "outputs": [],
   "source": [
    "t = t.set_index('type').rename({\n",
    "    'g': 'generator',\n",
    "    't': 'transformer',\n",
    "    'q': 'power quality',\n",
    "    'm': 'meter',\n",
    "    'l': 'line',\n",
    "    'x': 'switch',\n",
    "})"
   ]
  },
  {
   "cell_type": "code",
   "execution_count": null,
   "metadata": {},
   "outputs": [],
   "source": [
    "t.to_csv(join(output_folder, 'statistics.csv'))"
   ]
  },
  {
   "cell_type": "code",
   "execution_count": null,
   "metadata": {},
   "outputs": [],
   "source": [
    "asset_features = electricity_network_dictionary['assets']['assetsGeoJson']['features']\n",
    "asset_features_by_type_code = defaultdict(list)\n",
    "for asset_type_code in ['g', 'l', 'm']:\n",
    "    for asset_feature in asset_features:\n",
    "        if asset_feature['properties']['typeCode'] == asset_type_code:\n",
    "            asset_features_by_type_code[asset_type_code].append(asset_feature)\n",
    "# dict(asset_features_by_type_code)"
   ]
  },
  {
   "cell_type": "code",
   "execution_count": null,
   "metadata": {},
   "outputs": [],
   "source": [
    "import geojson\n",
    "\n",
    "def save_map(target_path, features):\n",
    "    geojson.dump({'type': 'FeatureCollection', 'features': features}, target_path)"
   ]
  },
  {
   "cell_type": "code",
   "execution_count": null,
   "metadata": {},
   "outputs": [],
   "source": [
    "save_map(open(join(output_folder, 'electricity-generators.geojson'), 'wt'), asset_features_by_type_code['g'])\n",
    "save_map(open(join(output_folder, 'electricity-lines.geojson'), 'wt'), asset_features_by_type_code['l'])\n",
    "save_map(open(join(output_folder, 'electricity-meters.geojson'), 'wt'), asset_features_by_type_code['m'])"
   ]
  }
 ],
 "metadata": {
  "kernelspec": {
   "display_name": "Python 3",
   "language": "python",
   "name": "python3"
  },
  "language_info": {
   "codemirror_mode": {
    "name": "ipython",
    "version": 3
   },
   "file_extension": ".py",
   "mimetype": "text/x-python",
   "name": "python",
   "nbconvert_exporter": "python",
   "pygments_lexer": "ipython3",
   "version": "3.7.9"
  }
 },
 "nbformat": 4,
 "nbformat_minor": 4
}
