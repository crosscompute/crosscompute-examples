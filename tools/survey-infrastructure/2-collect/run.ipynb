{
 "cells": [
  {
   "cell_type": "code",
   "execution_count": null,
   "metadata": {},
   "outputs": [],
   "source": [
    "from os import environ\n",
    "\n",
    "input_folder = environ.get(\n",
    "    'CROSSCOMPUTE_INPUT_FOLDER', 'tests/standard/input')\n",
    "output_folder = environ.get(\n",
    "    'CROSSCOMPUTE_OUTPUT_FOLDER', 'tests/standard/output')\n",
    "log_folder = environ.get(\n",
    "    'CROSSCOMPUTE_LOG_FOLDER', 'tests/standard/log')\n",
    "debug_folder = environ.get(\n",
    "    'CROSSCOMPUTE_DEBUG_FOLDER', 'tests/standard/debug')"
   ]
  },
  {
   "cell_type": "code",
   "execution_count": null,
   "metadata": {},
   "outputs": [],
   "source": [
    "import json\n",
    "from os.path import join\n",
    "\n",
    "settings_path = join(input_folder, 'settings.json')\n",
    "d = json.load(open(settings_path, 'rt'))\n",
    "survey_codes = d['survey-codes'].strip().split()\n",
    "survey_codes"
   ]
  },
  {
   "cell_type": "code",
   "execution_count": null,
   "metadata": {},
   "outputs": [],
   "source": [
    "asset_dictionary_by_id = {}\n",
    "asset_feature_by_id = {}\n",
    "\n",
    "def absorb_path(path, survey_code):\n",
    "    d = json.load(open(path, 'rt'))\n",
    "    # Deduplicate by asset name\n",
    "    asset_by_id = d['assets']['assetById']\n",
    "    asset_names = [_['name'] for _ in asset_by_id.values()]\n",
    "    \n",
    "    asset_ids = []\n",
    "    for asset_id, asset_dictionary in asset_dictionary_by_id.items():\n",
    "        if asset_dictionary['name'] in asset_names:\n",
    "            asset_ids.append(asset_id)\n",
    "    \n",
    "    for asset_id in asset_ids:\n",
    "        try:\n",
    "            del asset_dictionary_by_id[asset_id]\n",
    "        except KeyError:\n",
    "            pass\n",
    "        try:\n",
    "            del asset_feature_by_id[asset_id]\n",
    "        except KeyError:\n",
    "            pass\n",
    "    \n",
    "    for asset_id, asset_dictionary in asset_by_id.items():\n",
    "        try:\n",
    "            del asset_dictionary['id']\n",
    "        except KeyError:\n",
    "            pass\n",
    "        asset_dictionary['attributes'] = dict(asset_dictionary.get('attributes', {}), surveyCode=survey_code)\n",
    "        asset_dictionary_by_id[asset_id] = asset_dictionary\n",
    "    for asset_feature in d['assets']['assetsGeoJson']['features']:\n",
    "        asset_id = asset_feature['properties']['id']\n",
    "        asset_feature_by_id[asset_id] = asset_feature"
   ]
  },
  {
   "cell_type": "code",
   "execution_count": null,
   "metadata": {},
   "outputs": [],
   "source": [
    "from glob import glob\n",
    "from os.path import expanduser, getctime\n",
    "\n",
    "# TODO: Make sure later timestamps override earlier timestamps for overlapping asset ids\n",
    "\n",
    "survey_folder = expanduser('~/Experiments/survey-infrastructure')\n",
    "electricity_network_paths = []\n",
    "for survey_code in survey_codes:\n",
    "    electricity_network_paths.extend(glob(join(\n",
    "        survey_folder, survey_code, '**', 'electricity-network.json',\n",
    "    ), recursive=True))\n",
    "for path in sorted(electricity_network_paths, key=lambda _: getctime(_)):\n",
    "    absorb_path(path, survey_code)"
   ]
  },
  {
   "cell_type": "code",
   "execution_count": null,
   "metadata": {},
   "outputs": [],
   "source": [
    "asset_features = list(asset_feature_by_id.values())\n",
    "asset_features;"
   ]
  },
  {
   "cell_type": "code",
   "execution_count": null,
   "metadata": {},
   "outputs": [],
   "source": [
    "electricity_network_dictionary = {\n",
    "    'assets': {\n",
    "        'assetById': asset_dictionary_by_id,\n",
    "        'assetsGeoJson': {\n",
    "            'type': 'FeatureCollection',\n",
    "            'features': asset_features,\n",
    "        },\n",
    "        'assetTypeByCode': {\n",
    "            'g': {\n",
    "                'assetAttributes': [\n",
    "                    ['surveyCode', survey_codes],\n",
    "                ],\n",
    "            },\n",
    "            'l': {\n",
    "                'assetAttributes': [\n",
    "                    ['surveyCode', survey_codes],                    \n",
    "                ],\n",
    "            },\n",
    "            'm': {\n",
    "                'assetAttributes': [\n",
    "                    ['surveyCode', survey_codes],                    \n",
    "                ],\n",
    "            },\n",
    "        },\n",
    "    },\n",
    "}\n",
    "electricity_network_dictionary"
   ]
  },
  {
   "cell_type": "code",
   "execution_count": null,
   "metadata": {},
   "outputs": [],
   "source": [
    "json.dump(electricity_network_dictionary, open(join(output_folder, 'electricity-network.json'), 'wt'))"
   ]
  },
  {
   "cell_type": "code",
   "execution_count": null,
   "metadata": {},
   "outputs": [],
   "source": [
    "from collections import defaultdict\n",
    "\n",
    "asset_count_by_type_code = defaultdict(int)\n",
    "for asset_dictionary in asset_dictionary_by_id.values():\n",
    "    asset_type_code = asset_dictionary['typeCode']\n",
    "    asset_count_by_type_code[asset_type_code] += 1\n",
    "\n",
    "asset_count_by_type_code"
   ]
  },
  {
   "cell_type": "code",
   "execution_count": null,
   "metadata": {},
   "outputs": [],
   "source": [
    "import pandas as pd\n",
    "t = pd.DataFrame(asset_count_by_type_code.items(), columns=['type', 'count'])\n",
    "t"
   ]
  },
  {
   "cell_type": "code",
   "execution_count": null,
   "metadata": {},
   "outputs": [],
   "source": [
    "t = t.set_index('type').rename({\n",
    "    'g': 'generator',\n",
    "    't': 'transformer',\n",
    "    'q': 'power quality',\n",
    "    'm': 'meter',\n",
    "    'l': 'line',\n",
    "    'x': 'switch',\n",
    "})"
   ]
  },
  {
   "cell_type": "code",
   "execution_count": null,
   "metadata": {},
   "outputs": [],
   "source": [
    "t.to_csv(join(output_folder, 'statistics.csv'))"
   ]
  },
  {
   "cell_type": "code",
   "execution_count": null,
   "metadata": {},
   "outputs": [],
   "source": [
    "asset_features = electricity_network_dictionary['assets']['assetsGeoJson']['features']\n",
    "asset_features_by_type_code = defaultdict(list)\n",
    "for asset_type_code in ['g', 'l', 'm']:\n",
    "    for asset_feature in asset_features:\n",
    "        if asset_feature['properties']['typeCode'] == asset_type_code:\n",
    "            asset_features_by_type_code[asset_type_code].append(asset_feature)\n",
    "# dict(asset_features_by_type_code)"
   ]
  },
  {
   "cell_type": "code",
   "execution_count": null,
   "metadata": {},
   "outputs": [],
   "source": [
    "import geojson\n",
    "\n",
    "def save_map(target_path, features):\n",
    "    geojson.dump({'type': 'FeatureCollection', 'features': features}, target_path)"
   ]
  },
  {
   "cell_type": "code",
   "execution_count": null,
   "metadata": {},
   "outputs": [],
   "source": [
    "save_map(open(join(output_folder, 'electricity-generators.geojson'), 'wt'), asset_features_by_type_code['g'])\n",
    "save_map(open(join(output_folder, 'electricity-lines.geojson'), 'wt'), asset_features_by_type_code['l'])\n",
    "save_map(open(join(output_folder, 'electricity-meters.geojson'), 'wt'), asset_features_by_type_code['m'])"
   ]
  },
  {
   "cell_type": "code",
   "execution_count": null,
   "metadata": {},
   "outputs": [],
   "source": [
    "rows = []\n",
    "for asset_feature in asset_features_by_type_code['m']:\n",
    "    asset_id = asset_feature['properties']['id']\n",
    "    asset_dictionary = asset_dictionary_by_id[asset_id]\n",
    "    name = asset_dictionary['name']\n",
    "    asset_attributes = asset_dictionary.get('attributes', {})\n",
    "    longitude, latitude = asset_feature['geometry']['coordinates']\n",
    "    population = int(asset_attributes.get('population', 1))\n",
    "    rows.append([name, latitude, longitude, population])"
   ]
  },
  {
   "cell_type": "code",
   "execution_count": null,
   "metadata": {},
   "outputs": [],
   "source": [
    "rows"
   ]
  },
  {
   "cell_type": "code",
   "execution_count": null,
   "metadata": {},
   "outputs": [],
   "source": [
    "import csv\n",
    "\n",
    "with open(join(output_folder, 'electricity-meters.csv'), 'wt') as output_file:\n",
    "    csv_writer = csv.writer(output_file)\n",
    "    csv_writer.writerow(['Name', 'Latitude', 'Longitude', 'Population'])\n",
    "    csv_writer.writerows(rows)"
   ]
  }
 ],
 "metadata": {
  "kernelspec": {
   "display_name": "Python 3",
   "language": "python",
   "name": "python3"
  },
  "language_info": {
   "codemirror_mode": {
    "name": "ipython",
    "version": 3
   },
   "file_extension": ".py",
   "mimetype": "text/x-python",
   "name": "python",
   "nbconvert_exporter": "python",
   "pygments_lexer": "ipython3",
   "version": "3.7.9"
  }
 },
 "nbformat": 4,
 "nbformat_minor": 4
}
