{
 "cells": [
  {
   "cell_type": "code",
   "execution_count": null,
   "id": "87031ba0-dee1-4084-9635-48c4d996c918",
   "metadata": {},
   "outputs": [],
   "source": [
    "from os import getenv, makedirs\n",
    "input_folder = getenv('CROSSCOMPUTE_INPUT_FOLDER', 'tests/standard/input')\n",
    "output_folder = getenv('CROSSCOMPUTE_OUTPUT_FOLDER', 'tests/standard/output')\n",
    "try:\n",
    "    makedirs(output_folder)\n",
    "except OSError:\n",
    "    pass"
   ]
  },
  {
   "cell_type": "code",
   "execution_count": null,
   "id": "d64521e3-2e83-4db7-9a22-a58d7eaaa0e8",
   "metadata": {},
   "outputs": [],
   "source": [
    "from os.path import join\n",
    "document_path = join(input_folder, 'document.txt')\n",
    "document_text = open(document_path, 'rt').read().strip()\n",
    "document_text"
   ]
  },
  {
   "cell_type": "code",
   "execution_count": null,
   "id": "d9c8c2d6-daee-42c9-a3e7-60f8174de67e",
   "metadata": {},
   "outputs": [],
   "source": [
    "from collections import Counter\n",
    "count_by_character = dict(Counter(document_text.lower()))\n",
    "count_by_character"
   ]
  },
  {
   "cell_type": "code",
   "execution_count": null,
   "id": "a04edf00-cc60-4fdc-a2c7-bac412d9c0b1",
   "metadata": {},
   "outputs": [],
   "source": [
    "minimum_count = 0\n",
    "maximum_count = max(count_by_character.values())\n",
    "maximum_count"
   ]
  },
  {
   "cell_type": "code",
   "execution_count": null,
   "id": "8770b83f-1ed9-45f3-9b12-e5decc5813cf",
   "metadata": {},
   "outputs": [],
   "source": [
    "from matplotlib.colors import Normalize\n",
    "normalize_count = Normalize(minimum_count, maximum_count)\n",
    "normalize_count(3)"
   ]
  },
  {
   "cell_type": "code",
   "execution_count": null,
   "id": "ffeb2984-e0cf-49a5-9a5e-c2a19e94b842",
   "metadata": {},
   "outputs": [],
   "source": [
    "from matplotlib.pyplot import get_cmap\n",
    "color_map = get_cmap('Reds')\n",
    "color_map.N"
   ]
  },
  {
   "cell_type": "code",
   "execution_count": null,
   "id": "d5a37855-3d34-4911-883e-bcf61f54ab54",
   "metadata": {},
   "outputs": [],
   "source": [
    "color_map(color_map.N - 1)"
   ]
  },
  {
   "cell_type": "code",
   "execution_count": null,
   "id": "b92369f6-9754-4482-8bc8-4994aaa11e23",
   "metadata": {},
   "outputs": [],
   "source": [
    "from math import ceil\n",
    "from matplotlib.colors import Normalize, to_hex\n",
    "\n",
    "class ValueColor():\n",
    "    \n",
    "    def __init__(self, minimum_value, maximum_value, color_map):\n",
    "        self.get_unit_value = Normalize(minimum_value, maximum_value)\n",
    "        self.color_map = color_map\n",
    "        self.color_map_maximum_value = color_map.N - 1\n",
    "        \n",
    "    def get_hex_color(self, value):\n",
    "        unit_value = self.get_unit_value(value)\n",
    "        color_map_value = ceil(unit_value * self.color_map_maximum_value)\n",
    "        rgba = self.color_map(color_map_value)\n",
    "        return to_hex(rgba)\n",
    "    \n",
    "value_color = ValueColor(minimum_count, maximum_count, color_map)\n",
    "value_color.get_hex_color(1)"
   ]
  },
  {
   "cell_type": "code",
   "execution_count": null,
   "id": "ad0dc361-667d-46f8-9d61-9a3aec542286",
   "metadata": {},
   "outputs": [],
   "source": [
    "new_color_by_character = {k: value_color.get_hex_color(v) for k, v in count_by_character.items()}\n",
    "new_color_by_character"
   ]
  },
  {
   "cell_type": "code",
   "execution_count": null,
   "id": "85b3df82-6fe8-435d-b78a-79e254caa4ab",
   "metadata": {},
   "outputs": [],
   "source": [
    "image_template_path = 'datasets/letters.svg'\n",
    "image_template_text = open(image_template_path, 'rt').read()"
   ]
  },
  {
   "cell_type": "code",
   "execution_count": null,
   "id": "8a3fec31-33a7-4775-b22f-697605feceaa",
   "metadata": {},
   "outputs": [],
   "source": [
    "old_color_by_character = {\n",
    "    'a': '#170b28',\n",
    "    'b': '#3737c8',\n",
    "    'c': '#212178',\n",
    "    'd': '#442178',\n",
    "    'e': '#800000',\n",
    "    'f': '#5a2ca0',\n",
    "    'g': '#7137c8',\n",
    "    'h': '#8d5fd3',\n",
    "    'i': '#ff8080',\n",
    "    'j': '#aa87de',\n",
    "    'k': '#c6afe9',\n",
    "    'l': '#e3d7f4',\n",
    "    'm': '#8787de',\n",
    "    'n': '#5f5fd3',\n",
    "    'o': '#ffaaaa',\n",
    "    'p': '#ffd5d5',\n",
    "    'q': '#2b0000',\n",
    "    'r': '#aa0000',\n",
    "    's': '#2d1650',\n",
    "    't': '#d40000',\n",
    "    'u': '#ff5555',\n",
    "    'v': '#2c2ca0',\n",
    "    'w': '#550000',\n",
    "    'x': '#161650',\n",
    "    'y': '#ff2a2a',\n",
    "    'z': '#0b0b28',\n",
    "}"
   ]
  },
  {
   "cell_type": "code",
   "execution_count": null,
   "id": "a7145d85-dc86-4d03-9921-833f910af1bd",
   "metadata": {},
   "outputs": [],
   "source": [
    "character_by_old_color = {v: k for k, v in old_color_by_character.items()}"
   ]
  },
  {
   "cell_type": "code",
   "execution_count": null,
   "id": "ff73d806-d6e4-4426-ae6c-843e02e0e09c",
   "metadata": {},
   "outputs": [],
   "source": [
    "def get_new_color(match):\n",
    "    old_color = match.group(0)\n",
    "    character = character_by_old_color[old_color]\n",
    "    if character in new_color_by_character:\n",
    "        new_color = new_color_by_character[character]\n",
    "    else:\n",
    "        new_color = '#ffffff'\n",
    "    return new_color"
   ]
  },
  {
   "cell_type": "code",
   "execution_count": null,
   "id": "25ea30a2-178f-4405-9588-c3e1ad42f7b2",
   "metadata": {},
   "outputs": [],
   "source": [
    "import re\n",
    "HEX_COLOR_PATTERN = re.compile(r'#[0-9a-fA-F]{6}')\n",
    "image_text = HEX_COLOR_PATTERN.sub(get_new_color, image_template_text)\n",
    "open(join(output_folder, 'choropleth.svg'), 'wt').write(image_text)"
   ]
  }
 ],
 "metadata": {
  "kernelspec": {
   "display_name": "Python 3 (ipykernel)",
   "language": "python",
   "name": "python3"
  },
  "language_info": {
   "codemirror_mode": {
    "name": "ipython",
    "version": 3
   },
   "file_extension": ".py",
   "mimetype": "text/x-python",
   "name": "python",
   "nbconvert_exporter": "python",
   "pygments_lexer": "ipython3",
   "version": "3.9.9"
  }
 },
 "nbformat": 4,
 "nbformat_minor": 5
}
