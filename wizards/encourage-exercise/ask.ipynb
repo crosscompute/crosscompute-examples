{
 "cells": [
  {
   "cell_type": "markdown",
   "metadata": {},
   "source": [
    "Would you like to exercise more?\n",
    "- Yes\n",
    "- No\n",
    "\n",
    "{more_exercise}"
   ]
  },
  {
   "cell_type": "code",
   "execution_count": 14,
   "metadata": {},
   "outputs": [],
   "source": [
    "# TODO: Add comments\n",
    "\n",
    "def show_next(more_exercise):\n",
    "    if more_exercise == 'Yes':\n",
    "        return True"
   ]
  },
  {
   "cell_type": "markdown",
   "metadata": {},
   "source": [
    "Name a simple exercise you can do right now and do it.\n",
    "\n",
    "{simple_exercise}"
   ]
  },
  {
   "cell_type": "code",
   "execution_count": 15,
   "metadata": {},
   "outputs": [],
   "source": [
    "def check(simple_exercise):\n",
    "    if simple_exercise.strip() == '':\n",
    "        return False, {'simple_exercise': 'cannot be blank'}"
   ]
  }
 ],
 "metadata": {
  "kernelspec": {
   "display_name": "Python 3",
   "language": "python",
   "name": "python3"
  },
  "language_info": {
   "codemirror_mode": {
    "name": "ipython",
    "version": 3
   },
   "file_extension": ".py",
   "mimetype": "text/x-python",
   "name": "python",
   "nbconvert_exporter": "python",
   "pygments_lexer": "ipython3",
   "version": "3.8.10"
  }
 },
 "nbformat": 4,
 "nbformat_minor": 4
}
